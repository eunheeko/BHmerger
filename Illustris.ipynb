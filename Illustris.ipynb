{
 "cells": [
  {
   "cell_type": "code",
   "execution_count": 2,
   "metadata": {},
   "outputs": [],
   "source": [
    "import os\n",
    "import requests\n",
    "import tqdm\n",
    "import h5py\n",
    "import numpy as np\n",
    "import pandas as pd\n",
    "from astropy.io import ascii\n",
    "import matplotlib.pyplot as plt\n",
    "import gc"
   ]
  },
  {
   "cell_type": "code",
   "execution_count": 3,
   "metadata": {},
   "outputs": [],
   "source": [
    "baseUrl = 'http://www.illustris-project.org/api/'\n",
    "headers = {\"api-key\":\"f96eabbae6f336408a63f875f8cce22f\"}"
   ]
  },
  {
   "cell_type": "code",
   "execution_count": 4,
   "metadata": {},
   "outputs": [],
   "source": [
    "def get(path, params=None):\n",
    "    # make HTTP GET request to path\n",
    "    r = requests.get(path, params=params, headers=headers)\n",
    "    # raise exception if response code is not HTTP SUCCESS (200)\n",
    "    r.raise_for_status()\n",
    "\n",
    "    if r.headers['content-type'] == 'application/json':\n",
    "        return r.json() # parse json responses automatically\n",
    "    return r"
   ]
  },
  {
   "cell_type": "code",
   "execution_count": 5,
   "metadata": {},
   "outputs": [],
   "source": [
    "for obj in gc.get_objects():   # Browse through ALL objects\n",
    "    if isinstance(obj, h5py.File):   # Just HDF5 files\n",
    "        try:\n",
    "            obj.close()\n",
    "        except:\n",
    "            pass # Was already closed"
   ]
  },
  {
   "cell_type": "code",
   "execution_count": 6,
   "metadata": {},
   "outputs": [
    {
     "name": "stderr",
     "output_type": "stream",
     "text": [
      "WARNING: OverflowError converting to IntType in column id_old_prev_in, reverting to String. [astropy.io.ascii.core]\n",
      "WARNING: OverflowError converting to IntType in column id_old_prev_out, reverting to String. [astropy.io.ascii.core]\n",
      "WARNING: OverflowError converting to IntType in column id_old_fin_out, reverting to String. [astropy.io.ascii.core]\n",
      "WARNING: OverflowError converting to IntType in column id_new_prev_in, reverting to String. [astropy.io.ascii.core]\n",
      "WARNING: OverflowError converting to IntType in column id_new_prev_out, reverting to String. [astropy.io.ascii.core]\n",
      "WARNING: OverflowError converting to IntType in column id_new_fin_out, reverting to String. [astropy.io.ascii.core]\n"
     ]
    }
   ],
   "source": [
    "cat = ascii.read('illustris_data/simulation_input_data_lzk.txt')"
   ]
  },
  {
   "cell_type": "markdown",
   "metadata": {
    "heading_collapsed": true
   },
   "source": [
    "# sublink download"
   ]
  },
  {
   "cell_type": "markdown",
   "metadata": {
    "heading_collapsed": true,
    "hidden": true
   },
   "source": [
    "## download address"
   ]
  },
  {
   "cell_type": "code",
   "execution_count": 58,
   "metadata": {
    "hidden": true,
    "hide_input": false
   },
   "outputs": [],
   "source": [
    "#illustris addres\n",
    "illustris = get(baseUrl)\n",
    "illustris_1 = get(illustris['simulations'][0]['url'])\n",
    "sublink = get(illustris_1['files']['sublink'])"
   ]
  },
  {
   "cell_type": "code",
   "execution_count": 59,
   "metadata": {
    "hidden": true,
    "hide_input": false
   },
   "outputs": [],
   "source": [
    "keys = ['DescendantID', 'SnapNum', 'SubfindID', 'SubhaloID', 'SubhaloLenType', 'SubhaloMass', 'SubhaloMassInHalfRad', 'SubhaloMassType', 'TreeID', 'SubhaloSFR']"
   ]
  },
  {
   "cell_type": "code",
   "execution_count": 62,
   "metadata": {
    "hidden": true
   },
   "outputs": [
    {
     "ename": "KeyboardInterrupt",
     "evalue": "",
     "output_type": "error",
     "traceback": [
      "\u001b[0;31m---------------------------------------------------------------------------\u001b[0m",
      "\u001b[0;31mKeyboardInterrupt\u001b[0m                         Traceback (most recent call last)",
      "\u001b[0;32m<ipython-input-62-1fda3a0008ca>\u001b[0m in \u001b[0;36m<module>\u001b[0;34m\u001b[0m\n\u001b[1;32m      1\u001b[0m \u001b[0;32mfor\u001b[0m \u001b[0mi\u001b[0m \u001b[0;32min\u001b[0m \u001b[0mrange\u001b[0m\u001b[0;34m(\u001b[0m\u001b[0;36m0\u001b[0m\u001b[0;34m,\u001b[0m\u001b[0;36m10\u001b[0m\u001b[0;34m)\u001b[0m\u001b[0;34m:\u001b[0m\u001b[0;34m\u001b[0m\u001b[0;34m\u001b[0m\u001b[0m\n\u001b[0;32m----> 2\u001b[0;31m     \u001b[0mtree\u001b[0m \u001b[0;34m=\u001b[0m \u001b[0mget\u001b[0m\u001b[0;34m(\u001b[0m\u001b[0msublink\u001b[0m\u001b[0;34m[\u001b[0m\u001b[0;34m'files'\u001b[0m\u001b[0;34m]\u001b[0m\u001b[0;34m[\u001b[0m\u001b[0mi\u001b[0m\u001b[0;34m]\u001b[0m\u001b[0;34m)\u001b[0m\u001b[0;34m\u001b[0m\u001b[0;34m\u001b[0m\u001b[0m\n\u001b[0m\u001b[1;32m      3\u001b[0m     \u001b[0mprint\u001b[0m\u001b[0;34m(\u001b[0m\u001b[0mi\u001b[0m\u001b[0;34m)\u001b[0m\u001b[0;34m\u001b[0m\u001b[0;34m\u001b[0m\u001b[0m\n\u001b[1;32m      4\u001b[0m     \u001b[0;32mwith\u001b[0m \u001b[0mh5py\u001b[0m\u001b[0;34m.\u001b[0m\u001b[0mFile\u001b[0m\u001b[0;34m(\u001b[0m\u001b[0;34mf'illustris_data/tree_{i}.hdf5'\u001b[0m\u001b[0;34m,\u001b[0m \u001b[0;34m'w'\u001b[0m\u001b[0;34m)\u001b[0m \u001b[0;32mas\u001b[0m \u001b[0mf\u001b[0m\u001b[0;34m:\u001b[0m\u001b[0;34m\u001b[0m\u001b[0;34m\u001b[0m\u001b[0m\n\u001b[1;32m      5\u001b[0m         \u001b[0mf\u001b[0m\u001b[0;34m.\u001b[0m\u001b[0mwrite\u001b[0m\u001b[0;34m(\u001b[0m\u001b[0mtree\u001b[0m\u001b[0;34m.\u001b[0m\u001b[0mcontent\u001b[0m\u001b[0;34m)\u001b[0m\u001b[0;34m\u001b[0m\u001b[0;34m\u001b[0m\u001b[0m\n",
      "\u001b[0;32m<ipython-input-3-a279d91a3da1>\u001b[0m in \u001b[0;36mget\u001b[0;34m(path, params)\u001b[0m\n\u001b[1;32m      1\u001b[0m \u001b[0;32mdef\u001b[0m \u001b[0mget\u001b[0m\u001b[0;34m(\u001b[0m\u001b[0mpath\u001b[0m\u001b[0;34m,\u001b[0m \u001b[0mparams\u001b[0m\u001b[0;34m=\u001b[0m\u001b[0;32mNone\u001b[0m\u001b[0;34m)\u001b[0m\u001b[0;34m:\u001b[0m\u001b[0;34m\u001b[0m\u001b[0;34m\u001b[0m\u001b[0m\n\u001b[1;32m      2\u001b[0m     \u001b[0;31m# make HTTP GET request to path\u001b[0m\u001b[0;34m\u001b[0m\u001b[0;34m\u001b[0m\u001b[0;34m\u001b[0m\u001b[0m\n\u001b[0;32m----> 3\u001b[0;31m     \u001b[0mr\u001b[0m \u001b[0;34m=\u001b[0m \u001b[0mrequests\u001b[0m\u001b[0;34m.\u001b[0m\u001b[0mget\u001b[0m\u001b[0;34m(\u001b[0m\u001b[0mpath\u001b[0m\u001b[0;34m,\u001b[0m \u001b[0mparams\u001b[0m\u001b[0;34m=\u001b[0m\u001b[0mparams\u001b[0m\u001b[0;34m,\u001b[0m \u001b[0mheaders\u001b[0m\u001b[0;34m=\u001b[0m\u001b[0mheaders\u001b[0m\u001b[0;34m)\u001b[0m\u001b[0;34m\u001b[0m\u001b[0;34m\u001b[0m\u001b[0m\n\u001b[0m\u001b[1;32m      4\u001b[0m     \u001b[0;31m# raise exception if response code is not HTTP SUCCESS (200)\u001b[0m\u001b[0;34m\u001b[0m\u001b[0;34m\u001b[0m\u001b[0;34m\u001b[0m\u001b[0m\n\u001b[1;32m      5\u001b[0m     \u001b[0mr\u001b[0m\u001b[0;34m.\u001b[0m\u001b[0mraise_for_status\u001b[0m\u001b[0;34m(\u001b[0m\u001b[0;34m)\u001b[0m\u001b[0;34m\u001b[0m\u001b[0;34m\u001b[0m\u001b[0m\n",
      "\u001b[0;32m~/anaconda3/lib/python3.7/site-packages/requests/api.py\u001b[0m in \u001b[0;36mget\u001b[0;34m(url, params, **kwargs)\u001b[0m\n\u001b[1;32m     74\u001b[0m \u001b[0;34m\u001b[0m\u001b[0m\n\u001b[1;32m     75\u001b[0m     \u001b[0mkwargs\u001b[0m\u001b[0;34m.\u001b[0m\u001b[0msetdefault\u001b[0m\u001b[0;34m(\u001b[0m\u001b[0;34m'allow_redirects'\u001b[0m\u001b[0;34m,\u001b[0m \u001b[0;32mTrue\u001b[0m\u001b[0;34m)\u001b[0m\u001b[0;34m\u001b[0m\u001b[0;34m\u001b[0m\u001b[0m\n\u001b[0;32m---> 76\u001b[0;31m     \u001b[0;32mreturn\u001b[0m \u001b[0mrequest\u001b[0m\u001b[0;34m(\u001b[0m\u001b[0;34m'get'\u001b[0m\u001b[0;34m,\u001b[0m \u001b[0murl\u001b[0m\u001b[0;34m,\u001b[0m \u001b[0mparams\u001b[0m\u001b[0;34m=\u001b[0m\u001b[0mparams\u001b[0m\u001b[0;34m,\u001b[0m \u001b[0;34m**\u001b[0m\u001b[0mkwargs\u001b[0m\u001b[0;34m)\u001b[0m\u001b[0;34m\u001b[0m\u001b[0;34m\u001b[0m\u001b[0m\n\u001b[0m\u001b[1;32m     77\u001b[0m \u001b[0;34m\u001b[0m\u001b[0m\n\u001b[1;32m     78\u001b[0m \u001b[0;34m\u001b[0m\u001b[0m\n",
      "\u001b[0;32m~/anaconda3/lib/python3.7/site-packages/requests/api.py\u001b[0m in \u001b[0;36mrequest\u001b[0;34m(method, url, **kwargs)\u001b[0m\n\u001b[1;32m     59\u001b[0m     \u001b[0;31m# cases, and look like a memory leak in others.\u001b[0m\u001b[0;34m\u001b[0m\u001b[0;34m\u001b[0m\u001b[0;34m\u001b[0m\u001b[0m\n\u001b[1;32m     60\u001b[0m     \u001b[0;32mwith\u001b[0m \u001b[0msessions\u001b[0m\u001b[0;34m.\u001b[0m\u001b[0mSession\u001b[0m\u001b[0;34m(\u001b[0m\u001b[0;34m)\u001b[0m \u001b[0;32mas\u001b[0m \u001b[0msession\u001b[0m\u001b[0;34m:\u001b[0m\u001b[0;34m\u001b[0m\u001b[0;34m\u001b[0m\u001b[0m\n\u001b[0;32m---> 61\u001b[0;31m         \u001b[0;32mreturn\u001b[0m \u001b[0msession\u001b[0m\u001b[0;34m.\u001b[0m\u001b[0mrequest\u001b[0m\u001b[0;34m(\u001b[0m\u001b[0mmethod\u001b[0m\u001b[0;34m=\u001b[0m\u001b[0mmethod\u001b[0m\u001b[0;34m,\u001b[0m \u001b[0murl\u001b[0m\u001b[0;34m=\u001b[0m\u001b[0murl\u001b[0m\u001b[0;34m,\u001b[0m \u001b[0;34m**\u001b[0m\u001b[0mkwargs\u001b[0m\u001b[0;34m)\u001b[0m\u001b[0;34m\u001b[0m\u001b[0;34m\u001b[0m\u001b[0m\n\u001b[0m\u001b[1;32m     62\u001b[0m \u001b[0;34m\u001b[0m\u001b[0m\n\u001b[1;32m     63\u001b[0m \u001b[0;34m\u001b[0m\u001b[0m\n",
      "\u001b[0;32m~/anaconda3/lib/python3.7/site-packages/requests/sessions.py\u001b[0m in \u001b[0;36mrequest\u001b[0;34m(self, method, url, params, data, headers, cookies, files, auth, timeout, allow_redirects, proxies, hooks, stream, verify, cert, json)\u001b[0m\n\u001b[1;32m    528\u001b[0m         }\n\u001b[1;32m    529\u001b[0m         \u001b[0msend_kwargs\u001b[0m\u001b[0;34m.\u001b[0m\u001b[0mupdate\u001b[0m\u001b[0;34m(\u001b[0m\u001b[0msettings\u001b[0m\u001b[0;34m)\u001b[0m\u001b[0;34m\u001b[0m\u001b[0;34m\u001b[0m\u001b[0m\n\u001b[0;32m--> 530\u001b[0;31m         \u001b[0mresp\u001b[0m \u001b[0;34m=\u001b[0m \u001b[0mself\u001b[0m\u001b[0;34m.\u001b[0m\u001b[0msend\u001b[0m\u001b[0;34m(\u001b[0m\u001b[0mprep\u001b[0m\u001b[0;34m,\u001b[0m \u001b[0;34m**\u001b[0m\u001b[0msend_kwargs\u001b[0m\u001b[0;34m)\u001b[0m\u001b[0;34m\u001b[0m\u001b[0;34m\u001b[0m\u001b[0m\n\u001b[0m\u001b[1;32m    531\u001b[0m \u001b[0;34m\u001b[0m\u001b[0m\n\u001b[1;32m    532\u001b[0m         \u001b[0;32mreturn\u001b[0m \u001b[0mresp\u001b[0m\u001b[0;34m\u001b[0m\u001b[0;34m\u001b[0m\u001b[0m\n",
      "\u001b[0;32m~/anaconda3/lib/python3.7/site-packages/requests/sessions.py\u001b[0m in \u001b[0;36msend\u001b[0;34m(self, request, **kwargs)\u001b[0m\n\u001b[1;32m    663\u001b[0m             \u001b[0;31m# Redirect resolving generator.\u001b[0m\u001b[0;34m\u001b[0m\u001b[0;34m\u001b[0m\u001b[0;34m\u001b[0m\u001b[0m\n\u001b[1;32m    664\u001b[0m             \u001b[0mgen\u001b[0m \u001b[0;34m=\u001b[0m \u001b[0mself\u001b[0m\u001b[0;34m.\u001b[0m\u001b[0mresolve_redirects\u001b[0m\u001b[0;34m(\u001b[0m\u001b[0mr\u001b[0m\u001b[0;34m,\u001b[0m \u001b[0mrequest\u001b[0m\u001b[0;34m,\u001b[0m \u001b[0;34m**\u001b[0m\u001b[0mkwargs\u001b[0m\u001b[0;34m)\u001b[0m\u001b[0;34m\u001b[0m\u001b[0;34m\u001b[0m\u001b[0m\n\u001b[0;32m--> 665\u001b[0;31m             \u001b[0mhistory\u001b[0m \u001b[0;34m=\u001b[0m \u001b[0;34m[\u001b[0m\u001b[0mresp\u001b[0m \u001b[0;32mfor\u001b[0m \u001b[0mresp\u001b[0m \u001b[0;32min\u001b[0m \u001b[0mgen\u001b[0m\u001b[0;34m]\u001b[0m\u001b[0;34m\u001b[0m\u001b[0;34m\u001b[0m\u001b[0m\n\u001b[0m\u001b[1;32m    666\u001b[0m         \u001b[0;32melse\u001b[0m\u001b[0;34m:\u001b[0m\u001b[0;34m\u001b[0m\u001b[0;34m\u001b[0m\u001b[0m\n\u001b[1;32m    667\u001b[0m             \u001b[0mhistory\u001b[0m \u001b[0;34m=\u001b[0m \u001b[0;34m[\u001b[0m\u001b[0;34m]\u001b[0m\u001b[0;34m\u001b[0m\u001b[0;34m\u001b[0m\u001b[0m\n",
      "\u001b[0;32m~/anaconda3/lib/python3.7/site-packages/requests/sessions.py\u001b[0m in \u001b[0;36m<listcomp>\u001b[0;34m(.0)\u001b[0m\n\u001b[1;32m    663\u001b[0m             \u001b[0;31m# Redirect resolving generator.\u001b[0m\u001b[0;34m\u001b[0m\u001b[0;34m\u001b[0m\u001b[0;34m\u001b[0m\u001b[0m\n\u001b[1;32m    664\u001b[0m             \u001b[0mgen\u001b[0m \u001b[0;34m=\u001b[0m \u001b[0mself\u001b[0m\u001b[0;34m.\u001b[0m\u001b[0mresolve_redirects\u001b[0m\u001b[0;34m(\u001b[0m\u001b[0mr\u001b[0m\u001b[0;34m,\u001b[0m \u001b[0mrequest\u001b[0m\u001b[0;34m,\u001b[0m \u001b[0;34m**\u001b[0m\u001b[0mkwargs\u001b[0m\u001b[0;34m)\u001b[0m\u001b[0;34m\u001b[0m\u001b[0;34m\u001b[0m\u001b[0m\n\u001b[0;32m--> 665\u001b[0;31m             \u001b[0mhistory\u001b[0m \u001b[0;34m=\u001b[0m \u001b[0;34m[\u001b[0m\u001b[0mresp\u001b[0m \u001b[0;32mfor\u001b[0m \u001b[0mresp\u001b[0m \u001b[0;32min\u001b[0m \u001b[0mgen\u001b[0m\u001b[0;34m]\u001b[0m\u001b[0;34m\u001b[0m\u001b[0;34m\u001b[0m\u001b[0m\n\u001b[0m\u001b[1;32m    666\u001b[0m         \u001b[0;32melse\u001b[0m\u001b[0;34m:\u001b[0m\u001b[0;34m\u001b[0m\u001b[0;34m\u001b[0m\u001b[0m\n\u001b[1;32m    667\u001b[0m             \u001b[0mhistory\u001b[0m \u001b[0;34m=\u001b[0m \u001b[0;34m[\u001b[0m\u001b[0;34m]\u001b[0m\u001b[0;34m\u001b[0m\u001b[0;34m\u001b[0m\u001b[0m\n",
      "\u001b[0;32m~/anaconda3/lib/python3.7/site-packages/requests/sessions.py\u001b[0m in \u001b[0;36mresolve_redirects\u001b[0;34m(self, resp, req, stream, timeout, verify, cert, proxies, yield_requests, **adapter_kwargs)\u001b[0m\n\u001b[1;32m    243\u001b[0m                     \u001b[0mproxies\u001b[0m\u001b[0;34m=\u001b[0m\u001b[0mproxies\u001b[0m\u001b[0;34m,\u001b[0m\u001b[0;34m\u001b[0m\u001b[0;34m\u001b[0m\u001b[0m\n\u001b[1;32m    244\u001b[0m                     \u001b[0mallow_redirects\u001b[0m\u001b[0;34m=\u001b[0m\u001b[0;32mFalse\u001b[0m\u001b[0;34m,\u001b[0m\u001b[0;34m\u001b[0m\u001b[0;34m\u001b[0m\u001b[0m\n\u001b[0;32m--> 245\u001b[0;31m                     \u001b[0;34m**\u001b[0m\u001b[0madapter_kwargs\u001b[0m\u001b[0;34m\u001b[0m\u001b[0;34m\u001b[0m\u001b[0m\n\u001b[0m\u001b[1;32m    246\u001b[0m                 )\n\u001b[1;32m    247\u001b[0m \u001b[0;34m\u001b[0m\u001b[0m\n",
      "\u001b[0;32m~/anaconda3/lib/python3.7/site-packages/requests/sessions.py\u001b[0m in \u001b[0;36msend\u001b[0;34m(self, request, **kwargs)\u001b[0m\n\u001b[1;32m    683\u001b[0m \u001b[0;34m\u001b[0m\u001b[0m\n\u001b[1;32m    684\u001b[0m         \u001b[0;32mif\u001b[0m \u001b[0;32mnot\u001b[0m \u001b[0mstream\u001b[0m\u001b[0;34m:\u001b[0m\u001b[0;34m\u001b[0m\u001b[0;34m\u001b[0m\u001b[0m\n\u001b[0;32m--> 685\u001b[0;31m             \u001b[0mr\u001b[0m\u001b[0;34m.\u001b[0m\u001b[0mcontent\u001b[0m\u001b[0;34m\u001b[0m\u001b[0;34m\u001b[0m\u001b[0m\n\u001b[0m\u001b[1;32m    686\u001b[0m \u001b[0;34m\u001b[0m\u001b[0m\n\u001b[1;32m    687\u001b[0m         \u001b[0;32mreturn\u001b[0m \u001b[0mr\u001b[0m\u001b[0;34m\u001b[0m\u001b[0;34m\u001b[0m\u001b[0m\n",
      "\u001b[0;32m~/anaconda3/lib/python3.7/site-packages/requests/models.py\u001b[0m in \u001b[0;36mcontent\u001b[0;34m(self)\u001b[0m\n\u001b[1;32m    827\u001b[0m                 \u001b[0mself\u001b[0m\u001b[0;34m.\u001b[0m\u001b[0m_content\u001b[0m \u001b[0;34m=\u001b[0m \u001b[0;32mNone\u001b[0m\u001b[0;34m\u001b[0m\u001b[0;34m\u001b[0m\u001b[0m\n\u001b[1;32m    828\u001b[0m             \u001b[0;32melse\u001b[0m\u001b[0;34m:\u001b[0m\u001b[0;34m\u001b[0m\u001b[0;34m\u001b[0m\u001b[0m\n\u001b[0;32m--> 829\u001b[0;31m                 \u001b[0mself\u001b[0m\u001b[0;34m.\u001b[0m\u001b[0m_content\u001b[0m \u001b[0;34m=\u001b[0m \u001b[0;34mb''\u001b[0m\u001b[0;34m.\u001b[0m\u001b[0mjoin\u001b[0m\u001b[0;34m(\u001b[0m\u001b[0mself\u001b[0m\u001b[0;34m.\u001b[0m\u001b[0miter_content\u001b[0m\u001b[0;34m(\u001b[0m\u001b[0mCONTENT_CHUNK_SIZE\u001b[0m\u001b[0;34m)\u001b[0m\u001b[0;34m)\u001b[0m \u001b[0;32mor\u001b[0m \u001b[0;34mb''\u001b[0m\u001b[0;34m\u001b[0m\u001b[0;34m\u001b[0m\u001b[0m\n\u001b[0m\u001b[1;32m    830\u001b[0m \u001b[0;34m\u001b[0m\u001b[0m\n\u001b[1;32m    831\u001b[0m         \u001b[0mself\u001b[0m\u001b[0;34m.\u001b[0m\u001b[0m_content_consumed\u001b[0m \u001b[0;34m=\u001b[0m \u001b[0;32mTrue\u001b[0m\u001b[0;34m\u001b[0m\u001b[0;34m\u001b[0m\u001b[0m\n",
      "\u001b[0;32m~/anaconda3/lib/python3.7/site-packages/requests/models.py\u001b[0m in \u001b[0;36mgenerate\u001b[0;34m()\u001b[0m\n\u001b[1;32m    749\u001b[0m             \u001b[0;32mif\u001b[0m \u001b[0mhasattr\u001b[0m\u001b[0;34m(\u001b[0m\u001b[0mself\u001b[0m\u001b[0;34m.\u001b[0m\u001b[0mraw\u001b[0m\u001b[0;34m,\u001b[0m \u001b[0;34m'stream'\u001b[0m\u001b[0;34m)\u001b[0m\u001b[0;34m:\u001b[0m\u001b[0;34m\u001b[0m\u001b[0;34m\u001b[0m\u001b[0m\n\u001b[1;32m    750\u001b[0m                 \u001b[0;32mtry\u001b[0m\u001b[0;34m:\u001b[0m\u001b[0;34m\u001b[0m\u001b[0;34m\u001b[0m\u001b[0m\n\u001b[0;32m--> 751\u001b[0;31m                     \u001b[0;32mfor\u001b[0m \u001b[0mchunk\u001b[0m \u001b[0;32min\u001b[0m \u001b[0mself\u001b[0m\u001b[0;34m.\u001b[0m\u001b[0mraw\u001b[0m\u001b[0;34m.\u001b[0m\u001b[0mstream\u001b[0m\u001b[0;34m(\u001b[0m\u001b[0mchunk_size\u001b[0m\u001b[0;34m,\u001b[0m \u001b[0mdecode_content\u001b[0m\u001b[0;34m=\u001b[0m\u001b[0;32mTrue\u001b[0m\u001b[0;34m)\u001b[0m\u001b[0;34m:\u001b[0m\u001b[0;34m\u001b[0m\u001b[0;34m\u001b[0m\u001b[0m\n\u001b[0m\u001b[1;32m    752\u001b[0m                         \u001b[0;32myield\u001b[0m \u001b[0mchunk\u001b[0m\u001b[0;34m\u001b[0m\u001b[0;34m\u001b[0m\u001b[0m\n\u001b[1;32m    753\u001b[0m                 \u001b[0;32mexcept\u001b[0m \u001b[0mProtocolError\u001b[0m \u001b[0;32mas\u001b[0m \u001b[0me\u001b[0m\u001b[0;34m:\u001b[0m\u001b[0;34m\u001b[0m\u001b[0;34m\u001b[0m\u001b[0m\n",
      "\u001b[0;32m~/anaconda3/lib/python3.7/site-packages/urllib3/response.py\u001b[0m in \u001b[0;36mstream\u001b[0;34m(self, amt, decode_content)\u001b[0m\n\u001b[1;32m    574\u001b[0m         \u001b[0;32melse\u001b[0m\u001b[0;34m:\u001b[0m\u001b[0;34m\u001b[0m\u001b[0;34m\u001b[0m\u001b[0m\n\u001b[1;32m    575\u001b[0m             \u001b[0;32mwhile\u001b[0m \u001b[0;32mnot\u001b[0m \u001b[0mis_fp_closed\u001b[0m\u001b[0;34m(\u001b[0m\u001b[0mself\u001b[0m\u001b[0;34m.\u001b[0m\u001b[0m_fp\u001b[0m\u001b[0;34m)\u001b[0m\u001b[0;34m:\u001b[0m\u001b[0;34m\u001b[0m\u001b[0;34m\u001b[0m\u001b[0m\n\u001b[0;32m--> 576\u001b[0;31m                 \u001b[0mdata\u001b[0m \u001b[0;34m=\u001b[0m \u001b[0mself\u001b[0m\u001b[0;34m.\u001b[0m\u001b[0mread\u001b[0m\u001b[0;34m(\u001b[0m\u001b[0mamt\u001b[0m\u001b[0;34m=\u001b[0m\u001b[0mamt\u001b[0m\u001b[0;34m,\u001b[0m \u001b[0mdecode_content\u001b[0m\u001b[0;34m=\u001b[0m\u001b[0mdecode_content\u001b[0m\u001b[0;34m)\u001b[0m\u001b[0;34m\u001b[0m\u001b[0;34m\u001b[0m\u001b[0m\n\u001b[0m\u001b[1;32m    577\u001b[0m \u001b[0;34m\u001b[0m\u001b[0m\n\u001b[1;32m    578\u001b[0m                 \u001b[0;32mif\u001b[0m \u001b[0mdata\u001b[0m\u001b[0;34m:\u001b[0m\u001b[0;34m\u001b[0m\u001b[0;34m\u001b[0m\u001b[0m\n",
      "\u001b[0;32m~/anaconda3/lib/python3.7/site-packages/urllib3/response.py\u001b[0m in \u001b[0;36mread\u001b[0;34m(self, amt, decode_content, cache_content)\u001b[0m\n\u001b[1;32m    517\u001b[0m             \u001b[0;32melse\u001b[0m\u001b[0;34m:\u001b[0m\u001b[0;34m\u001b[0m\u001b[0;34m\u001b[0m\u001b[0m\n\u001b[1;32m    518\u001b[0m                 \u001b[0mcache_content\u001b[0m \u001b[0;34m=\u001b[0m \u001b[0;32mFalse\u001b[0m\u001b[0;34m\u001b[0m\u001b[0;34m\u001b[0m\u001b[0m\n\u001b[0;32m--> 519\u001b[0;31m                 \u001b[0mdata\u001b[0m \u001b[0;34m=\u001b[0m \u001b[0mself\u001b[0m\u001b[0;34m.\u001b[0m\u001b[0m_fp\u001b[0m\u001b[0;34m.\u001b[0m\u001b[0mread\u001b[0m\u001b[0;34m(\u001b[0m\u001b[0mamt\u001b[0m\u001b[0;34m)\u001b[0m \u001b[0;32mif\u001b[0m \u001b[0;32mnot\u001b[0m \u001b[0mfp_closed\u001b[0m \u001b[0;32melse\u001b[0m \u001b[0;34mb\"\"\u001b[0m\u001b[0;34m\u001b[0m\u001b[0;34m\u001b[0m\u001b[0m\n\u001b[0m\u001b[1;32m    520\u001b[0m                 if (\n\u001b[1;32m    521\u001b[0m                     \u001b[0mamt\u001b[0m \u001b[0;34m!=\u001b[0m \u001b[0;36m0\u001b[0m \u001b[0;32mand\u001b[0m \u001b[0;32mnot\u001b[0m \u001b[0mdata\u001b[0m\u001b[0;34m\u001b[0m\u001b[0;34m\u001b[0m\u001b[0m\n",
      "\u001b[0;32m~/anaconda3/lib/python3.7/http/client.py\u001b[0m in \u001b[0;36mread\u001b[0;34m(self, amt)\u001b[0m\n\u001b[1;32m    455\u001b[0m             \u001b[0;31m# Amount is given, implement using readinto\u001b[0m\u001b[0;34m\u001b[0m\u001b[0;34m\u001b[0m\u001b[0;34m\u001b[0m\u001b[0m\n\u001b[1;32m    456\u001b[0m             \u001b[0mb\u001b[0m \u001b[0;34m=\u001b[0m \u001b[0mbytearray\u001b[0m\u001b[0;34m(\u001b[0m\u001b[0mamt\u001b[0m\u001b[0;34m)\u001b[0m\u001b[0;34m\u001b[0m\u001b[0;34m\u001b[0m\u001b[0m\n\u001b[0;32m--> 457\u001b[0;31m             \u001b[0mn\u001b[0m \u001b[0;34m=\u001b[0m \u001b[0mself\u001b[0m\u001b[0;34m.\u001b[0m\u001b[0mreadinto\u001b[0m\u001b[0;34m(\u001b[0m\u001b[0mb\u001b[0m\u001b[0;34m)\u001b[0m\u001b[0;34m\u001b[0m\u001b[0;34m\u001b[0m\u001b[0m\n\u001b[0m\u001b[1;32m    458\u001b[0m             \u001b[0;32mreturn\u001b[0m \u001b[0mmemoryview\u001b[0m\u001b[0;34m(\u001b[0m\u001b[0mb\u001b[0m\u001b[0;34m)\u001b[0m\u001b[0;34m[\u001b[0m\u001b[0;34m:\u001b[0m\u001b[0mn\u001b[0m\u001b[0;34m]\u001b[0m\u001b[0;34m.\u001b[0m\u001b[0mtobytes\u001b[0m\u001b[0;34m(\u001b[0m\u001b[0;34m)\u001b[0m\u001b[0;34m\u001b[0m\u001b[0;34m\u001b[0m\u001b[0m\n\u001b[1;32m    459\u001b[0m         \u001b[0;32melse\u001b[0m\u001b[0;34m:\u001b[0m\u001b[0;34m\u001b[0m\u001b[0;34m\u001b[0m\u001b[0m\n",
      "\u001b[0;32m~/anaconda3/lib/python3.7/http/client.py\u001b[0m in \u001b[0;36mreadinto\u001b[0;34m(self, b)\u001b[0m\n\u001b[1;32m    499\u001b[0m         \u001b[0;31m# connection, and the user is reading more bytes than will be provided\u001b[0m\u001b[0;34m\u001b[0m\u001b[0;34m\u001b[0m\u001b[0;34m\u001b[0m\u001b[0m\n\u001b[1;32m    500\u001b[0m         \u001b[0;31m# (for example, reading in 1k chunks)\u001b[0m\u001b[0;34m\u001b[0m\u001b[0;34m\u001b[0m\u001b[0;34m\u001b[0m\u001b[0m\n\u001b[0;32m--> 501\u001b[0;31m         \u001b[0mn\u001b[0m \u001b[0;34m=\u001b[0m \u001b[0mself\u001b[0m\u001b[0;34m.\u001b[0m\u001b[0mfp\u001b[0m\u001b[0;34m.\u001b[0m\u001b[0mreadinto\u001b[0m\u001b[0;34m(\u001b[0m\u001b[0mb\u001b[0m\u001b[0;34m)\u001b[0m\u001b[0;34m\u001b[0m\u001b[0;34m\u001b[0m\u001b[0m\n\u001b[0m\u001b[1;32m    502\u001b[0m         \u001b[0;32mif\u001b[0m \u001b[0;32mnot\u001b[0m \u001b[0mn\u001b[0m \u001b[0;32mand\u001b[0m \u001b[0mb\u001b[0m\u001b[0;34m:\u001b[0m\u001b[0;34m\u001b[0m\u001b[0;34m\u001b[0m\u001b[0m\n\u001b[1;32m    503\u001b[0m             \u001b[0;31m# Ideally, we would raise IncompleteRead if the content-length\u001b[0m\u001b[0;34m\u001b[0m\u001b[0;34m\u001b[0m\u001b[0;34m\u001b[0m\u001b[0m\n",
      "\u001b[0;32m~/anaconda3/lib/python3.7/socket.py\u001b[0m in \u001b[0;36mreadinto\u001b[0;34m(self, b)\u001b[0m\n\u001b[1;32m    587\u001b[0m         \u001b[0;32mwhile\u001b[0m \u001b[0;32mTrue\u001b[0m\u001b[0;34m:\u001b[0m\u001b[0;34m\u001b[0m\u001b[0;34m\u001b[0m\u001b[0m\n\u001b[1;32m    588\u001b[0m             \u001b[0;32mtry\u001b[0m\u001b[0;34m:\u001b[0m\u001b[0;34m\u001b[0m\u001b[0;34m\u001b[0m\u001b[0m\n\u001b[0;32m--> 589\u001b[0;31m                 \u001b[0;32mreturn\u001b[0m \u001b[0mself\u001b[0m\u001b[0;34m.\u001b[0m\u001b[0m_sock\u001b[0m\u001b[0;34m.\u001b[0m\u001b[0mrecv_into\u001b[0m\u001b[0;34m(\u001b[0m\u001b[0mb\u001b[0m\u001b[0;34m)\u001b[0m\u001b[0;34m\u001b[0m\u001b[0;34m\u001b[0m\u001b[0m\n\u001b[0m\u001b[1;32m    590\u001b[0m             \u001b[0;32mexcept\u001b[0m \u001b[0mtimeout\u001b[0m\u001b[0;34m:\u001b[0m\u001b[0;34m\u001b[0m\u001b[0;34m\u001b[0m\u001b[0m\n\u001b[1;32m    591\u001b[0m                 \u001b[0mself\u001b[0m\u001b[0;34m.\u001b[0m\u001b[0m_timeout_occurred\u001b[0m \u001b[0;34m=\u001b[0m \u001b[0;32mTrue\u001b[0m\u001b[0;34m\u001b[0m\u001b[0;34m\u001b[0m\u001b[0m\n",
      "\u001b[0;32m~/anaconda3/lib/python3.7/ssl.py\u001b[0m in \u001b[0;36mrecv_into\u001b[0;34m(self, buffer, nbytes, flags)\u001b[0m\n\u001b[1;32m   1069\u001b[0m                   \u001b[0;34m\"non-zero flags not allowed in calls to recv_into() on %s\"\u001b[0m \u001b[0;34m%\u001b[0m\u001b[0;34m\u001b[0m\u001b[0;34m\u001b[0m\u001b[0m\n\u001b[1;32m   1070\u001b[0m                   self.__class__)\n\u001b[0;32m-> 1071\u001b[0;31m             \u001b[0;32mreturn\u001b[0m \u001b[0mself\u001b[0m\u001b[0;34m.\u001b[0m\u001b[0mread\u001b[0m\u001b[0;34m(\u001b[0m\u001b[0mnbytes\u001b[0m\u001b[0;34m,\u001b[0m \u001b[0mbuffer\u001b[0m\u001b[0;34m)\u001b[0m\u001b[0;34m\u001b[0m\u001b[0;34m\u001b[0m\u001b[0m\n\u001b[0m\u001b[1;32m   1072\u001b[0m         \u001b[0;32melse\u001b[0m\u001b[0;34m:\u001b[0m\u001b[0;34m\u001b[0m\u001b[0;34m\u001b[0m\u001b[0m\n\u001b[1;32m   1073\u001b[0m             \u001b[0;32mreturn\u001b[0m \u001b[0msuper\u001b[0m\u001b[0;34m(\u001b[0m\u001b[0;34m)\u001b[0m\u001b[0;34m.\u001b[0m\u001b[0mrecv_into\u001b[0m\u001b[0;34m(\u001b[0m\u001b[0mbuffer\u001b[0m\u001b[0;34m,\u001b[0m \u001b[0mnbytes\u001b[0m\u001b[0;34m,\u001b[0m \u001b[0mflags\u001b[0m\u001b[0;34m)\u001b[0m\u001b[0;34m\u001b[0m\u001b[0;34m\u001b[0m\u001b[0m\n",
      "\u001b[0;32m~/anaconda3/lib/python3.7/ssl.py\u001b[0m in \u001b[0;36mread\u001b[0;34m(self, len, buffer)\u001b[0m\n\u001b[1;32m    927\u001b[0m         \u001b[0;32mtry\u001b[0m\u001b[0;34m:\u001b[0m\u001b[0;34m\u001b[0m\u001b[0;34m\u001b[0m\u001b[0m\n\u001b[1;32m    928\u001b[0m             \u001b[0;32mif\u001b[0m \u001b[0mbuffer\u001b[0m \u001b[0;32mis\u001b[0m \u001b[0;32mnot\u001b[0m \u001b[0;32mNone\u001b[0m\u001b[0;34m:\u001b[0m\u001b[0;34m\u001b[0m\u001b[0;34m\u001b[0m\u001b[0m\n\u001b[0;32m--> 929\u001b[0;31m                 \u001b[0;32mreturn\u001b[0m \u001b[0mself\u001b[0m\u001b[0;34m.\u001b[0m\u001b[0m_sslobj\u001b[0m\u001b[0;34m.\u001b[0m\u001b[0mread\u001b[0m\u001b[0;34m(\u001b[0m\u001b[0mlen\u001b[0m\u001b[0;34m,\u001b[0m \u001b[0mbuffer\u001b[0m\u001b[0;34m)\u001b[0m\u001b[0;34m\u001b[0m\u001b[0;34m\u001b[0m\u001b[0m\n\u001b[0m\u001b[1;32m    930\u001b[0m             \u001b[0;32melse\u001b[0m\u001b[0;34m:\u001b[0m\u001b[0;34m\u001b[0m\u001b[0;34m\u001b[0m\u001b[0m\n\u001b[1;32m    931\u001b[0m                 \u001b[0;32mreturn\u001b[0m \u001b[0mself\u001b[0m\u001b[0;34m.\u001b[0m\u001b[0m_sslobj\u001b[0m\u001b[0;34m.\u001b[0m\u001b[0mread\u001b[0m\u001b[0;34m(\u001b[0m\u001b[0mlen\u001b[0m\u001b[0;34m)\u001b[0m\u001b[0;34m\u001b[0m\u001b[0;34m\u001b[0m\u001b[0m\n",
      "\u001b[0;31mKeyboardInterrupt\u001b[0m: "
     ]
    }
   ],
   "source": [
    "for i in range(0,10):\n",
    "    tree = get(sublink['files'][i])\n",
    "    print(i)\n",
    "    with h5py.File(f'illustris_data/tree_{i}.hdf5', 'w') as f:\n",
    "        f.write(tree.content)\n",
    "        "
   ]
  },
  {
   "cell_type": "code",
   "execution_count": 61,
   "metadata": {
    "hidden": true
   },
   "outputs": [
    {
     "data": {
      "text/plain": [
       "['http://www.illustris-project.org/api/Illustris-1/files/sublink.0.hdf5',\n",
       " 'http://www.illustris-project.org/api/Illustris-1/files/sublink.1.hdf5',\n",
       " 'http://www.illustris-project.org/api/Illustris-1/files/sublink.2.hdf5',\n",
       " 'http://www.illustris-project.org/api/Illustris-1/files/sublink.3.hdf5',\n",
       " 'http://www.illustris-project.org/api/Illustris-1/files/sublink.4.hdf5',\n",
       " 'http://www.illustris-project.org/api/Illustris-1/files/sublink.5.hdf5',\n",
       " 'http://www.illustris-project.org/api/Illustris-1/files/sublink.6.hdf5',\n",
       " 'http://www.illustris-project.org/api/Illustris-1/files/sublink.7.hdf5',\n",
       " 'http://www.illustris-project.org/api/Illustris-1/files/sublink.8.hdf5',\n",
       " 'http://www.illustris-project.org/api/Illustris-1/files/sublink.9.hdf5']"
      ]
     },
     "execution_count": 61,
     "metadata": {},
     "output_type": "execute_result"
    }
   ],
   "source": [
    "sublink['files']"
   ]
  },
  {
   "cell_type": "code",
   "execution_count": null,
   "metadata": {
    "hidden": true
   },
   "outputs": [],
   "source": []
  },
  {
   "cell_type": "markdown",
   "metadata": {
    "heading_collapsed": true,
    "hidden": true
   },
   "source": [
    "## merge sublink files into 'tree_total.hdf5'"
   ]
  },
  {
   "cell_type": "code",
   "execution_count": null,
   "metadata": {
    "hidden": true,
    "hide_input": false
   },
   "outputs": [],
   "source": [
    "#merge sublink files into 'tree_total.hdf5'\n",
    "tree_total = {key:[] for key in keys}\n",
    "\n",
    "for i in range(0, 10):\n",
    "    name = f'tree_{i}.hdf5'\n",
    "    \n",
    "    f =  h5py.File(name, 'r') \n",
    "    for key in keys:\n",
    "        tree_total[key].append(f[key][:])"
   ]
  },
  {
   "cell_type": "code",
   "execution_count": null,
   "metadata": {
    "hidden": true,
    "hide_input": false
   },
   "outputs": [],
   "source": [
    "tree_total = {key: np.concatenate(tree_total[key], axis=0) for key in keys}\n",
    "\n",
    "with h5py.File('illustris_data/tree_total.hdf5', 'w') as new:\n",
    "    for key in keys:\n",
    "        print(key)\n",
    "        new.create_dataset(key, data = tree_total[key], dtype = tree_total[key].dtype.name, chunks = True, compression = 'gzip', compression_opts = 9)"
   ]
  },
  {
   "cell_type": "markdown",
   "metadata": {
    "heading_collapsed": true,
    "hidden": true
   },
   "source": [
    "## sublink indice: subhalo ID & corresponding descendant ID 'tree_total_new'"
   ]
  },
  {
   "cell_type": "code",
   "execution_count": null,
   "metadata": {
    "code_folding": [
     0
    ],
    "hidden": true
   },
   "outputs": [],
   "source": [
    "# subhalo ID and correesponding descendantID\n",
    "#first 6 files because there are no bhs beyond that"
   ]
  },
  {
   "cell_type": "code",
   "execution_count": 12,
   "metadata": {
    "hidden": true
   },
   "outputs": [],
   "source": [
    "#sublink indices\n",
    "#subhalo ID & corresponding descendant ID\n",
    "\n",
    "descendent_id = []\n",
    "subhalo_id = []\n",
    "\n",
    "last_id = 0\n",
    "\n",
    "\n",
    "for i in range(0,6):\n",
    "    name = f'tree_{i}.hdf5'\n",
    "    \n",
    "    with h5py.File(name, 'r') as f:\n",
    "        unique, ids = np.unique(f['TreeID'][:], return_index = True)\n",
    "        length = len(unique)\n",
    "        print(i)\n",
    "        for j in range(length):\n",
    "            \n",
    "            subtract_ids = f['SubhaloID'][ids[j]] - last_id\n",
    "            \n",
    "            if j+1 == length:\n",
    "                \n",
    "                diff = len(f['SubhaloID'][:]) - ids[j]\n",
    "\n",
    "                descendent_id.append((f['DescendantID'][ids[j]::] - subtract_ids) * (f['DescendantID'][ids[j]::] != -1) + -1*(f['DescendantID'][ids[j]::] == -1))\n",
    "                subhalo_id.append(f['SubhaloID'][ids[j]::] - subtract_ids)\n",
    "            else:\n",
    "\n",
    "                diff = ids[j+1] - ids[j]\n",
    "                descendent_id.append((f['DescendantID'][ids[j]:ids[j+1]] - subtract_ids) * (f['DescendantID'][ids[j]:ids[j+1]] != -1) + -1 *(f['DescendantID'][ids[j]:ids[j+1]] == -1))\n",
    "                subhalo_id.append(f['SubhaloID'][ids[j]:ids[j+1]] - subtract_ids)\n",
    "                \n",
    "            last_id = last_id + diff\n",
    "    \n",
    "descendent_id = np.concatenate(descendent_id)\n",
    "subhalo_id = np.concatenate(subhalo_id)\n",
    "    "
   ]
  },
  {
   "cell_type": "code",
   "execution_count": null,
   "metadata": {
    "hidden": true,
    "hide_input": false
   },
   "outputs": [],
   "source": [
    "name_new = f'illustris_data/tree_total_new.hdf5'\n",
    "with h5py.File(name_new, 'w') as f:\n",
    "    f.create_dataset('Descendant_index', data = descendent_id, dtype = descendent_id.dtype.name, chunks = True, compression = 'gzip', compression_opts = 9)\n",
    "    f.create_dataset('Subhalo_index', data = subhalo_id, dtype = subhalo_id.dtype.name, chunks = True, compression = 'gzip', compression_opts = 9)\n",
    "    "
   ]
  },
  {
   "cell_type": "markdown",
   "metadata": {
    "heading_collapsed": true,
    "hide_input": true
   },
   "source": [
    "# snapshot & group catalog download"
   ]
  },
  {
   "cell_type": "markdown",
   "metadata": {
    "heading_collapsed": true,
    "hidden": true
   },
   "source": [
    "## download snapshot & groupcat header files"
   ]
  },
  {
   "cell_type": "code",
   "execution_count": null,
   "metadata": {
    "hidden": true
   },
   "outputs": [],
   "source": [
    "#snapshot\n",
    "path_list = [f'illustris_data/snap{x:d}' for x in range(30,136)]\n",
    "\n",
    "for path in path_list:\n",
    "    os.mkdir(path)\n",
    "\n",
    "for j in range(30, 136):\n",
    "    for i in range(0, 512):\n",
    "        bhs = baseUrl + f'Illustris-1/files/snapshot-{j:d}.{i:d}.hdf5?bhs=all'\n",
    "        result = get(bhs)\n",
    "    \n",
    "        filename = f'illustris_data/snap{j:d}/' + result.headers['content-disposition'].split(\"filename=\")[1]\n",
    "        with open(filename, 'wb') as f:\n",
    "            f.write(result.content)    \n",
    "\n",
    "#groupcat header\n",
    "path_list2 = [f'illustris_data/group{x:d}' for x in range(30,136)]\n",
    "for path in path_list2:\n",
    "    os.mkdir(path)\n",
    "\n",
    "for j in range(30, 136):\n",
    "    for i in range(0, 512):\n",
    "        bhs = baseUrl + f'Illustris-1/files/groupcat-{j:d}.{i:d}.hdf5'\n",
    "        result = get(bhs)\n",
    "    \n",
    "        filename = f'illustris_data/group{j:d}/' + result.headers['content-disposition'].split(\"filename=\")[1]\n",
    "        with open(filename, 'wb') as f:\n",
    "            f.write(result.content)"
   ]
  },
  {
   "cell_type": "markdown",
   "metadata": {
    "heading_collapsed": true,
    "hidden": true
   },
   "source": [
    "## bh particles in subhalo?: bh_subs_total"
   ]
  },
  {
   "cell_type": "code",
   "execution_count": 6,
   "metadata": {
    "hidden": true
   },
   "outputs": [
    {
     "name": "stderr",
     "output_type": "stream",
     "text": [
      "/home/ehko/anaconda3/lib/python3.7/site-packages/ipykernel_launcher.py:1: H5pyDeprecationWarning: The default file mode will change to 'r' (read-only) in h5py 3.0. To suppress this warning, pass the mode you need to h5py.File(), or set the global default h5.get_config().default_file_mode, or set the environment variable H5PY_DEFAULT_READONLY=1. Available modes are: 'r', 'r+', 'w', 'w-'/'x', 'a'. See the docs for details.\n",
      "  \"\"\"Entry point for launching an IPython kernel.\n"
     ]
    }
   ],
   "source": [
    "groupcat = h5py.File('illustris_data/groupcat_total_final.hdf5')"
   ]
  },
  {
   "cell_type": "code",
   "execution_count": 7,
   "metadata": {
    "hidden": true
   },
   "outputs": [],
   "source": [
    "def init_bh_dict():\n",
    "    h = 0.704\n",
    "    bh_snap = {\n",
    "                'BH_CumEgyInjection_QM': {'unit': r'$M_odot/(ckpc^2\\ Gyr^2)$', 'dtype': 'f', 'cf': 1e10/(0.978**2*h), 'values': []},\n",
    "                'BH_CumMassGrowth_QM': {'unit': r'$M_\\odot$', 'dtype': 'f', 'cf': 1e10/h, 'values': []},\n",
    "                'BH_Density': {'unit': r'$M_\\odot/ckpc^3$', 'dtype': 'f', 'cf': 1e10*h**2, 'values': []},\n",
    "                'BH_Hsml': {'unit': 'ckpc', 'dtype': 'f', 'cf': 1/h, 'values': []},\n",
    "                'BH_Mass': {'unit': r'$M_\\odot$', 'dtype': 'f', 'cf': 1e10/h, 'values': []},\n",
    "                'BH_Mass_bubbles': {'unit': r'$M_\\odot$', 'dtype': 'f', 'cf': 1e10/h, 'values': []},\n",
    "                'BH_Mass_ini': {'unit': r'$M_\\odot$', 'dtype': 'f', 'cf': 1e10/h, 'values': []},\n",
    "                'BH_Mdot': {'unit': r'$M_\\odot$/year', 'dtype': 'f', 'cf': 10.22, 'values': []},\n",
    "                'BH_Pressure': {'unit': r'$M_odot/(ckpc\\ Gyr^2)$', 'dtype': 'f', 'cf': 1e10*h**3/(0.978**2), 'values': []},\n",
    "                'BH_Progs': {'unit': 'None', 'dtype': 'i', 'cf': 'None', 'values': []},\n",
    "                'BH_U': {'unit': r'$(km/s)^2$', 'dtype': 'f', 'cf': 'None', 'values': []},\n",
    "                'Coordinates': {'unit': 'ckpc', 'dtype': 'f', 'cf': 1/h, 'values': []},\n",
    "                'HostHaloMass': {'unit': r'$M_\\odot$', 'dtype': 'f', 'cf': 1e10/h, 'values': []},\n",
    "                'Masses': {'unit': r'$M_\\odot$', 'dtype': 'f', 'cf': 1e10/h, 'values': []},\n",
    "                'NumTracers': {'unit': 'None', 'dtype': 'i', 'cf': 'None', 'values': []},\n",
    "                'ParticleIDs': {'unit': 'None', 'dtype': 'long', 'cf': 'None', 'values': []},\n",
    "                'Potential': {'unit': r'$(km/s)^2/a$', 'dtype': 'f', 'cf': 'None', 'values': []},\n",
    "                'SubfindDensity': {'unit': r'$M_odot/ckpc^3$', 'dtype': 'f', 'cf': 1e10*h**2, 'values': []},\n",
    "                'SubfindHsml': {'unit': 'ckpc', 'dtype': 'f', 'cf': 1/h, 'values': []},\n",
    "                'SubfindVelDisp': {'unit': 'km/s', 'dtype': 'f', 'cf': 'None', 'values': []},\n",
    "                'Velocities': {'unit': r'$km\\sqrt(a)/s$', 'dtype': 'f', 'cf': 'None', 'values': []},\n",
    "                'Snapshot': {'unit': 'None', 'dtype': 'i', 'cf': 'None', 'values': []},\n",
    "                'Subhalo': {'unit': 'None', 'dtype': 'i', 'cf': 'None', 'values': []}\n",
    "            }\n",
    "    return bh_snap"
   ]
  },
  {
   "cell_type": "code",
   "execution_count": 12,
   "metadata": {
    "hidden": true
   },
   "outputs": [],
   "source": [
    "### combine all black hole files in snap folder\n",
    "snaps = range(30,136)\n",
    "snaps = list(snaps)\n",
    "snaps.remove(53)\n",
    "snaps.remove(55)"
   ]
  },
  {
   "cell_type": "code",
   "execution_count": 15,
   "metadata": {
    "hidden": true
   },
   "outputs": [],
   "source": [
    "# bh_snap"
   ]
  },
  {
   "cell_type": "code",
   "execution_count": 18,
   "metadata": {
    "hidden": true
   },
   "outputs": [
    {
     "name": "stdout",
     "output_type": "stream",
     "text": [
      "snap: 127 \n"
     ]
    },
    {
     "name": "stderr",
     "output_type": "stream",
     "text": [
      "/home/ehko/anaconda3/lib/python3.7/site-packages/ipykernel_launcher.py:8: H5pyDeprecationWarning: dataset.value has been deprecated. Use dataset[()] instead.\n",
      "  \n",
      "/home/ehko/anaconda3/lib/python3.7/site-packages/ipykernel_launcher.py:40: H5pyDeprecationWarning: The default file mode will change to 'r' (read-only) in h5py 3.0. To suppress this warning, pass the mode you need to h5py.File(), or set the global default h5.get_config().default_file_mode, or set the environment variable H5PY_DEFAULT_READONLY=1. Available modes are: 'r', 'r+', 'w', 'w-'/'x', 'a'. See the docs for details.\n"
     ]
    },
    {
     "name": "stdout",
     "output_type": "stream",
     "text": [
      "32173\n",
      "snap: 128 \n",
      "32425\n"
     ]
    }
   ],
   "source": [
    "# for snap in snaps:\n",
    "for snap in [127, 128]:\n",
    "    \n",
    "    print('snap: ' + str(snap) + ' ')  \n",
    "    bh_snap = init_bh_dict()\n",
    "\n",
    "    # groupcat['SubhaloID']\n",
    "    snap_ids = np.where(groupcat['Snapshot'].value == snap)[0]\n",
    "    sub_ids = groupcat['SubhaloID'][snap_ids] #subhalos in snap\n",
    "    \n",
    "    #calculate offset\n",
    "    offset_snap = {}\n",
    "\n",
    "    #example group catalog (for initialization)\n",
    "    grp =  h5py.File(f'illustris_data/group{snap}/groups_{snap:03d}.0.hdf5', 'r')\n",
    "    #offsets\n",
    "    grp_offset = grp['Header'].attrs['FileOffsets_Subhalo']\n",
    "    offset_snap['snapOffsets'] = grp['Header'].attrs['FileOffsets_Snap']\n",
    "    \n",
    "    #loadsubset                             \n",
    "    #iteration: subhalo ids - find corresponding chunk\n",
    "    for sub in range(len(sub_ids)):\n",
    "     \n",
    "        #target groups with this sub\n",
    "        grp_file_offset = sub_ids[sub] - grp_offset\n",
    "        chunk_num = np.max(np.where(grp_file_offset >= 0)) #corresponding chunk number\n",
    "        offset = grp_file_offset[chunk_num]\n",
    "\n",
    "        with h5py.File(f'illustris_data/group{snap}/groups_{snap:03d}.{chunk_num}.hdf5', 'r') as f:\n",
    "            offset_snap['lenType'] = f['Subhalo']['SubhaloLenType'][offset, :]\n",
    "            offset_snap['offsetType'] = f['Offsets']['Subhalo_SnapByType'][offset, :]\n",
    "\n",
    "        #offset_snap => first result for one subhalo id\n",
    "\n",
    "\n",
    "        #find corresponding info from snapdata (PartType5) / chunk iteration\n",
    "        result = {}\n",
    "\n",
    "        #header file info\n",
    "        with h5py.File(f'illustris_data/snap{snap}/snap_{snap:03d}.0.hdf5') as f:\n",
    "            header = dict(f['Header'].attrs.items())\n",
    "            # # of particles for given types\n",
    "            num_part = np.zeros(6, dtype = np.int64)       \n",
    "\n",
    "            for i in range(6):\n",
    "                num_part[i] = header['NumPart_Total'][i] | (header['NumPart_Total_HighWord'][i] << 32)\n",
    "            \n",
    "            offset_this_type = offset_snap['offsetType'][5] - offset_snap['snapOffsets'][5, :]\n",
    "\n",
    "            file_num = np.max(np.where(offset_this_type >= 0))\n",
    "            file_off = offset_this_type[file_num]\n",
    "            # number of particles (PartType5)\n",
    "            num_read = offset_snap['lenType'][5] #count\n",
    "\n",
    "            result['count'] = num_read\n",
    "            \n",
    "            n = 1\n",
    "            while 'PartType5' not in f:\n",
    "                f = h5py.File(f'illustris_data/snap{snap}/snap_{snap:03d}.{n}.hdf5', 'r')\n",
    "                n += 1\n",
    "            \n",
    "\n",
    "            fields = list(f['PartType5'].keys())\n",
    "\n",
    "            for i, field in enumerate(fields):\n",
    "                shape = list(f['PartType5'][field].shape)\n",
    "                shape[0] = num_read\n",
    "\n",
    "                dtype = f['PartType5'][field].dtype\n",
    "                if dtype == np.float64: dtype = np.float32\n",
    "                result[field] = np.zeros(shape, dtype = dtype)\n",
    "\n",
    "        result_off = 0\n",
    "        num_read_original = num_read\n",
    "\n",
    "        while num_read:\n",
    "\n",
    "            f = h5py.File(f'illustris_data/snap{snap}/snap_{snap:03d}.{file_num}.hdf5', 'r')\n",
    "             \n",
    "            if 'PartType5' not in f:\n",
    "                f.close()\n",
    "                file_num += 1\n",
    "                file_off = 0\n",
    "                continue\n",
    "                                    \n",
    "            num_f = f['Header'].attrs['NumPart_ThisFile'][5]\n",
    "            num_read2 = num_read\n",
    "\n",
    "            if file_off + num_read2 > num_f: #add next chunk\n",
    "                num_read2 = num_f - file_off\n",
    "\n",
    "            for i, field in enumerate(fields):\n",
    "                result[field][result_off:result_off+num_read2] = f['PartType5'][field][file_off:file_off+num_read2]\n",
    "\n",
    "            result_off += num_read2\n",
    "            num_read -= num_read2\n",
    "            file_num += 1\n",
    "            file_off = 0\n",
    "\n",
    "            f.close()\n",
    "\n",
    "        if num_read_original != result_off:\n",
    "            print('weird', end = ' ')\n",
    "\n",
    "        if len(fields) == 1:\n",
    "            result = result[fields[0]]\n",
    "\n",
    "        result_len = len(result['ParticleIDs'][:])\n",
    "        bh_snap['Subhalo']['values'].append(np.full((result_len,), sub_ids[sub], dtype = int))\n",
    "        bh_snap['Snapshot']['values'].append(np.full((result_len,),snap, dtype = int))\n",
    "\n",
    "        for field in fields:\n",
    "            if field == 'Subhalo' or field == 'Snapshot':\n",
    "                continue\n",
    "            \n",
    "            bh_snap[field]['values'].append(result[field])\n",
    "\n",
    "\n",
    "    #readout to file snapshot\n",
    "    fname = f'illustris_data/snap{snap}/bh_subs{snap}.hdf5'\n",
    "\n",
    "    with h5py.File(fname, 'w') as f:\n",
    "        for key in bh_snap.keys():\n",
    "            file = np.concatenate(bh_snap[key]['values'], axis = 0)\n",
    "            \n",
    "            if bh_snap[key]['cf'] != 'None':\n",
    "                file = file * bh_snap[key]['cf']\n",
    "            \n",
    "            \n",
    "            dat = f.create_dataset(key, data = file, dtype = file.dtype.name, chunks = True, compression='gzip', compression_opts = 0)\n",
    "            dat.attrs['unit'] = bh_snap[key]['unit']\n",
    "\n",
    "    ex = np.concatenate(bh_snap[key]['values'], axis = 0)\n",
    "    print(len(ex))"
   ]
  },
  {
   "cell_type": "code",
   "execution_count": 28,
   "metadata": {
    "hidden": true
   },
   "outputs": [
    {
     "data": {
      "text/plain": [
       "<KeysViewHDF5 ['Snapshot', 'SubhaloCM', 'SubhaloID', 'SubhaloLenType', 'SubhaloMassType', 'SubhaloPos', 'SubhaloSFR', 'SubhaloVelDisp', 'SubhaloWindMass']>"
      ]
     },
     "execution_count": 28,
     "metadata": {},
     "output_type": "execute_result"
    }
   ],
   "source": [
    "groupcat.keys()"
   ]
  },
  {
   "cell_type": "code",
   "execution_count": 31,
   "metadata": {
    "hidden": true,
    "scrolled": true
   },
   "outputs": [],
   "source": [
    "bhs_total = init_bh_dict()\n",
    "\n",
    "for i in snaps:\n",
    "    fname = f'illustris_data/snap{i}/bh_subs{i}.hdf5'\n",
    "    with h5py.File(fname, 'r') as f:\n",
    "        for key in f.keys():\n",
    "            bhs_total[key]['values'].append(f[key][:])"
   ]
  },
  {
   "cell_type": "code",
   "execution_count": 32,
   "metadata": {
    "hidden": true
   },
   "outputs": [],
   "source": [
    "for key in bhs_total.keys():\n",
    "    final = np.concatenate(bhs_total[key]['values'], axis = 0)"
   ]
  },
  {
   "cell_type": "code",
   "execution_count": 34,
   "metadata": {
    "hidden": true
   },
   "outputs": [],
   "source": [
    "checker = np.core.records.fromarrays([snaps, subs], dtype = dtype)\n",
    "sort = np.argsort(checker, order = ('Snapshot', 'Subhalo'))"
   ]
  },
  {
   "cell_type": "code",
   "execution_count": 33,
   "metadata": {
    "hidden": true
   },
   "outputs": [],
   "source": [
    "num_snaps = len(bhs_total['Subhalo']['values'])\n",
    "dtype = [('Snapshot', np.dtype(np.uint64)), ('Subhalo', np.dtype(np.uint64))]\n",
    "\n",
    "snaps = []\n",
    "subs = []\n",
    "sort = {key: [] for key in bhs_total.keys()}\n",
    "\n",
    "for i in range(num_snaps):\n",
    "    aa = bhs_total['Snapshot']['values'][i]\n",
    "    bb = bhs_total['Subhalo']['values'][i]\n",
    "    \n",
    "    snaps = np.concatenate((snaps, aa))\n",
    "    subs = np.concatenate((subs, bb))\n",
    "    "
   ]
  },
  {
   "cell_type": "code",
   "execution_count": 35,
   "metadata": {
    "hidden": true
   },
   "outputs": [],
   "source": [
    "with h5py.File('illustris_data/bh_subs_final.hdf5', 'w') as f:\n",
    "    for key in bhs_total.keys():\n",
    "        vals = np.concatenate(bhs_total[key]['values'])\n",
    "        output = vals[sort]\n",
    "        dset = f.create_dataset(key, data = output, dtype=output.dtype.name,chunks=True, compression='gzip', compression_opts=9)\n",
    "        dset.attrs['unit'] = bhs_total[key]['unit']"
   ]
  },
  {
   "cell_type": "code",
   "execution_count": 67,
   "metadata": {
    "hidden": true
   },
   "outputs": [
    {
     "name": "stderr",
     "output_type": "stream",
     "text": [
      "/home/ehko/anaconda3/lib/python3.7/site-packages/ipykernel_launcher.py:1: H5pyDeprecationWarning: The default file mode will change to 'r' (read-only) in h5py 3.0. To suppress this warning, pass the mode you need to h5py.File(), or set the global default h5.get_config().default_file_mode, or set the environment variable H5PY_DEFAULT_READONLY=1. Available modes are: 'r', 'r+', 'w', 'w-'/'x', 'a'. See the docs for details.\n",
      "  \"\"\"Entry point for launching an IPython kernel.\n"
     ]
    }
   ],
   "source": [
    "f = h5py.File('illustris_data/bh_subs_final.hdf5')#2394824"
   ]
  },
  {
   "cell_type": "code",
   "execution_count": 67,
   "metadata": {
    "hidden": true
   },
   "outputs": [
    {
     "name": "stderr",
     "output_type": "stream",
     "text": [
      "/home/ehko/anaconda3/lib/python3.7/site-packages/ipykernel_launcher.py:1: H5pyDeprecationWarning: The default file mode will change to 'r' (read-only) in h5py 3.0. To suppress this warning, pass the mode you need to h5py.File(), or set the global default h5.get_config().default_file_mode, or set the environment variable H5PY_DEFAULT_READONLY=1. Available modes are: 'r', 'r+', 'w', 'w-'/'x', 'a'. See the docs for details.\n",
      "  \"\"\"Entry point for launching an IPython kernel.\n"
     ]
    }
   ],
   "source": [
    "# f = h5py.File('illustris_data/bh_subs_total.hdf5') #2398602 #duplicated bhs exist"
   ]
  },
  {
   "cell_type": "code",
   "execution_count": 69,
   "metadata": {
    "hidden": true
   },
   "outputs": [
    {
     "data": {
      "text/plain": [
       "<KeysViewHDF5 ['BH_CumEgyInjection_QM', 'BH_CumMassGrowth_QM', 'BH_Density', 'BH_Hsml', 'BH_Mass', 'BH_Mass_bubbles', 'BH_Mass_ini', 'BH_Mdot', 'BH_Pressure', 'BH_Progs', 'BH_U', 'Coordinates', 'HostHaloMass', 'Masses', 'NumTracers', 'ParticleIDs', 'Potential', 'Snapshot', 'SubfindDensity', 'SubfindHsml', 'SubfindVelDisp', 'Subhalo', 'Velocities']>"
      ]
     },
     "execution_count": 69,
     "metadata": {},
     "output_type": "execute_result"
    }
   ],
   "source": [
    "f.keys()"
   ]
  },
  {
   "cell_type": "code",
   "execution_count": 71,
   "metadata": {
    "hidden": true
   },
   "outputs": [],
   "source": [
    "f.close()"
   ]
  },
  {
   "cell_type": "code",
   "execution_count": null,
   "metadata": {
    "hidden": true
   },
   "outputs": [],
   "source": []
  },
  {
   "cell_type": "markdown",
   "metadata": {
    "heading_collapsed": true,
    "hidden": true
   },
   "source": [
    "## download group catalog files"
   ]
  },
  {
   "cell_type": "code",
   "execution_count": 24,
   "metadata": {
    "hidden": true
   },
   "outputs": [],
   "source": [
    "#final group catalog \n",
    "snap_list = list(range(30, 136))\n",
    "snap_list.remove(53)\n",
    "snap_list.remove(55)"
   ]
  },
  {
   "cell_type": "code",
   "execution_count": 25,
   "metadata": {
    "hidden": true
   },
   "outputs": [],
   "source": [
    "keys = ['SubhaloLenType', 'SubhaloCM', 'SubhaloMassType', 'SubhaloPos', 'SubhaloSFR', 'SubhaloVelDisp', 'SubhaloWindMass']\n",
    "keys_all = ['SubhaloID', 'Snapshot'] + keys"
   ]
  },
  {
   "cell_type": "code",
   "execution_count": 31,
   "metadata": {
    "hidden": true
   },
   "outputs": [
    {
     "name": "stdout",
     "output_type": "stream",
     "text": [
      "135\n",
      "SubhaloLenType\n",
      "SubhaloCM\n",
      "SubhaloMassType\n",
      "SubhaloPos\n",
      "SubhaloSFR\n",
      "SubhaloVelDisp\n",
      "SubhaloWindMass\n"
     ]
    }
   ],
   "source": [
    "for num in snap_list:\n",
    "    subhalos_blackhole = { }\n",
    "    print(num)\n",
    "    for key in keys:\n",
    "        key_url = f'http://www.illustris-project.org/api/Illustris-1/files/groupcat-{num}?Subhalo={key}'\n",
    "    \n",
    "        print(key)\n",
    "        sub = get(key_url)\n",
    "    \n",
    "        filename = f'illustris_data/group{num}_{key}.hdf6'\n",
    "        with open(filename, 'wb') as f:\n",
    "            f.write(sub.content)\n",
    "    \n",
    "    \n",
    "        with h5py.File(filename, 'r') as f:\n",
    "            if key == keys[0]:\n",
    "                sub_temp = f['Subhalo'][key]\n",
    "                \n",
    "                #pick subhalos with blackholes in them\n",
    "                sub_bhs = np.where(sub_temp[:, 5] > 0)[0]\n",
    "            \n",
    "                subhaloID = sub_bhs\n",
    "                snaps = np.full((len(sub_bhs)), num)\n",
    "            \n",
    "                subhalos_blackhole['SubhaloID'] = subhaloID\n",
    "                subhalos_blackhole['Snapshot'] = snaps\n",
    "        \n",
    "            subhalos_blackhole[key] = f['Subhalo'][key][:][subhaloID]        \n",
    "    \n",
    "    with h5py.File(f'illustris_data/groupcat_{num}.hdf5', 'w') as f:\n",
    "        for key in keys_all:\n",
    "            f.create_dataset(key, data = subhalos_blackhole[key], dtype=subhalos_blackhole[key].dtype.name, chunks=True, compression='gzip', compression_opts=9)"
   ]
  },
  {
   "cell_type": "code",
   "execution_count": 1,
   "metadata": {
    "hidden": true
   },
   "outputs": [],
   "source": [
    "#merge group catalog files  into 'groupcat_total.hdf5'"
   ]
  },
  {
   "cell_type": "code",
   "execution_count": 36,
   "metadata": {
    "hidden": true
   },
   "outputs": [
    {
     "name": "stdout",
     "output_type": "stream",
     "text": [
      "30 31 32 33 34 35 36 37 38 39 40 41 42 43 44 45 46 47 48 49 50 51 52 54 56 57 58 59 60 61 62 63 64 65 66 67 68 69 70 71 72 73 74 75 76 77 78 79 80 81 82 83 84 85 86 87 88 89 90 91 92 93 94 95 96 97 98 99 100 101 102 103 104 105 106 107 108 109 110 111 112 113 114 115 116 117 118 119 120 121 122 123 124 125 126 127 128 129 130 131 132 133 134 135 "
     ]
    }
   ],
   "source": [
    "group = {key:[] for key in keys_all}\n",
    "\n",
    "for s in snap_list:\n",
    "    print(s, end = ' ')\n",
    "    filename = f'illustris_data/groupcat_{s}.hdf5'\n",
    "    with h5py.File(filename, 'r') as f:\n",
    "        for key in keys_all:\n",
    "            \n",
    "            group[key].append(f[key][:])"
   ]
  },
  {
   "cell_type": "code",
   "execution_count": 37,
   "metadata": {
    "hidden": true
   },
   "outputs": [],
   "source": [
    "with h5py.File('illustris_data/groupcat_total_final.hdf5', 'w') as f:\n",
    "    for key in keys_all:\n",
    "        group[key] = np.concatenate(group[key])\n",
    "        f.create_dataset(key, data=group[key], dtype=group[key].dtype.name, chunks=True, compression='gzip', compression_opts=9)"
   ]
  },
  {
   "cell_type": "code",
   "execution_count": 217,
   "metadata": {
    "hidden": true
   },
   "outputs": [
    {
     "name": "stderr",
     "output_type": "stream",
     "text": [
      "/home/ehko/anaconda3/lib/python3.7/site-packages/ipykernel_launcher.py:1: H5pyDeprecationWarning: The default file mode will change to 'r' (read-only) in h5py 3.0. To suppress this warning, pass the mode you need to h5py.File(), or set the global default h5.get_config().default_file_mode, or set the environment variable H5PY_DEFAULT_READONLY=1. Available modes are: 'r', 'r+', 'w', 'w-'/'x', 'a'. See the docs for details.\n",
      "  \"\"\"Entry point for launching an IPython kernel.\n"
     ]
    }
   ],
   "source": [
    "groupcat_total = h5py.File('illustris_data/groupcat_total.hdf5')"
   ]
  },
  {
   "cell_type": "code",
   "execution_count": 9,
   "metadata": {
    "hidden": true
   },
   "outputs": [
    {
     "data": {
      "text/plain": [
       "<KeysViewHDF5 ['Snapshot', 'SubhaloCM', 'SubhaloID', 'SubhaloLenType', 'SubhaloMassType', 'SubhaloPos', 'SubhaloSFR', 'SubhaloVelDisp', 'SubhaloWindMass']>"
      ]
     },
     "execution_count": 9,
     "metadata": {},
     "output_type": "execute_result"
    }
   ],
   "source": [
    "groupcat_total.keys() #2359299 bhs"
   ]
  },
  {
   "cell_type": "code",
   "execution_count": 42,
   "metadata": {
    "hidden": true
   },
   "outputs": [
    {
     "name": "stderr",
     "output_type": "stream",
     "text": [
      "/home/ehko/anaconda3/lib/python3.7/site-packages/ipykernel_launcher.py:1: H5pyDeprecationWarning: The default file mode will change to 'r' (read-only) in h5py 3.0. To suppress this warning, pass the mode you need to h5py.File(), or set the global default h5.get_config().default_file_mode, or set the environment variable H5PY_DEFAULT_READONLY=1. Available modes are: 'r', 'r+', 'w', 'w-'/'x', 'a'. See the docs for details.\n",
      "  \"\"\"Entry point for launching an IPython kernel.\n"
     ]
    }
   ],
   "source": [
    "finals = h5py.File('illustris_data/groupcat_total_final.hdf5')\n",
    "finals.close()"
   ]
  },
  {
   "cell_type": "markdown",
   "metadata": {
    "heading_collapsed": true
   },
   "source": [
    "# particle ID"
   ]
  },
  {
   "cell_type": "code",
   "execution_count": 9,
   "metadata": {
    "hidden": true
   },
   "outputs": [],
   "source": [
    "# ex = get('http://www.illustris-project.org/api/Illustris-1/files/blackhole_mergers.hdf5')\n",
    "\n",
    "# filename = 'bh_merger.hdf5'\n",
    "# with open(filename, 'wb') as f:\n",
    "#     f.write(ex.content)"
   ]
  },
  {
   "cell_type": "code",
   "execution_count": 7,
   "metadata": {
    "hidden": true
   },
   "outputs": [
    {
     "name": "stderr",
     "output_type": "stream",
     "text": [
      "/home/ehko/anaconda3/lib/python3.7/site-packages/ipykernel_launcher.py:1: H5pyDeprecationWarning: The default file mode will change to 'r' (read-only) in h5py 3.0. To suppress this warning, pass the mode you need to h5py.File(), or set the global default h5.get_config().default_file_mode, or set the environment variable H5PY_DEFAULT_READONLY=1. Available modes are: 'r', 'r+', 'w', 'w-'/'x', 'a'. See the docs for details.\n",
      "  \"\"\"Entry point for launching an IPython kernel.\n"
     ]
    }
   ],
   "source": [
    "bh_mergers = h5py.File('illustris_data/blackhole_mergers.hdf5')"
   ]
  },
  {
   "cell_type": "code",
   "execution_count": 8,
   "metadata": {
    "hidden": true
   },
   "outputs": [
    {
     "data": {
      "text/plain": [
       "<KeysViewHDF5 ['Header', 'details', 'id_in', 'id_out', 'mass_in', 'mass_out', 'snapshot', 'time', 'tree']>"
      ]
     },
     "execution_count": 8,
     "metadata": {},
     "output_type": "execute_result"
    }
   ],
   "source": [
    "bh_mergers.keys()"
   ]
  },
  {
   "cell_type": "code",
   "execution_count": 9,
   "metadata": {
    "hidden": true
   },
   "outputs": [],
   "source": [
    "#surviving bh after mergers \n",
    "mass_in = bh_mergers['mass_in'][:]\n",
    "mass_out = bh_mergers['mass_out'][:]\n",
    "\n",
    "time = bh_mergers['time'][:]\n",
    "snap = bh_mergers['snapshot'][:]\n",
    "\n",
    "total_mass = np.array([mass_in, mass_out]).T\n",
    "\n",
    "id_in = bh_mergers['id_in'][:]\n",
    "id_out = bh_mergers['id_out'][:]"
   ]
  },
  {
   "cell_type": "code",
   "execution_count": 10,
   "metadata": {
    "hidden": true
   },
   "outputs": [],
   "source": [
    "n_bad = 0\n",
    "change = []\n",
    "\n",
    "for i in range(len(mass_in)):\n",
    "    out_val = np.argmax(total_mass[i])\n",
    "    \n",
    "    if out_val == 0:\n",
    "        n_bad += 1\n",
    "        change.append((i, id_out[i], id_in[i], time[i], snap[i]))\n",
    "\n",
    "dtype = [\n",
    "    ('merger', '<i4'),\n",
    "    ('id_remove', np.dtype('uint64')),\n",
    "    ('id_keep', np.dtype('uint64')),\n",
    "    ('time', '<f4'),\n",
    "    ('snap', '<i4')\n",
    "]"
   ]
  },
  {
   "cell_type": "code",
   "execution_count": 11,
   "metadata": {
    "hidden": true
   },
   "outputs": [
    {
     "data": {
      "text/plain": [
       "11415"
      ]
     },
     "execution_count": 11,
     "metadata": {},
     "output_type": "execute_result"
    }
   ],
   "source": [
    "n_bad #11415"
   ]
  },
  {
   "cell_type": "code",
   "execution_count": 13,
   "metadata": {
    "hidden": true
   },
   "outputs": [],
   "source": [
    "change1 = np.array(change, dtype = dtype)"
   ]
  },
  {
   "cell_type": "code",
   "execution_count": 16,
   "metadata": {
    "hidden": true
   },
   "outputs": [],
   "source": [
    "part_id = np.array([id_in, id_out]).T\n",
    "time = np.array([time, time]).T"
   ]
  },
  {
   "cell_type": "code",
   "execution_count": 17,
   "metadata": {
    "hidden": true
   },
   "outputs": [],
   "source": [
    "for i in range(len(change1)):\n",
    "    ids_fix = (part_id == change1['id_remove'][i]) & (time > change1['time'][i])\n",
    "    ids_switch = change1['merger'][i]\n",
    "    \n",
    "    if np.count_nonzero(ids_fix) > 0:\n",
    "        part_id[ids_fix] = change1['id_keep'][i]\n",
    "        \n",
    "    part_id[ids_switch][0] = change1['id_remove'][i]\n",
    "    part_id[ids_switch][1] = change1['id_keep'][i]\n",
    "    \n",
    "    trans_out_keep = total_mass[ids_switch][0]\n",
    "    trans_in_remove = total_mass[ids_switch][1]\n",
    "    \n",
    "    #switch\n",
    "    total_mass[ids_switch][0] = trans_in_remove\n",
    "    total_mass[ids_switch][1] = trans_out_keep\n",
    "    \n",
    "    ids_fix = (\n",
    "        (change1['id_keep'] == change1['id_remove'][i]) &\n",
    "        (change1['time'] >= change1['time'][i])\n",
    "        \n",
    "    )\n",
    "    \n",
    "    change1['id_keep'][ids_fix] = change1['id_keep'][i]\n",
    "    \n",
    "    ids_fix = (\n",
    "        (change1['id_remove'] == change1['id_remove'][i]) &\n",
    "        (change1['time'] >= change1['time'][i])\n",
    "        \n",
    "    )\n",
    "    \n",
    "    change1['id_remove'][ids_fix] = change1['id_keep'][i]"
   ]
  },
  {
   "cell_type": "code",
   "execution_count": 18,
   "metadata": {
    "hidden": true
   },
   "outputs": [
    {
     "data": {
      "text/plain": [
       "11415"
      ]
     },
     "execution_count": 18,
     "metadata": {},
     "output_type": "execute_result"
    }
   ],
   "source": [
    "len(change1)"
   ]
  },
  {
   "cell_type": "code",
   "execution_count": 19,
   "metadata": {
    "hidden": true
   },
   "outputs": [],
   "source": [
    "with h5py.File('illustris_data/blackhole_mergers.hdf5', 'a') as merge:\n",
    "\n",
    "    for ind_in, ind_out in enumerate(['in', 'out']):\n",
    "        key_id = f'id_{ind_out}_new'\n",
    "        key_mass = f'mass_{ind_out}_new'\n",
    "        key_list = [key_id, key_mass]\n",
    "        var_list = [part_id, total_mass]\n",
    "        \n",
    "        for key, var in zip(key_list, var_list):\n",
    "            if key in merge:\n",
    "                del merge[key]\n",
    "            merge[key]  = var[:, ind_in]"
   ]
  },
  {
   "cell_type": "code",
   "execution_count": 32,
   "metadata": {
    "code_folding": [],
    "hidden": true
   },
   "outputs": [],
   "source": [
    "#update new ids in merger files "
   ]
  },
  {
   "cell_type": "code",
   "execution_count": 20,
   "metadata": {
    "hidden": true
   },
   "outputs": [
    {
     "name": "stderr",
     "output_type": "stream",
     "text": [
      "/home/ehko/anaconda3/lib/python3.7/site-packages/ipykernel_launcher.py:1: H5pyDeprecationWarning: The default file mode will change to 'r' (read-only) in h5py 3.0. To suppress this warning, pass the mode you need to h5py.File(), or set the global default h5.get_config().default_file_mode, or set the environment variable H5PY_DEFAULT_READONLY=1. Available modes are: 'r', 'r+', 'w', 'w-'/'x', 'a'. See the docs for details.\n",
      "  \"\"\"Entry point for launching an IPython kernel.\n"
     ]
    }
   ],
   "source": [
    "with h5py.File('illustris_data/bh_subs_final.hdf5') as f:\n",
    "    part_id_all = f['ParticleIDs'][:]\n",
    "    snap_all = f['Snapshot'][:]"
   ]
  },
  {
   "cell_type": "code",
   "execution_count": 21,
   "metadata": {
    "hidden": true
   },
   "outputs": [],
   "source": [
    "change2 = np.array(change, dtype = dtype)"
   ]
  },
  {
   "cell_type": "code",
   "execution_count": 22,
   "metadata": {
    "hidden": true
   },
   "outputs": [],
   "source": [
    "for i in range(len(change2)):\n",
    "    \n",
    "    ids_fix = ((part_id_all == change2['id_remove'][i]) & (snap_all >= change2['snap'][i]))\n",
    "    \n",
    "    part_id_all[ids_fix] = change2['id_keep'][i]\n",
    "    \n",
    "    ids_fix = ((change2['id_keep'] == change2['id_remove'][i]) & (change2['time'] >= change2['time'][i]))\n",
    "    change2['id_keep'][ids_fix] = change2['id_keep'][i]\n",
    "    \n",
    "    ids_fix = ((change2['id_remove'] == change2['id_remove'][i]) & (change2['time'] >= change2['id_keep'][i]))\n",
    "    change2['id_remove'][ids_fix] = change2['id_keep'][i]"
   ]
  },
  {
   "cell_type": "code",
   "execution_count": 23,
   "metadata": {
    "hidden": true
   },
   "outputs": [],
   "source": [
    "with h5py.File('illustris_data/bh_subs_final.hdf5', 'a') as f:\n",
    "    key = 'ParticleIDs_new'\n",
    "    \n",
    "    if key in f:\n",
    "        del f[key]\n",
    "    \n",
    "    f.create_dataset(key, data = part_id_all, dtype = part_id_all.dtype.name, chunks = True, compression = 'gzip', compression_opts = 9)"
   ]
  },
  {
   "cell_type": "code",
   "execution_count": 18,
   "metadata": {
    "hidden": true
   },
   "outputs": [
    {
     "name": "stderr",
     "output_type": "stream",
     "text": [
      "/home/ehko/anaconda3/lib/python3.7/site-packages/ipykernel_launcher.py:1: H5pyDeprecationWarning: The default file mode will change to 'r' (read-only) in h5py 3.0. To suppress this warning, pass the mode you need to h5py.File(), or set the global default h5.get_config().default_file_mode, or set the environment variable H5PY_DEFAULT_READONLY=1. Available modes are: 'r', 'r+', 'w', 'w-'/'x', 'a'. See the docs for details.\n",
      "  \"\"\"Entry point for launching an IPython kernel.\n"
     ]
    }
   ],
   "source": [
    "f = h5py.File('illustris_data/bh_subs_final.hdf5')"
   ]
  },
  {
   "cell_type": "code",
   "execution_count": 20,
   "metadata": {
    "hidden": true
   },
   "outputs": [],
   "source": [
    "# f['ParticleIDs_new']\n",
    "f.close()"
   ]
  },
  {
   "cell_type": "markdown",
   "metadata": {},
   "source": [
    "# select mergers"
   ]
  },
  {
   "cell_type": "markdown",
   "metadata": {},
   "source": [
    "## find bad bhs"
   ]
  },
  {
   "cell_type": "code",
   "execution_count": 21,
   "metadata": {},
   "outputs": [
    {
     "name": "stderr",
     "output_type": "stream",
     "text": [
      "/home/ehko/anaconda3/lib/python3.7/site-packages/ipykernel_launcher.py:4: H5pyDeprecationWarning: The default file mode will change to 'r' (read-only) in h5py 3.0. To suppress this warning, pass the mode you need to h5py.File(), or set the global default h5.get_config().default_file_mode, or set the environment variable H5PY_DEFAULT_READONLY=1. Available modes are: 'r', 'r+', 'w', 'w-'/'x', 'a'. See the docs for details.\n",
      "  after removing the cwd from sys.path.\n"
     ]
    }
   ],
   "source": [
    "#find bad mergers\n",
    "# when a subhalo loses its black hole in a fly-by encounter and subsequently spawns a new black hole, the spawned black hole is considered bad\n",
    "# f = h5py.File('illustris_data/bh_subs_total2.hdf5')\n",
    "with h5py.File('illustris_data/bh_subs_final.hdf5') as f:\n",
    "    part_id_new = f['ParticleIDs_new'][:]\n",
    "    part_id_old = f['ParticleIDs'][:]\n",
    "    snaps_all = f['Snapshot'][:]\n",
    "    subhalos_all = f['Subhalo'][:]\n",
    "    subid_raw_all = np.asarray(snaps_all*1e12 + subhalos_all, dtype = np.int64)\n",
    "    bh_masses_all = f['BH_Mass'][:]"
   ]
  },
  {
   "cell_type": "code",
   "execution_count": 22,
   "metadata": {},
   "outputs": [],
   "source": [
    "# black holes where the last time\n",
    "#find the last time you find a unique id\n",
    "ids_unique, ids = np.unique(part_id_new[::-1], return_index = True)\n",
    "filter_ids = (snaps_all[::-1][ids] != 135)\n",
    "\n",
    "subID_raw_filtered = np.asarray(snaps_all[::-1][ids][filter_ids]*1e12 + subhalos_all[::-1][ids][filter_ids], dtype = np.int64)"
   ]
  },
  {
   "cell_type": "code",
   "execution_count": 29,
   "metadata": {
    "scrolled": true
   },
   "outputs": [
    {
     "name": "stderr",
     "output_type": "stream",
     "text": [
      "/home/ehko/anaconda3/lib/python3.7/site-packages/ipykernel_launcher.py:1: H5pyDeprecationWarning: The default file mode will change to 'r' (read-only) in h5py 3.0. To suppress this warning, pass the mode you need to h5py.File(), or set the global default h5.get_config().default_file_mode, or set the environment variable H5PY_DEFAULT_READONLY=1. Available modes are: 'r', 'r+', 'w', 'w-'/'x', 'a'. See the docs for details.\n",
      "  \"\"\"Entry point for launching an IPython kernel.\n"
     ]
    }
   ],
   "source": [
    "with h5py.File('illustris_data/tree_total2.hdf5') as tree:\n",
    "#     get the raw IDs from sublink and sort them\n",
    "    subID_raw_sublink = np.asarray(\n",
    "    tree['SubfindID'][:310600757] + tree['SnapNum'][:310600757]*1e12,\n",
    "    dtype = np.int64\n",
    "    )"
   ]
  },
  {
   "cell_type": "code",
   "execution_count": 30,
   "metadata": {},
   "outputs": [],
   "source": [
    "ids_sort = np.argsort(subID_raw_sublink)\n",
    "\n",
    "#find the raw sub IDs for subhalos at the last snapshot the black holes exist.\n",
    "final_subs_ids = ids_sort[np.searchsorted(subID_raw_sublink[ids_sort], subID_raw_filtered)]"
   ]
  },
  {
   "cell_type": "code",
   "execution_count": 31,
   "metadata": {},
   "outputs": [
    {
     "data": {
      "text/plain": [
       "24821"
      ]
     },
     "execution_count": 31,
     "metadata": {},
     "output_type": "execute_result"
    }
   ],
   "source": [
    "#ids for subhalos at the last snapshot where the bhs exist\n",
    "len(final_subs_ids) #24989 #18181 #24821 #whyyyy?? #24821"
   ]
  },
  {
   "cell_type": "code",
   "execution_count": 37,
   "metadata": {},
   "outputs": [
    {
     "name": "stderr",
     "output_type": "stream",
     "text": [
      "/home/ehko/anaconda3/lib/python3.7/site-packages/ipykernel_launcher.py:1: H5pyDeprecationWarning: The default file mode will change to 'r' (read-only) in h5py 3.0. To suppress this warning, pass the mode you need to h5py.File(), or set the global default h5.get_config().default_file_mode, or set the environment variable H5PY_DEFAULT_READONLY=1. Available modes are: 'r', 'r+', 'w', 'w-'/'x', 'a'. See the docs for details.\n",
      "  \"\"\"Entry point for launching an IPython kernel.\n",
      "/home/ehko/anaconda3/lib/python3.7/site-packages/ipykernel_launcher.py:2: H5pyDeprecationWarning: The default file mode will change to 'r' (read-only) in h5py 3.0. To suppress this warning, pass the mode you need to h5py.File(), or set the global default h5.get_config().default_file_mode, or set the environment variable H5PY_DEFAULT_READONLY=1. Available modes are: 'r', 'r+', 'w', 'w-'/'x', 'a'. See the docs for details.\n",
      "  \n"
     ]
    }
   ],
   "source": [
    "tree = h5py.File('illustris_data/tree_total2.hdf5')\n",
    "tree_new = h5py.File('illustris_data/tree_total_new.hdf5')"
   ]
  },
  {
   "cell_type": "code",
   "execution_count": 38,
   "metadata": {},
   "outputs": [
    {
     "name": "stderr",
     "output_type": "stream",
     "text": [
      "Subhalo inds: 100%|██████████| 24821/24821 [3:47:40<00:00,  1.82it/s]  \n"
     ]
    }
   ],
   "source": [
    "bad = []\n",
    "\n",
    "for i, final_ids in enumerate(tqdm.tqdm(final_subs_ids, desc = 'Subhalo inds')):\n",
    "    desc_ids = final_ids\n",
    "\n",
    "    while desc_ids != -1:\n",
    "        desc_ids = tree_new['Descendant_index'][desc_ids]\n",
    "\n",
    "        #number of blackholes\n",
    "        if tree['SubhaloLenType'][desc_ids][5] > 0:\n",
    "\n",
    "            #subhalo:figure out which subhalo in all bhs catalog corresponds to this sub\n",
    "            ids_sub = np.where(subid_raw_all == subID_raw_sublink[desc_ids])[0][0]\n",
    "\n",
    "            #snap:: find all the snapshots that contain the black hole\n",
    "            snaps_bh = snaps_all[(part_id_new == part_id_new[ids_sub])]\n",
    "\n",
    "            #\n",
    "            if snaps_bh[0] == tree['SnapNum'][desc_ids]:\n",
    "                bad.append((part_id_new[ids_sub], bh_masses_all[ids_sub], tree['SnapNum'][desc_ids]))\n"
   ]
  },
  {
   "cell_type": "code",
   "execution_count": 39,
   "metadata": {},
   "outputs": [
    {
     "data": {
      "text/plain": [
       "2086"
      ]
     },
     "execution_count": 39,
     "metadata": {},
     "output_type": "execute_result"
    }
   ],
   "source": [
    "len(bad)#3720 #1543 #2086"
   ]
  },
  {
   "cell_type": "code",
   "execution_count": 40,
   "metadata": {},
   "outputs": [
    {
     "data": {
      "text/plain": [
       "24821"
      ]
     },
     "execution_count": 40,
     "metadata": {},
     "output_type": "execute_result"
    }
   ],
   "source": [
    "len(final_subs_ids) #24989 #24821"
   ]
  },
  {
   "cell_type": "code",
   "execution_count": 41,
   "metadata": {},
   "outputs": [],
   "source": [
    "dtype = [('id', np.dtype(np.uint64)), ('mass', np.dtype(float)), ('snap', np.dtype(np.int32))]\n",
    "bad_arr = np.asarray(bad, dtype = dtype)\n",
    "np.savetxt('illustris_data/bad_bhs_final', bad_arr) #bad blackholes"
   ]
  },
  {
   "cell_type": "markdown",
   "metadata": {
    "heading_collapsed": true
   },
   "source": [
    "## find good mergers"
   ]
  },
  {
   "cell_type": "code",
   "execution_count": 30,
   "metadata": {
    "hidden": true
   },
   "outputs": [
    {
     "name": "stderr",
     "output_type": "stream",
     "text": [
      "/home/ehko/anaconda3/lib/python3.7/site-packages/ipykernel_launcher.py:1: H5pyDeprecationWarning: The default file mode will change to 'r' (read-only) in h5py 3.0. To suppress this warning, pass the mode you need to h5py.File(), or set the global default h5.get_config().default_file_mode, or set the environment variable H5PY_DEFAULT_READONLY=1. Available modes are: 'r', 'r+', 'w', 'w-'/'x', 'a'. See the docs for details.\n",
      "  \"\"\"Entry point for launching an IPython kernel.\n"
     ]
    }
   ],
   "source": [
    "with h5py.File('illustris_data/bh_subs_final.hdf5') as f:\n",
    "    #get the unique ides in the all bhs dataset, as well as their first appearence (index) and count of appearences (counts)\n",
    "\n",
    "    unique_part_ids_new, index, counts = np.unique(f['ParticleIDs_new'][:][::-1],return_counts = True, return_index = True)\n",
    "    ### REMOVING ALL BLACK HOLES THAT ONLY APPEAR FOR ONE SNAPSHOT IN THE FULL BH-ALL DATASET and that have mass less than 10^6. (The merger switch algoritm is not perfect, so we cut out any issues below 10^6) ###\n",
    "\n",
    "    bad_add = np.where((counts == 1) & (f['BH_Mass'][:][::-1][index] > 1e6))[0]\n"
   ]
  },
  {
   "cell_type": "code",
   "execution_count": 32,
   "metadata": {
    "hidden": true
   },
   "outputs": [],
   "source": [
    "bad_arr = np.genfromtxt('illustris_data/bad_bhs_final', dtype = None)"
   ]
  },
  {
   "cell_type": "code",
   "execution_count": 33,
   "metadata": {
    "hidden": true
   },
   "outputs": [],
   "source": [
    "bad_ids = bad_arr[:, 0].astype(np.uint64)\n",
    "bad_ids = np.unique(np.concatenate([bad_ids, unique_part_ids_new[bad_add]]))"
   ]
  },
  {
   "cell_type": "code",
   "execution_count": 71,
   "metadata": {
    "hidden": true
   },
   "outputs": [
    {
     "name": "stderr",
     "output_type": "stream",
     "text": [
      "/home/ehko/anaconda3/lib/python3.7/site-packages/ipykernel_launcher.py:4: H5pyDeprecationWarning: The default file mode will change to 'r' (read-only) in h5py 3.0. To suppress this warning, pass the mode you need to h5py.File(), or set the global default h5.get_config().default_file_mode, or set the environment variable H5PY_DEFAULT_READONLY=1. Available modes are: 'r', 'r+', 'w', 'w-'/'x', 'a'. See the docs for details.\n",
      "  after removing the cwd from sys.path.\n"
     ]
    }
   ],
   "source": [
    "#final good mergers\n",
    "good = []\n",
    "\n",
    "with h5py.File('illustris_data/blackhole_mergers.hdf5') as f:\n",
    "    time = f['time'][:]\n",
    "    mass_in_new = f['mass_in_new'][:]\n",
    "    mass_out_new = f['mass_out_new'][:]\n",
    "    id_in_new = f['id_in_new'][:]\n",
    "    id_out_new = f['id_out_new'][:]"
   ]
  },
  {
   "cell_type": "code",
   "execution_count": 72,
   "metadata": {
    "hidden": true
   },
   "outputs": [],
   "source": [
    "h = 0.704"
   ]
  },
  {
   "cell_type": "code",
   "execution_count": 73,
   "metadata": {
    "hidden": true
   },
   "outputs": [],
   "source": [
    "for i in range(len(time)):\n",
    "#     if mass_in_new[i] >= 1e6 and mass_out_new[i] >= 1e6:\n",
    "    if mass_in_new[i]* 1e10/h >= 1e6 and mass_out_new[i]* 1e10/h >= 1e6:\n",
    "        good.append(i)\n",
    "        continue\n",
    "    if id_in_new[i] not in bad_ids and id_out_new[i] not in bad_ids:\n",
    "        \n",
    "        #both constituent bhs are in the particle IDS\n",
    "        if id_in_new[i] in unique_part_ids_new and id_out_new[i] in unique_part_ids_new:\n",
    "            good.append(i)"
   ]
  },
  {
   "cell_type": "code",
   "execution_count": 74,
   "metadata": {
    "hidden": true
   },
   "outputs": [
    {
     "data": {
      "text/plain": [
       "20191"
      ]
     },
     "execution_count": 74,
     "metadata": {},
     "output_type": "execute_result"
    }
   ],
   "source": [
    "len(good) #20351 #20348 #20184 + 7(considering the mass unit)"
   ]
  },
  {
   "cell_type": "code",
   "execution_count": 37,
   "metadata": {
    "hidden": true
   },
   "outputs": [],
   "source": [
    "np.savetxt('illustris_data/good_mergers', np.array([np.array(good)]).T)"
   ]
  },
  {
   "cell_type": "markdown",
   "metadata": {},
   "source": [
    "# find subhalos to download"
   ]
  },
  {
   "cell_type": "code",
   "execution_count": 6,
   "metadata": {},
   "outputs": [
    {
     "name": "stdout",
     "output_type": "stream",
     "text": [
      "<KeysViewHDF5 ['Header', 'details', 'id_in', 'id_in_new', 'id_out', 'id_out_new', 'mass_in', 'mass_in_new', 'mass_out', 'mass_out_new', 'snapshot', 'time', 'tree']>\n"
     ]
    },
    {
     "name": "stderr",
     "output_type": "stream",
     "text": [
      "/home/ehko/anaconda3/lib/python3.7/site-packages/ipykernel_launcher.py:1: H5pyDeprecationWarning: The default file mode will change to 'r' (read-only) in h5py 3.0. To suppress this warning, pass the mode you need to h5py.File(), or set the global default h5.get_config().default_file_mode, or set the environment variable H5PY_DEFAULT_READONLY=1. Available modes are: 'r', 'r+', 'w', 'w-'/'x', 'a'. See the docs for details.\n",
      "  \"\"\"Entry point for launching an IPython kernel.\n"
     ]
    }
   ],
   "source": [
    "with h5py.File('illustris_data/blackhole_mergers.hdf5') as bh_mergers:\n",
    "    print(bh_mergers.keys())\n",
    "    id_in_new = bh_mergers['id_in_new'][:]\n",
    "    id_out_new = bh_mergers['id_out_new'][:]\n",
    "    merg_snap = bh_mergers['snapshot'][:]"
   ]
  },
  {
   "cell_type": "code",
   "execution_count": 7,
   "metadata": {},
   "outputs": [
    {
     "name": "stderr",
     "output_type": "stream",
     "text": [
      "/home/ehko/anaconda3/lib/python3.7/site-packages/ipykernel_launcher.py:1: H5pyDeprecationWarning: The default file mode will change to 'r' (read-only) in h5py 3.0. To suppress this warning, pass the mode you need to h5py.File(), or set the global default h5.get_config().default_file_mode, or set the environment variable H5PY_DEFAULT_READONLY=1. Available modes are: 'r', 'r+', 'w', 'w-'/'x', 'a'. See the docs for details.\n",
      "  \"\"\"Entry point for launching an IPython kernel.\n"
     ]
    }
   ],
   "source": [
    "with h5py.File('illustris_data/bh_subs_final.hdf5') as subs_bhs:\n",
    "    all_arr = np.core.records.fromarrays([subs_bhs['ParticleIDs_new'][:], subs_bhs['Snapshot'][:], subs_bhs['Subhalo'][:]], names = 'id, snap, sub')"
   ]
  },
  {
   "cell_type": "code",
   "execution_count": 8,
   "metadata": {},
   "outputs": [],
   "source": [
    "sort_all = np.argsort(all_arr, order = ('snap', 'sub'))\n",
    "all_arr = all_arr[sort_all]"
   ]
  },
  {
   "cell_type": "code",
   "execution_count": 9,
   "metadata": {},
   "outputs": [
    {
     "name": "stdout",
     "output_type": "stream",
     "text": [
      "<KeysViewHDF5 ['Snapshot', 'SubhaloCM', 'SubhaloID', 'SubhaloLenType', 'SubhaloMassType', 'SubhaloPos', 'SubhaloSFR', 'SubhaloVelDisp', 'SubhaloWindMass']>\n"
     ]
    },
    {
     "name": "stderr",
     "output_type": "stream",
     "text": [
      "/home/ehko/anaconda3/lib/python3.7/site-packages/ipykernel_launcher.py:1: H5pyDeprecationWarning: The default file mode will change to 'r' (read-only) in h5py 3.0. To suppress this warning, pass the mode you need to h5py.File(), or set the global default h5.get_config().default_file_mode, or set the environment variable H5PY_DEFAULT_READONLY=1. Available modes are: 'r', 'r+', 'w', 'w-'/'x', 'a'. See the docs for details.\n",
      "  \"\"\"Entry point for launching an IPython kernel.\n"
     ]
    }
   ],
   "source": [
    "with h5py.File('illustris_data/groupcat_total.hdf5') as sb:\n",
    "    print(sb.keys())\n",
    "    subID_raw_gc = np.asarray(sb['Snapshot'][:]*1e12 + sb['SubhaloID'][:], dtype = np.uint64)\n",
    "    suhalolentype = sb['SubhaloLenType'][:]\n",
    "    sort_gc = np.argsort(subID_raw_gc)"
   ]
  },
  {
   "cell_type": "code",
   "execution_count": 10,
   "metadata": {},
   "outputs": [],
   "source": [
    "good = np.genfromtxt('illustris_data/good_mergers').astype(int)"
   ]
  },
  {
   "cell_type": "code",
   "execution_count": 11,
   "metadata": {},
   "outputs": [
    {
     "data": {
      "text/plain": [
       "20184"
      ]
     },
     "execution_count": 11,
     "metadata": {},
     "output_type": "execute_result"
    }
   ],
   "source": [
    "len(good)"
   ]
  },
  {
   "cell_type": "code",
   "execution_count": 12,
   "metadata": {},
   "outputs": [
    {
     "data": {
      "text/plain": [
       "set()"
      ]
     },
     "execution_count": 12,
     "metadata": {},
     "output_type": "execute_result"
    }
   ],
   "source": [
    "set(cat['merger']) - set(good)"
   ]
  },
  {
   "cell_type": "code",
   "execution_count": 14,
   "metadata": {},
   "outputs": [
    {
     "data": {
      "text/plain": [
       "2394824"
      ]
     },
     "execution_count": 14,
     "metadata": {},
     "output_type": "execute_result"
    }
   ],
   "source": [
    "len(all_arr)"
   ]
  },
  {
   "cell_type": "code",
   "execution_count": 1,
   "metadata": {},
   "outputs": [
    {
     "ename": "NameError",
     "evalue": "name 'tqdm' is not defined",
     "output_type": "error",
     "traceback": [
      "\u001b[0;31m---------------------------------------------------------------------------\u001b[0m",
      "\u001b[0;31mNameError\u001b[0m                                 Traceback (most recent call last)",
      "\u001b[0;32m<ipython-input-1-0ea620dae72b>\u001b[0m in \u001b[0;36m<module>\u001b[0;34m\u001b[0m\n\u001b[1;32m      2\u001b[0m \u001b[0mbads\u001b[0m \u001b[0;34m=\u001b[0m \u001b[0;34m[\u001b[0m\u001b[0;34m]\u001b[0m\u001b[0;34m\u001b[0m\u001b[0;34m\u001b[0m\u001b[0m\n\u001b[1;32m      3\u001b[0m \u001b[0;34m\u001b[0m\u001b[0m\n\u001b[0;32m----> 4\u001b[0;31m \u001b[0;32mfor\u001b[0m \u001b[0mi\u001b[0m\u001b[0;34m,\u001b[0m \u001b[0mm\u001b[0m \u001b[0;32min\u001b[0m \u001b[0menumerate\u001b[0m\u001b[0;34m(\u001b[0m\u001b[0mtqdm\u001b[0m\u001b[0;34m.\u001b[0m\u001b[0mtqdm\u001b[0m\u001b[0;34m(\u001b[0m\u001b[0mgood\u001b[0m\u001b[0;34m,\u001b[0m \u001b[0mdesc\u001b[0m \u001b[0;34m=\u001b[0m \u001b[0;34m'Goodmergers'\u001b[0m\u001b[0;34m)\u001b[0m\u001b[0;34m)\u001b[0m\u001b[0;34m:\u001b[0m\u001b[0;34m\u001b[0m\u001b[0;34m\u001b[0m\u001b[0m\n\u001b[0m\u001b[1;32m      5\u001b[0m \u001b[0;34m\u001b[0m\u001b[0m\n\u001b[1;32m      6\u001b[0m     \u001b[0mid_in\u001b[0m \u001b[0;34m=\u001b[0m \u001b[0mid_in_new\u001b[0m\u001b[0;34m[\u001b[0m\u001b[0mm\u001b[0m\u001b[0;34m]\u001b[0m\u001b[0;34m\u001b[0m\u001b[0;34m\u001b[0m\u001b[0m\n",
      "\u001b[0;31mNameError\u001b[0m: name 'tqdm' is not defined"
     ]
    }
   ],
   "source": [
    "subs_to_search = []\n",
    "bads = []\n",
    "\n",
    "for i, m in enumerate(tqdm.tqdm(good, desc = 'Goodmergers')):\n",
    "    \n",
    "    id_in = id_in_new[m]\n",
    "    id_out = id_out_new[m]\n",
    "    snap = merg_snap[m]\n",
    "    \n",
    "    #host galaxy post merger\n",
    "    try:\n",
    "        test = (all_arr['id'] == id_out) & (all_arr['snap'] == snap)\n",
    "        ids_final = np.where(test)[0][0]\n",
    "    except IndexError:\n",
    "        print(f'{m}: no corresponding out host')\n",
    "        bads.append(m)\n",
    "        continue\n",
    "    \n",
    "    #avoid snap 53 and 55\n",
    "    if snap-1 in [53, 55]:\n",
    "        prev_snap = snap-2\n",
    "    else:\n",
    "        prev_snap = snap-1\n",
    "    \n",
    "    #prev_in2\n",
    "    try:\n",
    "        test = (all_arr['id'] == id_out) & (all_arr['snap'] == prev_snap)\n",
    "        ids_prev_out = np.where(test)[0][0]\n",
    "    except IndexError:\n",
    "        print(f'{m}: no corresponding in2 host')\n",
    "        bads.append(m)\n",
    "        continue\n",
    "     \n",
    "    #prev_in1\n",
    "    try:\n",
    "        test = (all_arr['id'] == id_in) & (all_arr['snap'] == prev_snap)\n",
    "        ids_prev_in = np.where(test)[0][0]\n",
    "    except IndexError:\n",
    "        print(f'{m}: no corresponding in1 host')\n",
    "        bads.append(m)\n",
    "        continue\n",
    "    \n",
    "    subs_to_search.append({'merger': m, 'final_out': ids_final, 'prev_out': ids_prev_out, 'prev_in': ids_prev_in})"
   ]
  },
  {
   "cell_type": "code",
   "execution_count": 73,
   "metadata": {},
   "outputs": [
    {
     "data": {
      "text/plain": [
       "18407"
      ]
     },
     "execution_count": 73,
     "metadata": {},
     "output_type": "execute_result"
    }
   ],
   "source": [
    "len(subs_to_search) #17196 / 18407\n",
    "# subs_to_search"
   ]
  },
  {
   "cell_type": "code",
   "execution_count": 74,
   "metadata": {},
   "outputs": [],
   "source": [
    "subs_to_search = {key: [subs_to_search[i][key] for i in range(len(subs_to_search))] for key in subs_to_search[0].keys()}"
   ]
  },
  {
   "cell_type": "code",
   "execution_count": 75,
   "metadata": {},
   "outputs": [],
   "source": [
    "subs_to_search = {key: np.asarray(subs_to_search[key], dtype = int) for key in subs_to_search}"
   ]
  },
  {
   "cell_type": "code",
   "execution_count": 76,
   "metadata": {},
   "outputs": [
    {
     "data": {
      "text/plain": [
       "18407"
      ]
     },
     "execution_count": 76,
     "metadata": {},
     "output_type": "execute_result"
    }
   ],
   "source": [
    "len(subs_to_search['merger']) #19073 / 19074 / 17196"
   ]
  },
  {
   "cell_type": "code",
   "execution_count": 77,
   "metadata": {},
   "outputs": [],
   "source": [
    "snap_out = all_arr['snap'][np.asarray(subs_to_search['final_out'], dtype = int)]\n",
    "sub_out = all_arr['sub'][np.asarray(subs_to_search['final_out'], dtype = int)]\n",
    "subID_raw_mergers = np.asarray(snap_out*1e12 + sub_out, dtype = np.int64)\n",
    "\n",
    "\n",
    "ids_final_gc = sort_gc[np.searchsorted(subID_raw_gc[sort_gc], subID_raw_mergers)]\n",
    "suhalolentype = suhalolentype[ids_final_gc]"
   ]
  },
  {
   "cell_type": "code",
   "execution_count": 97,
   "metadata": {},
   "outputs": [],
   "source": [
    "keep1 = np.where((suhalolentype[:,0] >= 80) & (suhalolentype[:,1] >= 300) & (suhalolentype[:,4] >= 80))[0]\n",
    "subs_to_search = {key: subs_to_search[key][keep1] for key in subs_to_search}"
   ]
  },
  {
   "cell_type": "code",
   "execution_count": 98,
   "metadata": {},
   "outputs": [
    {
     "data": {
      "text/plain": [
       "18407"
      ]
     },
     "execution_count": 98,
     "metadata": {},
     "output_type": "execute_result"
    }
   ],
   "source": [
    "len(subs_to_search['merger']) #18515 #16735"
   ]
  },
  {
   "cell_type": "code",
   "execution_count": 53,
   "metadata": {},
   "outputs": [],
   "source": [
    "which = {'final_out':3, 'prev_out':2, 'prev_in':1}"
   ]
  },
  {
   "cell_type": "code",
   "execution_count": 54,
   "metadata": {},
   "outputs": [],
   "source": [
    "out = []\n",
    "\n",
    "for key in ['final_out', 'prev_in', 'prev_out']:\n",
    "    vals = subs_to_search[key]\n",
    "    out.append(\n",
    "        [subs_to_search['merger'],\n",
    "         all_arr['snap'][vals],\n",
    "         all_arr['sub'][vals],\n",
    "         np.full(len(vals), which[key])]\n",
    "    )"
   ]
  },
  {
   "cell_type": "code",
   "execution_count": 55,
   "metadata": {},
   "outputs": [],
   "source": [
    "out = np.concatenate(out, axis = 1).T\n",
    "\n",
    "dtype = [('m', np.dtype(int)), ('which', np.dtype(int)), ('snap', np.dtype(int)), ('sub', np.dtype(int))]\n",
    "\n",
    "out = np.core.records.fromarrays([out[:, 0], out[:, 3], out[:, 1], out[:, 2]], dtype=dtype)\n",
    "out = np.sort(out, order=('m', 'which', 'snap', 'sub'))"
   ]
  },
  {
   "cell_type": "code",
   "execution_count": 75,
   "metadata": {},
   "outputs": [
    {
     "data": {
      "text/plain": [
       "50205"
      ]
     },
     "execution_count": 75,
     "metadata": {},
     "output_type": "execute_result"
    }
   ],
   "source": [
    "len(out)"
   ]
  },
  {
   "cell_type": "code",
   "execution_count": 57,
   "metadata": {},
   "outputs": [],
   "source": [
    "fname = 'illustris_data/snap_subs_final.hdf5'\n",
    "header = ('which number is (3, final_out) (2, prev_out) (1, prev_in)'\n",
    "                '\\nmerger\\twhich\\tsnap\\tsub')\n",
    "np.savetxt(fname, out, fmt = '%i\\t%i\\t%i\\t%i', header=header)"
   ]
  },
  {
   "cell_type": "code",
   "execution_count": 120,
   "metadata": {},
   "outputs": [],
   "source": [
    "a = 9"
   ]
  },
  {
   "cell_type": "code",
   "execution_count": 121,
   "metadata": {},
   "outputs": [
    {
     "data": {
      "text/plain": [
       "array([(9, 1, 43, 716), (9, 2, 43, 714), (9, 3, 44, 301)],\n",
       "      dtype=[('merger', '<i8'), ('which', '<i8'), ('snap', '<i8'), ('sub', '<i8')])"
      ]
     },
     "execution_count": 121,
     "metadata": {},
     "output_type": "execute_result"
    }
   ],
   "source": [
    "snap_subs[a*3:a*3+3]"
   ]
  },
  {
   "cell_type": "markdown",
   "metadata": {
    "heading_collapsed": true
   },
   "source": [
    "# download subhalos"
   ]
  },
  {
   "cell_type": "code",
   "execution_count": 69,
   "metadata": {
    "hidden": true
   },
   "outputs": [],
   "source": [
    "fname = 'illustris_data/snap_subs_final.hdf5'\n",
    "snap_subs = np.genfromtxt(fname, skip_header = 1, names = True, dtype = None)"
   ]
  },
  {
   "cell_type": "code",
   "execution_count": 70,
   "metadata": {
    "hidden": true
   },
   "outputs": [],
   "source": [
    "list1 = []\n",
    "for i in range(len(snap_subs)):\n",
    "    list1.append(str(snap_subs[i][2]) + '_'+ str(snap_subs[i][3]))"
   ]
  },
  {
   "cell_type": "code",
   "execution_count": 71,
   "metadata": {
    "hidden": true
   },
   "outputs": [],
   "source": [
    "path = 'illustris_data/final/extra/'\n",
    "file_list = os.listdir(path)"
   ]
  },
  {
   "cell_type": "code",
   "execution_count": 72,
   "metadata": {
    "hidden": true
   },
   "outputs": [],
   "source": [
    "list2 = [x[7:-5] for x in file_list]"
   ]
  },
  {
   "cell_type": "code",
   "execution_count": 73,
   "metadata": {
    "hidden": true
   },
   "outputs": [],
   "source": [
    "f_list = list(set(list1) - set(list2))"
   ]
  },
  {
   "cell_type": "code",
   "execution_count": 74,
   "metadata": {
    "hidden": true
   },
   "outputs": [],
   "source": [
    "snaps = []\n",
    "subs = []\n",
    "for i in range(len(f_list)):\n",
    "    snaps.append(int(f_list[i].split('_')[0]))\n",
    "    subs.append(int(f_list[i].split('_')[1]))"
   ]
  },
  {
   "cell_type": "code",
   "execution_count": 76,
   "metadata": {
    "hidden": true
   },
   "outputs": [],
   "source": [
    "# snaps"
   ]
  },
  {
   "cell_type": "code",
   "execution_count": 255,
   "metadata": {
    "hidden": true
   },
   "outputs": [
    {
     "name": "stdout",
     "output_type": "stream",
     "text": [
      "0 1 2 3 4 5 6 7 8 9 10 11 12 13 14 15 16 17 18 19 20 21 22 23 24 25 26 27 28 29 30 31 32 33 34 35 36 37 38 39 40 41 42 43 44 45 46 47 48 49 50 51 52 53 54 55 56 57 58 59 60 61 62 63 64 65 66 67 68 69 70 71 72 73 74 75 76 77 78 79 80 81 82 83 84 85 86 87 88 89 90 91 92 93 94 95 96 97 98 99 100 101 102 103 104 105 106 107 108 109 110 111 112 113 114 115 116 117 118 119 120 121 122 123 124 125 126 127 128 129 130 131 132 133 134 135 136 137 138 139 140 141 142 143 144 145 146 147 148 149 150 151 152 153 154 155 156 157 158 159 160 161 162 163 164 165 166 167 168 169 170 171 172 173 174 175 176 177 178 179 180 181 182 183 184 185 186 187 188 189 190 191 192 193 194 195 196 197 198 199 200 201 202 203 204 205 206 207 208 209 210 211 212 213 214 215 216 217 218 219 220 221 222 223 224 225 226 227 228 229 230 231 232 233 234 235 236 237 238 239 240 241 242 243 244 245 246 247 248 249 250 251 252 253 254 255 256 257 258 259 260 261 262 263 264 265 266 267 268 269 270 271 272 273 274 275 276 277 278 279 280 281 282 283 284 285 286 287 288 289 290 291 292 293 294 295 296 297 298 299 300 301 302 303 304 305 306 307 308 309 310 311 312 313 314 315 316 317 318 319 320 321 322 323 324 325 326 327 328 329 330 331 332 333 334 335 336 337 338 339 340 341 342 343 344 345 346 347 348 349 350 351 352 353 354 355 356 357 358 359 360 361 362 363 364 365 366 367 368 369 370 371 372 373 374 375 376 377 378 379 380 381 382 383 384 385 386 387 388 389 390 391 392 393 394 395 396 397 398 399 400 401 402 403 404 405 406 407 408 409 410 411 412 413 414 415 416 417 418 419 420 421 422 423 424 425 426 427 428 429 430 431 432 433 434 435 436 437 438 439 440 441 442 443 444 445 446 447 448 449 450 451 452 453 454 455 456 457 458 459 460 461 462 463 464 465 466 467 468 469 470 471 472 473 474 475 476 477 478 479 480 481 482 483 484 485 486 487 488 489 490 491 492 493 494 495 496 497 498 499 500 501 502 503 504 505 506 507 508 509 510 511 512 513 514 515 516 517 518 519 520 521 522 523 524 525 526 527 528 529 530 531 532 533 534 535 536 537 538 539 540 541 542 543 544 545 546 547 548 549 550 551 552 553 554 555 556 557 558 559 560 561 562 563 564 565 566 567 568 569 570 571 572 573 574 575 576 577 578 579 580 581 582 583 584 585 586 587 588 589 590 591 592 593 594 595 596 597 598 599 600 601 602 603 604 605 606 607 608 609 610 611 612 613 614 615 616 617 618 619 620 621 622 623 624 625 626 627 628 629 630 631 632 633 634 635 636 637 638 639 640 641 642 643 644 645 646 647 648 649 650 651 652 653 654 655 656 657 658 659 660 661 662 663 664 665 666 667 668 669 670 671 672 673 674 675 676 677 678 679 680 681 682 683 684 685 686 687 688 689 690 691 692 693 694 695 696 697 698 699 700 701 702 703 704 705 706 707 708 709 710 711 712 713 714 715 716 717 718 719 720 721 722 723 724 725 726 727 728 729 730 731 732 733 734 735 736 737 738 739 740 741 742 743 744 745 746 747 748 749 750 751 752 753 754 755 756 757 758 759 760 761 762 763 764 765 766 767 768 769 770 771 772 773 774 775 776 777 778 779 780 781 782 783 784 785 786 787 788 789 790 791 792 793 794 795 796 797 798 799 800 801 802 803 804 805 806 807 808 809 810 811 812 813 814 815 816 817 818 819 820 821 822 823 824 825 826 827 828 829 830 831 832 833 834 835 836 837 838 839 840 841 842 843 844 845 846 847 848 849 850 851 852 853 854 855 856 857 858 859 860 861 862 863 864 865 866 867 868 869 870 871 872 873 874 875 876 877 878 879 880 881 882 883 884 885 886 887 888 889 890 891 892 893 894 895 896 897 898 899 900 901 902 903 904 905 906 907 908 909 910 911 912 913 914 915 916 917 918 919 920 921 922 923 924 925 926 927 928 929 930 931 932 933 934 935 936 937 938 939 940 941 942 943 944 945 946 947 948 949 950 951 952 953 954 955 956 957 958 959 960 961 962 963 964 965 966 967 968 969 970 971 972 973 974 975 976 977 978 979 980 981 982 983 984 985 986 987 988 989 990 991 992 993 994 995 996 997 998 999 1000 1001 1002 1003 1004 1005 1006 1007 1008 1009 1010 1011 1012 1013 1014 1015 1016 1017 1018 1019 1020 1021 1022 1023 1024 1025 1026 1027 1028 1029 1030 1031 1032 1033 1034 1035 1036 1037 1038 1039 1040 1041 1042 1043 1044 1045 1046 1047 1048 1049 1050 1051 1052 1053 1054 1055 1056 1057 1058 1059 1060 1061 1062 1063 1064 1065 1066 1067 1068 1069 1070 1071 1072 1073 1074 1075 1076 1077 1078 1079 1080 1081 1082 1083 1084 1085 1086 1087 1088 1089 1090 1091 1092 1093 1094 1095 1096 1097 1098 1099 1100 1101 1102 1103 1104 1105 1106 1107 1108 1109 1110 1111 1112 1113 1114 1115 1116 1117 1118 1119 1120 1121 1122 1123 1124 1125 1126 1127 1128 1129 1130 1131 1132 1133 1134 1135 1136 1137 1138 1139 1140 1141 1142 1143 1144 1145 1146 1147 1148 1149 1150 1151 1152 1153 1154 1155 1156 1157 1158 1159 1160 1161 1162 1163 1164 1165 1166 1167 1168 1169 1170 1171 1172 1173 1174 1175 1176 1177 1178 1179 1180 1181 1182 1183 1184 1185 1186 1187 1188 1189 1190 1191 1192 1193 1194 1195 1196 1197 1198 1199 1200 1201 1202 1203 1204 1205 1206 1207 1208 1209 1210 1211 1212 1213 1214 1215 1216 1217 1218 1219 1220 1221 1222 1223 1224 1225 1226 1227 1228 1229 1230 1231 1232 1233 1234 1235 1236 1237 1238 1239 1240 1241 1242 1243 1244 1245 1246 1247 1248 1249 1250 1251 1252 1253 1254 1255 1256 1257 1258 1259 1260 1261 1262 1263 1264 1265 1266 1267 1268 1269 1270 1271 1272 1273 1274 1275 1276 1277 1278 1279 1280 1281 1282 1283 1284 1285 1286 1287 1288 1289 1290 1291 1292 1293 1294 1295 1296 1297 1298 1299 1300 1301 1302 1303 1304 1305 1306 1307 1308 1309 1310 1311 1312 1313 1314 1315 1316 1317 1318 1319 1320 1321 1322 1323 1324 1325 1326 1327 1328 1329 1330 1331 1332 1333 1334 1335 1336 1337 1338 1339 1340 1341 1342 1343 1344 1345 1346 1347 1348 1349 1350 1351 1352 1353 1354 1355 1356 1357 1358 1359 1360 1361 1362 1363 1364 1365 1366 1367 1368 1369 1370 1371 1372 1373 1374 1375 1376 1377 1378 1379 1380 1381 1382 1383 1384 1385 1386 1387 1388 1389 1390 1391 1392 1393 1394 1395 1396 1397 1398 1399 1400 1401 1402 1403 1404 1405 1406 1407 1408 1409 1410 1411 1412 1413 1414 1415 1416 1417 1418 1419 1420 1421 1422 1423 1424 1425 1426 1427 1428 1429 1430 1431 1432 1433 1434 1435 1436 1437 1438 1439 1440 1441 1442 1443 1444 1445 1446 1447 1448 1449 1450 1451 1452 1453 1454 1455 1456 1457 1458 1459 1460 1461 1462 1463 1464 1465 1466 1467 1468 1469 1470 1471 1472 1473 1474 1475 1476 1477 1478 1479 1480 1481 1482 1483 1484 1485 1486 1487 1488 1489 1490 1491 1492 1493 1494 1495 1496 1497 1498 1499 1500 1501 1502 1503 1504 1505 1506 1507 1508 1509 1510 1511 1512 1513 1514 1515 1516 1517 1518 1519 1520 1521 1522 1523 1524 1525 1526 1527 1528 1529 1530 1531 1532 1533 1534 1535 1536 1537 1538 1539 1540 1541 1542 1543 1544 1545 1546 1547 1548 1549 1550 1551 1552 1553 1554 1555 1556 1557 1558 1559 1560 1561 1562 1563 1564 1565 1566 1567 1568 1569 1570 1571 1572 1573 1574 1575 1576 1577 1578 1579 1580 1581 1582 1583 1584 1585 1586 1587 1588 1589 1590 1591 1592 1593 1594 1595 1596 1597 1598 1599 1600 1601 1602 1603 1604 1605 1606 1607 1608 1609 1610 1611 1612 1613 1614 1615 1616 1617 1618 1619 1620 1621 1622 1623 1624 1625 1626 1627 1628 1629 1630 1631 1632 1633 1634 1635 1636 1637 1638 1639 1640 1641 1642 1643 1644 1645 1646 1647 1648 1649 1650 1651 1652 1653 1654 1655 1656 1657 1658 1659 1660 1661 1662 1663 1664 1665 1666 1667 1668 1669 1670 1671 1672 1673 1674 1675 1676 1677 1678 1679 1680 1681 1682 1683 1684 1685 1686 1687 1688 1689 1690 1691 1692 1693 1694 1695 1696 1697 1698 1699 1700 1701 1702 1703 1704 1705 1706 1707 1708 1709 1710 1711 1712 1713 1714 1715 1716 1717 1718 1719 1720 1721 1722 1723 1724 1725 1726 1727 1728 1729 1730 1731 1732 1733 1734 1735 1736 1737 1738 1739 1740 1741 1742 1743 1744 1745 1746 1747 1748 1749 1750 1751 1752 1753 1754 1755 1756 1757 1758 1759 1760 1761 1762 1763 1764 1765 1766 1767 1768 1769 1770 1771 1772 1773 1774 1775 1776 1777 1778 1779 1780 1781 1782 1783 1784 1785 1786 1787 1788 1789 1790 1791 1792 1793 1794 1795 1796 1797 1798 1799 1800 1801 1802 1803 1804 1805 1806 1807 1808 1809 1810 1811 1812 1813 1814 1815 1816 1817 1818 1819 1820 1821 1822 1823 1824 1825 1826 1827 1828 1829 1830 1831 1832 1833 1834 1835 1836 1837 1838 1839 1840 1841 1842 1843 1844 1845 1846 1847 1848 1849 1850 1851 1852 1853 1854 1855 1856 1857 1858 1859 1860 "
     ]
    },
    {
     "name": "stdout",
     "output_type": "stream",
     "text": [
      "1861 1862 1863 1864 1865 1866 1867 1868 1869 1870 1871 1872 1873 1874 1875 1876 1877 1878 1879 1880 1881 1882 1883 1884 1885 1886 1887 1888 1889 1890 1891 1892 1893 1894 1895 1896 1897 1898 1899 1900 1901 1902 1903 1904 1905 1906 1907 1908 1909 1910 1911 1912 1913 1914 1915 1916 1917 1918 1919 1920 1921 1922 1923 1924 1925 1926 1927 1928 1929 1930 1931 1932 1933 1934 1935 1936 1937 1938 1939 1940 1941 1942 1943 1944 1945 1946 1947 1948 1949 1950 1951 1952 1953 1954 1955 1956 1957 1958 1959 1960 1961 1962 1963 1964 1965 1966 1967 1968 1969 1970 1971 1972 1973 1974 1975 1976 1977 1978 1979 1980 1981 1982 1983 1984 1985 1986 1987 1988 1989 1990 1991 1992 1993 1994 1995 1996 1997 1998 1999 2000 2001 2002 2003 2004 2005 2006 2007 2008 2009 2010 2011 2012 2013 2014 2015 2016 2017 2018 2019 2020 2021 2022 2023 2024 2025 2026 2027 2028 2029 2030 2031 2032 2033 2034 2035 2036 2037 2038 2039 2040 2041 2042 2043 2044 2045 2046 2047 2048 2049 2050 2051 2052 2053 2054 2055 2056 2057 2058 2059 2060 2061 2062 2063 2064 2065 2066 2067 2068 2069 2070 2071 2072 2073 2074 2075 2076 2077 2078 2079 2080 2081 2082 2083 2084 2085 2086 2087 2088 2089 2090 2091 2092 2093 2094 2095 2096 2097 2098 2099 2100 2101 2102 2103 2104 2105 2106 2107 2108 2109 2110 2111 2112 2113 2114 2115 2116 2117 2118 2119 2120 2121 2122 2123 2124 2125 2126 2127 2128 2129 2130 2131 2132 2133 2134 2135 2136 2137 2138 2139 2140 2141 2142 2143 2144 2145 2146 2147 2148 2149 2150 2151 2152 2153 2154 2155 2156 2157 2158 2159 2160 2161 2162 2163 2164 2165 2166 2167 2168 2169 2170 2171 2172 2173 2174 2175 2176 2177 2178 2179 2180 2181 2182 2183 2184 2185 2186 2187 2188 2189 2190 2191 2192 2193 2194 2195 2196 2197 2198 2199 2200 2201 2202 2203 2204 2205 2206 2207 2208 2209 2210 2211 2212 2213 2214 2215 2216 2217 2218 2219 2220 2221 2222 2223 2224 2225 2226 2227 2228 2229 2230 2231 2232 2233 2234 2235 2236 2237 2238 2239 2240 2241 2242 2243 2244 2245 2246 2247 2248 2249 2250 2251 2252 2253 2254 2255 2256 2257 2258 2259 2260 2261 2262 2263 2264 2265 2266 2267 2268 2269 2270 2271 2272 2273 2274 2275 2276 2277 2278 2279 2280 2281 2282 2283 2284 2285 2286 2287 2288 2289 2290 2291 2292 2293 2294 2295 2296 2297 2298 2299 2300 2301 2302 2303 2304 2305 2306 2307 2308 2309 2310 2311 2312 2313 2314 2315 2316 2317 2318 2319 2320 2321 2322 2323 2324 2325 2326 2327 2328 2329 2330 2331 2332 2333 2334 2335 2336 2337 2338 2339 2340 2341 2342 2343 2344 2345 2346 2347 2348 2349 2350 2351 2352 2353 2354 2355 2356 2357 2358 2359 2360 2361 2362 2363 2364 2365 2366 2367 2368 2369 2370 2371 2372 2373 2374 2375 2376 2377 2378 2379 2380 2381 2382 2383 2384 2385 2386 2387 2388 2389 2390 2391 2392 2393 2394 2395 2396 2397 2398 2399 2400 2401 2402 2403 2404 2405 2406 2407 2408 2409 2410 2411 2412 2413 2414 2415 2416 2417 2418 2419 2420 2421 2422 2423 2424 2425 2426 2427 2428 2429 2430 2431 2432 2433 2434 2435 2436 2437 2438 2439 2440 2441 2442 2443 2444 2445 2446 2447 2448 2449 2450 2451 2452 2453 2454 2455 2456 2457 2458 2459 2460 2461 2462 2463 2464 2465 2466 2467 2468 2469 2470 2471 2472 2473 2474 2475 2476 2477 2478 2479 2480 2481 2482 2483 2484 2485 2486 2487 2488 2489 2490 2491 2492 2493 2494 2495 2496 2497 2498 2499 2500 2501 2502 2503 2504 2505 2506 2507 2508 2509 2510 2511 2512 2513 2514 2515 2516 2517 2518 2519 2520 2521 2522 2523 2524 2525 2526 2527 2528 2529 2530 2531 2532 2533 2534 2535 2536 2537 2538 2539 2540 2541 2542 2543 2544 2545 2546 2547 2548 2549 2550 2551 2552 2553 2554 2555 2556 2557 2558 2559 2560 2561 2562 2563 2564 2565 2566 2567 2568 2569 2570 2571 2572 2573 2574 2575 2576 2577 2578 2579 2580 2581 2582 2583 2584 2585 2586 2587 2588 2589 2590 2591 2592 2593 2594 2595 2596 2597 2598 2599 2600 2601 2602 2603 2604 2605 2606 2607 2608 2609 2610 2611 2612 2613 2614 2615 2616 2617 2618 2619 2620 2621 2622 2623 2624 2625 2626 2627 2628 2629 2630 2631 2632 2633 2634 2635 2636 2637 2638 2639 2640 2641 2642 2643 2644 2645 2646 2647 2648 2649 2650 2651 2652 2653 2654 2655 2656 2657 2658 2659 2660 2661 2662 2663 2664 2665 2666 2667 2668 2669 2670 2671 2672 2673 2674 2675 2676 2677 2678 2679 2680 2681 2682 2683 2684 2685 2686 2687 2688 2689 2690 2691 2692 2693 2694 2695 2696 2697 2698 2699 2700 2701 2702 2703 2704 2705 2706 2707 2708 2709 2710 2711 2712 2713 2714 2715 2716 2717 2718 2719 2720 2721 2722 2723 2724 2725 2726 2727 2728 2729 2730 2731 2732 2733 2734 2735 2736 2737 2738 2739 2740 2741 2742 2743 2744 2745 2746 2747 2748 2749 2750 2751 2752 2753 2754 2755 2756 2757 2758 2759 2760 2761 2762 2763 2764 2765 2766 2767 2768 2769 2770 2771 2772 2773 2774 2775 2776 2777 2778 2779 2780 2781 2782 2783 2784 2785 2786 2787 2788 2789 2790 2791 2792 2793 2794 2795 2796 2797 2798 2799 2800 2801 2802 2803 2804 2805 2806 2807 2808 2809 2810 2811 2812 2813 2814 2815 2816 2817 2818 2819 2820 2821 2822 2823 2824 2825 2826 2827 2828 2829 2830 2831 2832 2833 2834 2835 2836 2837 2838 2839 2840 2841 2842 2843 2844 2845 2846 2847 2848 2849 2850 2851 2852 2853 2854 2855 2856 2857 2858 2859 2860 2861 2862 2863 2864 2865 2866 2867 2868 2869 2870 2871 2872 2873 2874 2875 "
     ]
    }
   ],
   "source": [
    "for i in range(len(snaps)):\n",
    "#     which = row[1]\n",
    "#     snap = row[2]\n",
    "#     sub = row[3]\n",
    "    print(i, end = ' ')\n",
    "    cutout_request = {\n",
    "        'bhs': 'all',\n",
    "        'gas': 'Coordinates,Masses,Velocities,StarFormationRate',\n",
    "        'stars': 'Coordinates,Masses,Velocities,GFM_StellarFormationTime',\n",
    "        'dm': 'Coordinates,Velocities'\n",
    "    }\n",
    "    \n",
    "    cutout = get(f'http://www.illustris-project.org/api/Illustris-1/snapshots/{snaps[i]}/subhalos/{subs[i]}/cutout.hdf5', cutout_request)\n",
    "    \n",
    "    path = f'illustris_data/final/extra/cutout_{snaps[i]}_{subs[i]}.hdf5'\n",
    "    \n",
    "    with open(path, 'wb') as f:\n",
    "        f.write(cutout.content)"
   ]
  },
  {
   "cell_type": "markdown",
   "metadata": {},
   "source": [
    "# final data"
   ]
  },
  {
   "cell_type": "markdown",
   "metadata": {},
   "source": [
    "## density fit"
   ]
  },
  {
   "cell_type": "code",
   "execution_count": 11,
   "metadata": {},
   "outputs": [],
   "source": [
    "fname = 'illustris_data/snap_subs_final.hdf5'\n",
    "snap_subs = np.genfromtxt(fname, skip_header = 1, names = True, dtype = None)"
   ]
  },
  {
   "cell_type": "code",
   "execution_count": 12,
   "metadata": {},
   "outputs": [
    {
     "data": {
      "text/plain": [
       "55545"
      ]
     },
     "execution_count": 12,
     "metadata": {},
     "output_type": "execute_result"
    }
   ],
   "source": [
    "len(snap_subs)"
   ]
  },
  {
   "cell_type": "code",
   "execution_count": 13,
   "metadata": {},
   "outputs": [
    {
     "name": "stderr",
     "output_type": "stream",
     "text": [
      "/home/ehko/anaconda3/lib/python3.7/site-packages/ipykernel_launcher.py:1: H5pyDeprecationWarning: The default file mode will change to 'r' (read-only) in h5py 3.0. To suppress this warning, pass the mode you need to h5py.File(), or set the global default h5.get_config().default_file_mode, or set the environment variable H5PY_DEFAULT_READONLY=1. Available modes are: 'r', 'r+', 'w', 'w-'/'x', 'a'. See the docs for details.\n",
      "  \"\"\"Entry point for launching an IPython kernel.\n"
     ]
    }
   ],
   "source": [
    "with h5py.File('illustris_data/blackhole_mergers.hdf5') as f:\n",
    "    merger_time = f['time'][:]"
   ]
  },
  {
   "cell_type": "code",
   "execution_count": 14,
   "metadata": {},
   "outputs": [
    {
     "name": "stderr",
     "output_type": "stream",
     "text": [
      "/home/ehko/anaconda3/lib/python3.7/site-packages/ipykernel_launcher.py:5: H5pyDeprecationWarning: The default file mode will change to 'r' (read-only) in h5py 3.0. To suppress this warning, pass the mode you need to h5py.File(), or set the global default h5.get_config().default_file_mode, or set the environment variable H5PY_DEFAULT_READONLY=1. Available modes are: 'r', 'r+', 'w', 'w-'/'x', 'a'. See the docs for details.\n",
      "  \"\"\"\n"
     ]
    }
   ],
   "source": [
    "# with h5py.File('illustris_data/groupcat_total.hdf5') as f:\n",
    "#     subs_gc = f['SubhaloID'][:]\n",
    "#     snaps_gc = f['Snapshot'][:]\n",
    "#     subhalo_cm_gc = f['SubhaloCM'][:]\n",
    "groupcat = h5py.File('illustris_data/groupcat_total.hdf5')"
   ]
  },
  {
   "cell_type": "code",
   "execution_count": 15,
   "metadata": {},
   "outputs": [],
   "source": [
    "def fit_func(x, a, b):\n",
    "    \"\"\"\n",
    "    Power law fit for the density profile\n",
    "    \"\"\"\n",
    "    return a*x**-b"
   ]
  },
  {
   "cell_type": "code",
   "execution_count": 16,
   "metadata": {},
   "outputs": [],
   "source": [
    "def density_profile(coord, masses, scale, sub_cm):\n",
    "    \n",
    "    radius = np.sqrt(np.sum((coord - sub_cm)**2, axis=1))*scale*1e3\n",
    "\n",
    "    dtype = [('rad', np.dtype(float)), ('mass', np.dtype(float))]\n",
    "    all_particles = np.core.records.fromarrays([radius, masses], dtype=dtype)\n",
    "\n",
    "    all_particles = np.sort(all_particles, order=('rad',))\n",
    "\n",
    "    extr = [all_particles['rad'][0]-1, all_particles['rad'][-1]+1]\n",
    "    radial_bins_edges = np.logspace(*np.log10(extr), 100)\n",
    "\n",
    "    bin_number_for_each_paricle = np.searchsorted(radial_bins_edges, all_particles['rad'])\n",
    "    unique_bins, bin_count = np.unique(bin_number_for_each_paricle, return_counts=True)\n",
    "\n",
    "#     inds_bins = np.where(bin_count >= 4)[0][0:8]\n",
    "\n",
    "#     unique_bins = unique_bins[inds_bins]\n",
    "\n",
    "#     radial_bins_inner_edges = radial_bins_edges[inds_bins]\n",
    "#     radial_bins_outer_edges = radial_bins_edges[inds_bins+1]\n",
    "\n",
    "#     radial_bin_centers = (radial_bins_outer_edges + radial_bins_inner_edges)/2.\n",
    "\n",
    "#     volume_bin = 4/3.*np.pi*(radial_bins_outer_edges**3 - radial_bins_inner_edges**3)\n",
    "\n",
    "#     density_bin = np.zeros(len(radial_bin_centers))\n",
    "\n",
    "#     for i, bin in enumerate(unique_bins):\n",
    "\n",
    "#         inds_bin = (bin_number_for_each_paricle == bin)\n",
    "#         density_bin[i] = np.sum(all_particles['mass'][inds_bin])/volume_bin[i]\n",
    "\n",
    "#     var, cov = curve_fit(fit_func, radial_bin_centers[0:8], density_bin[0:8], maxfev = 1000)\n",
    "  \n",
    "    return bin_count"
   ]
  },
  {
   "cell_type": "code",
   "execution_count": 17,
   "metadata": {},
   "outputs": [],
   "source": [
    "def get_sub_index(snap, sub):\n",
    "    \n",
    "    ind = np.where((groupcat['Snapshot'][:] == snap) & (groupcat['SubhaloID'][:] == sub))[0]\n",
    "    \n",
    "#     sub_cm = groupcat['SubhaloCM'][ind]\n",
    "    return ind"
   ]
  },
  {
   "cell_type": "code",
   "execution_count": 20,
   "metadata": {},
   "outputs": [],
   "source": [
    "h = 0.704"
   ]
  },
  {
   "cell_type": "code",
   "execution_count": 23,
   "metadata": {},
   "outputs": [
    {
     "name": "stdout",
     "output_type": "stream",
     "text": [
      "10000 "
     ]
    },
    {
     "name": "stderr",
     "output_type": "stream",
     "text": [
      "/home/ehko/anaconda3/lib/python3.7/site-packages/ipykernel_launcher.py:14: H5pyDeprecationWarning: The default file mode will change to 'r' (read-only) in h5py 3.0. To suppress this warning, pass the mode you need to h5py.File(), or set the global default h5.get_config().default_file_mode, or set the environment variable H5PY_DEFAULT_READONLY=1. Available modes are: 'r', 'r+', 'w', 'w-'/'x', 'a'. See the docs for details.\n",
      "  \n"
     ]
    },
    {
     "name": "stdout",
     "output_type": "stream",
     "text": [
      "10001 10002 10003 10004 10005 10006 10007 10008 10009 10010 10011 10012 10013 10014 10015 10016 10017 10018 10019 10020 10021 10022 10023 10024 10025 10026 10027 10028 10029 10030 10031 10032 10033 10034 10035 10036 10037 10038 10039 10040 10041 10042 10043 10044 10045 10046 10047 10048 10049 10050 10051 10052 10053 10054 10055 10056 10057 10058 10059 10060 10061 10062 10063 10064 10065 10066 10067 10068 10069 10070 10071 10072 10073 10074 10075 10076 10077 10078 10079 10080 10081 10082 10083 10084 10085 10086 10087 10088 10089 10090 10091 10092 10093 10094 10095 10096 10097 10098 10099 10100 10101 10102 10103 10104 10105 10106 10107 10108 10109 10110 10111 10112 10113 10114 10115 10116 10117 10118 10119 10120 10121 10122 10123 10124 10125 10126 10127 10128 10129 10130 10131 10132 10133 10134 10135 10136 10137 10138 10139 10140 10141 10142 10143 10144 10145 10146 10147 10148 10149 10150 10151 10152 10153 10154 10155 10156 10157 10158 10159 10160 10161 10162 10163 10164 10165 10166 10167 10168 10169 10170 10171 10172 10173 10174 10175 10176 10177 10178 10179 10180 10181 10182 10183 10184 10185 10186 10187 10188 10189 10190 10191 10192 10193 10194 10195 10196 10197 10198 10199 10200 10201 10202 10203 10204 10205 10206 10207 10208 10209 10210 10211 10212 10213 10214 10215 10216 10217 10218 10219 10220 10221 10222 10223 10224 10225 10226 10227 10228 10229 10230 10231 10232 10233 10234 10235 10236 10237 10238 10239 10240 10241 10242 10243 10244 10245 10246 10247 10248 10249 10250 10251 10252 10253 10254 10255 10256 10257 10258 10259 10260 10261 10262 10263 10264 10265 10266 10267 10268 10269 10270 10271 10272 10273 10274 10275 10276 10277 10278 10279 10280 10281 10282 10283 10284 10285 10286 10287 10288 10289 10290 10291 10292 10293 10294 10295 10296 10297 10298 10299 10300 10301 10302 10303 10304 10305 10306 10307 10308 10309 10310 10311 10312 10313 10314 10315 10316 10317 10318 10319 10320 10321 10322 10323 10324 10325 10326 10327 10328 10329 10330 10331 10332 10333 10334 10335 10336 10337 10338 10339 10340 10341 10342 10343 10344 10345 10346 10347 10348 10349 10350 10351 10352 10353 10354 10355 10356 10357 10358 10359 10360 10361 10362 10363 10364 10365 10366 10367 10368 10369 10370 10371 10372 10373 10374 10375 10376 10377 10378 10379 10380 10381 10382 10383 10384 10385 10386 10387 10388 10389 10390 10391 10392 10393 10394 10395 10396 10397 10398 10399 10400 10401 10402 10403 10404 10405 10406 10407 10408 10409 10410 10411 10412 10413 10414 10415 10416 10417 10418 10419 10420 10421 10422 10423 10424 10425 10426 10427 10428 10429 10430 10431 10432 10433 10434 10435 10436 10437 10438 10439 10440 10441 10442 10443 10444 10445 10446 10447 10448 10449 10450 10451 10452 10453 10454 10455 10456 10457 10458 10459 10460 10461 10462 10463 10464 10465 10466 10467 10468 10469 10470 10471 10472 10473 10474 10475 10476 10477 10478 10479 10480 10481 10482 10483 10484 10485 10486 10487 10488 10489 10490 10491 10492 10493 10494 10495 10496 10497 10498 10499 10500 10501 10502 10503 10504 10505 10506 10507 10508 10509 10510 10511 10512 10513 10514 10515 10516 10517 10518 10519 10520 10521 10522 10523 10524 10525 10526 10527 10528 10529 10530 10531 10532 10533 10534 10535 10536 10537 10538 10539 10540 10541 10542 10543 10544 10545 10546 10547 10548 10549 10550 10551 10552 10553 10554 10555 10556 10557 10558 10559 10560 10561 10562 10563 10564 10565 10566 10567 10568 10569 10570 10571 10572 10573 10574 10575 10576 10577 10578 10579 10580 10581 10582 10583 10584 10585 10586 10587 10588 10589 10590 10591 10592 10593 10594 10595 10596 10597 10598 10599 10600 10601 10602 10603 10604 10605 10606 10607 10608 10609 10610 10611 10612 10613 10614 10615 10616 10617 10618 10619 10620 10621 10622 10623 10624 10625 10626 10627 10628 10629 10630 10631 10632 10633 10634 10635 10636 10637 10638 10639 10640 10641 10642 10643 10644 10645 10646 10647 10648 10649 10650 10651 10652 10653 10654 10655 10656 10657 10658 10659 10660 10661 10662 10663 10664 10665 10666 10667 10668 10669 10670 10671 10672 10673 10674 10675 10676 10677 10678 10679 10680 10681 10682 10683 10684 10685 10686 10687 10688 10689 10690 10691 10692 10693 10694 10695 10696 10697 10698 10699 10700 10701 10702 10703 10704 10705 10706 10707 10708 10709 10710 10711 10712 10713 10714 10715 10716 10717 10718 10719 10720 10721 10722 10723 10724 10725 10726 10727 10728 10729 10730 10731 10732 10733 10734 10735 10736 10737 10738 10739 10740 10741 10742 10743 10744 10745 10746 10747 10748 10749 10750 10751 10752 10753 10754 10755 10756 10757 10758 10759 10760 10761 10762 10763 10764 10765 10766 10767 10768 10769 10770 10771 10772 10773 10774 10775 10776 10777 10778 10779 10780 10781 10782 10783 10784 10785 10786 10787 10788 10789 10790 10791 10792 10793 10794 10795 10796 10797 10798 10799 10800 10801 10802 10803 10804 10805 10806 10807 10808 10809 10810 10811 10812 10813 10814 10815 10816 10817 10818 10819 10820 10821 10822 10823 10824 10825 10826 10827 10828 10829 10830 10831 10832 10833 10834 10835 10836 10837 10838 10839 10840 10841 10842 10843 10844 10845 10846 10847 10848 10849 10850 10851 10852 10853 10854 10855 10856 10857 10858 10859 10860 10861 10862 10863 10864 10865 10866 10867 10868 10869 10870 10871 10872 10873 10874 10875 10876 10877 10878 10879 10880 10881 10882 10883 10884 10885 10886 10887 10888 10889 10890 10891 10892 10893 10894 10895 10896 10897 10898 10899 10900 10901 10902 10903 10904 10905 10906 10907 10908 10909 10910 10911 10912 10913 10914 10915 10916 10917 10918 10919 10920 10921 10922 10923 10924 10925 10926 10927 10928 10929 10930 10931 10932 10933 10934 10935 10936 10937 10938 10939 10940 10941 10942 10943 10944 10945 10946 10947 10948 10949 10950 10951 10952 10953 10954 10955 10956 10957 10958 10959 10960 10961 10962 10963 10964 10965 10966 10967 10968 10969 10970 10971 10972 10973 10974 10975 10976 10977 10978 10979 10980 10981 10982 10983 10984 10985 10986 10987 10988 10989 10990 10991 10992 10993 10994 10995 10996 10997 10998 10999 "
     ]
    }
   ],
   "source": [
    "errors = []\n",
    "for i in range(10000, 11000):\n",
    "    print(i, end = ' ')\n",
    "    ind = 3 * i + 2\n",
    "        \n",
    "    data = snap_subs[ind]\n",
    "\n",
    "    snap = data[2]\n",
    "    sub = data[3]\n",
    "\n",
    "    sub_index = get_sub_index(snap, sub)\n",
    "    sub_cm = groupcat['SubhaloCM'][sub_index]\n",
    "\n",
    "    f = h5py.File(f'illustris_data/final/extra/cutout_{snap}_{sub}.hdf5')\n",
    "\n",
    "    scale_out = f['Header'].attrs['Time']\n",
    "\n",
    "\n",
    "    #star density, type4\n",
    "    stellar_mask = (f['PartType4']['GFM_StellarFormationTime'][:] >= 0.0) #star only, exclude wind ptls\n",
    "    stellar_coord = f['PartType4']['Coordinates'][:][stellar_mask]\n",
    "    stellar_masses = f['PartType4']['Masses'][:][stellar_mask]*1e10/h\n",
    "    stellar_bc = density_profile(stellar_coord, stellar_masses, scale_out, sub_cm)\n",
    "\n",
    "    try:\n",
    "        bins = np.where(stellar_bc >= 4)[0][0:8]\n",
    "    except IndexError:\n",
    "        print('error')\n",
    "        errors.append(ind)\n",
    "\n",
    "    #dm density, type1\n",
    "    dm_coord = f['PartType4']['Coordinates'][:]\n",
    "    dm_masses = np.full(len(dm_coord[:],), 6.3e6)\n",
    "    dm_bc = density_profile(dm_coord, dm_masses, scale_out, sub_cm)\n",
    "\n",
    "    try:\n",
    "        bins = np.where(dm_bc >= 4)[0][0:8]\n",
    "    except IndexError:\n",
    "        print('error')\n",
    "        errors.append(ind)\n",
    "\n",
    "\n",
    "    #gas density, type0\n",
    "    gas_coord = f['PartType0']['Coordinates'][:]\n",
    "    gas_masses = f['PartType0']['Masses'][:]*1e10/h\n",
    "    gas_bc = density_profile(gas_coord, gas_masses, scale_out, sub_cm)\n",
    "\n",
    "    try:\n",
    "        bins = np.where(gas_bc >= 4)[0][0:8]\n",
    "    except IndexError:\n",
    "        print('error')\n",
    "        errors.append(ind)\n"
   ]
  },
  {
   "cell_type": "code",
   "execution_count": 22,
   "metadata": {},
   "outputs": [
    {
     "data": {
      "text/plain": [
       "[]"
      ]
     },
     "execution_count": 22,
     "metadata": {},
     "output_type": "execute_result"
    }
   ],
   "source": [
    "errors"
   ]
  },
  {
   "cell_type": "code",
   "execution_count": 391,
   "metadata": {},
   "outputs": [
    {
     "data": {
      "text/plain": [
       "(0, 0)"
      ]
     },
     "execution_count": 391,
     "metadata": {},
     "output_type": "execute_result"
    }
   ],
   "source": [
    "i"
   ]
  },
  {
   "cell_type": "code",
   "execution_count": null,
   "metadata": {},
   "outputs": [],
   "source": []
  },
  {
   "cell_type": "code",
   "execution_count": null,
   "metadata": {},
   "outputs": [],
   "source": []
  },
  {
   "cell_type": "code",
   "execution_count": null,
   "metadata": {},
   "outputs": [],
   "source": []
  },
  {
   "cell_type": "markdown",
   "metadata": {},
   "source": [
    "# create final data"
   ]
  },
  {
   "cell_type": "markdown",
   "metadata": {},
   "source": [
    "## data & path"
   ]
  },
  {
   "cell_type": "code",
   "execution_count": null,
   "metadata": {},
   "outputs": [],
   "source": [
    "cat = ascii.read('simulation_input_data_lzk.txt')"
   ]
  },
  {
   "cell_type": "code",
   "execution_count": null,
   "metadata": {},
   "outputs": [],
   "source": [
    "dat = ascii.read('illustris_data/data.txt')"
   ]
  },
  {
   "cell_type": "code",
   "execution_count": null,
   "metadata": {
    "scrolled": true
   },
   "outputs": [],
   "source": [
    "groupcat = h5py.File('illustris_data/groupcat_total.hdf5')"
   ]
  },
  {
   "cell_type": "code",
   "execution_count": null,
   "metadata": {},
   "outputs": [],
   "source": [
    "mergers = h5py.File('blackhole_mergers.hdf5')"
   ]
  },
  {
   "cell_type": "code",
   "execution_count": null,
   "metadata": {},
   "outputs": [],
   "source": [
    "fs = []\n",
    "\n",
    "for i in range(len(cat)):\n",
    "    n1 = 'cutout_'+str(cat['snap_prev_in'][i]) + '_' + str(cat['subhalo_prev_in'][i]) + '.hdf5'\n",
    "    n2 = 'cutout_'+str(cat['snapshot_prev_out'][i]) + '_' + str(cat['subhalo_prev_out'][i])+ '.hdf5'\n",
    "    n3 = 'cutout_'+str(cat['snapshot_fin_out'][i]) + '_' +str(cat['subhalo_fin_out'][i])+ '.hdf5'\n",
    "    fs.append(n1)\n",
    "    fs.append(n2)\n",
    "    fs.append(n3)"
   ]
  },
  {
   "cell_type": "code",
   "execution_count": null,
   "metadata": {},
   "outputs": [],
   "source": [
    "bh_in = []\n",
    "bh_in2 = []\n",
    "bh_out = [] #same bh id as bh_out\n",
    "\n",
    "for i in range(len(cat)):\n",
    "    n1 = 'cutout_'+str(cat['snap_prev_in'][i]) + '_' + str(cat['subhalo_prev_in'][i]) + '.hdf5'\n",
    "    n2 = 'cutout_'+str(cat['snapshot_prev_out'][i]) + '_' + str(cat['subhalo_prev_out'][i])+ '.hdf5'\n",
    "    n3 = 'cutout_'+str(cat['snapshot_fin_out'][i]) + '_' +str(cat['subhalo_fin_out'][i])+ '.hdf5'\n",
    "    bh_in.append(n1)\n",
    "    bh_in2.append(n2)\n",
    "    bh_out.append(n3)"
   ]
  },
  {
   "cell_type": "code",
   "execution_count": null,
   "metadata": {},
   "outputs": [],
   "source": [
    "path = 'illustris_data/final/extra/'\n",
    "file_list = os.listdir(path)"
   ]
  },
  {
   "cell_type": "markdown",
   "metadata": {},
   "source": [
    "## variables # funcs"
   ]
  },
  {
   "cell_type": "code",
   "execution_count": 373,
   "metadata": {},
   "outputs": [],
   "source": [
    "h = 0.704"
   ]
  },
  {
   "cell_type": "code",
   "execution_count": 377,
   "metadata": {},
   "outputs": [],
   "source": [
    "from scipy.optimize import curve_fit"
   ]
  },
  {
   "cell_type": "code",
   "execution_count": null,
   "metadata": {},
   "outputs": [],
   "source": [
    "def density_profile(coord, masses, scale, sub_cm):\n",
    "    \n",
    "    radius = np.sqrt(np.sum((coord - sub_cm)**2, axis=1))*scale*1e3\n",
    "\n",
    "    dtype = [('rad', np.dtype(float)), ('mass', np.dtype(float))]\n",
    "    all_particles = np.core.records.fromarrays([radius, masses], dtype=dtype)\n",
    "\n",
    "    all_particles = np.sort(all_particles, order=('rad',))\n",
    "\n",
    "    extr = [all_particles['rad'][0]-1, all_particles['rad'][-1]+1]\n",
    "    radial_bins_edges = np.logspace(*np.log10(extr), 100)\n",
    "\n",
    "    bin_number_for_each_paricle = np.searchsorted(radial_bins_edges, all_particles['rad'])\n",
    "    unique_bins, bin_count = np.unique(bin_number_for_each_paricle, return_counts=True)\n",
    "\n",
    "    inds_bins = np.where(bin_count >= 4)[0][0:8]\n",
    "\n",
    "    unique_bins = unique_bins[inds_bins]\n",
    "\n",
    "    radial_bins_inner_edges = radial_bins_edges[inds_bins]\n",
    "    radial_bins_outer_edges = radial_bins_edges[inds_bins+1]\n",
    "\n",
    "    radial_bin_centers = (radial_bins_outer_edges + radial_bins_inner_edges)/2.\n",
    "\n",
    "    volume_bin = 4/3.*np.pi*(radial_bins_outer_edges**3 - radial_bins_inner_edges**3)\n",
    "\n",
    "    density_bin = np.zeros(len(radial_bin_centers))\n",
    "\n",
    "    for i, bin in enumerate(unique_bins):\n",
    "\n",
    "        inds_bin = (bin_number_for_each_paricle == bin)\n",
    "        density_bin[i] = np.sum(all_particles['mass'][inds_bin])/volume_bin[i]\n",
    "\n",
    "    var, cov = curve_fit(fit_func, radial_bin_centers[0:8], density_bin[0:8], maxfev = 1000)\n",
    "  \n",
    "    return var"
   ]
  },
  {
   "cell_type": "code",
   "execution_count": null,
   "metadata": {},
   "outputs": [],
   "source": [
    "def fit_func(x, a, b):\n",
    "    \"\"\"\n",
    "    Power law fit for the density profile\n",
    "    \"\"\"\n",
    "    return a*x**-b"
   ]
  },
  {
   "cell_type": "code",
   "execution_count": null,
   "metadata": {},
   "outputs": [],
   "source": [
    "def get_sub_index(snap, sub):\n",
    "    \n",
    "    ind = np.where((groupcat['Snapshot'][:] == snap) & (groupcat['SubhaloID'][:] == sub))[0]\n",
    "    \n",
    "#     sub_cm = groupcat['SubhaloCM'][ind]\n",
    "    return ind"
   ]
  },
  {
   "cell_type": "code",
   "execution_count": null,
   "metadata": {},
   "outputs": [],
   "source": [
    "def density_profile(coord, masses, scale, sub_cm):\n",
    "    \n",
    "    radius = np.sqrt(np.sum((coord - sub_cm)**2, axis=1))*scale*1e3\n",
    "\n",
    "    dtype = [('rad', np.dtype(float)), ('mass', np.dtype(float))]\n",
    "    all_particles = np.core.records.fromarrays([radius, masses], dtype=dtype)\n",
    "\n",
    "    all_particles = np.sort(all_particles, order=('rad',))\n",
    "\n",
    "    radial_bins_edges = np.logspace(np.log10(all_particles['rad'][0]-1), np.log10(all_particles['rad'][-1]+1), 100)\n",
    "\n",
    "    bin_number_for_each_paricle = np.searchsorted(radial_bins_edges, all_particles['rad'])\n",
    "    unique_bins, bin_count = np.unique(bin_number_for_each_paricle, return_counts=True)\n",
    "\n",
    "    inds_bins = np.where(bin_count >= 4)[0][0:8]\n",
    "\n",
    "    unique_bins = unique_bins[inds_bins]\n",
    "\n",
    "    radial_bins_inner_edges = radial_bins_edges[inds_bins]\n",
    "    radial_bins_outer_edges = radial_bins_edges[inds_bins+1]\n",
    "\n",
    "    radial_bin_centers = (radial_bins_outer_edges + radial_bins_inner_edges)/2.\n",
    "\n",
    "    volume_bin = 4/3.*np.pi*(radial_bins_outer_edges**3 - radial_bins_inner_edges**3)\n",
    "\n",
    "    density_bin = np.zeros(len(radial_bin_centers))\n",
    "\n",
    "    for i, bin in enumerate(unique_bins):\n",
    "\n",
    "        inds_bin = np.where(bin_number_for_each_paricle == bin)[0]\n",
    "        density_bin[i] = np.sum(all_particles['mass'][inds_bin])/volume_bin[i]\n",
    "\n",
    "    var, cov = curve_fit(fit_func, radial_bin_centers[0:8], density_bin[0:8], maxfev = 1000)\n",
    "#     var, cov = curve_fit(fit_func, radial_bin_centers[0:8], density_bin[0:8])\n",
    "  \n",
    "    return var"
   ]
  },
  {
   "cell_type": "markdown",
   "metadata": {},
   "source": [
    "## final data"
   ]
  },
  {
   "cell_type": "code",
   "execution_count": null,
   "metadata": {
    "hide_input": false
   },
   "outputs": [],
   "source": [
    "list_redshift = []\n",
    "list_separation = []\n",
    "\n",
    "list_bh_id_in1 = []\n",
    "list_bh_id_in2 = []\n",
    "list_bh_id_out = []\n",
    "\n",
    "list_snap_in1 = []\n",
    "list_snap_in2 = []\n",
    "list_snap_out = []\n",
    "\n",
    "list_v_disp_in1 = []\n",
    "list_v_disp_in2 = []\n",
    "list_v_disp_out = []\n",
    "\n",
    "list_bh_mass_in1 = []\n",
    "list_bh_mass_in2 = []\n",
    "list_bh_mass_out = []\n",
    "\n",
    "list_bh_mdot_in1 = []\n",
    "list_bh_mdot_in2 = []\n",
    "list_bh_mdot_out = []\n",
    "\n",
    "list_stellar_mass_in1 = []\n",
    "list_stellar_mass_in2 = []\n",
    "list_stellar_mass_out = []\n",
    "\n",
    "list_total_mass_in1 = []\n",
    "list_total_mass_in2 = []\n",
    "list_total_mass_out = []\n",
    "\n",
    "list_gas_norm = []\n",
    "list_gas_gamma = []\n",
    "list_stellar_norm = []\n",
    "list_stellar_gamma = []\n",
    "list_dm_norm = []\n",
    "list_dm_gamma = []\n"
   ]
  },
  {
   "cell_type": "code",
   "execution_count": null,
   "metadata": {},
   "outputs": [],
   "source": [
    "#iteration\n",
    "# i = 0\n",
    "for i in range(15656, 15657):\n",
    "    print(i, end = ' ')\n",
    "    #merger index\n",
    "    merger_index = cat['merger'][i]\n",
    "\n",
    "    redshift = 1/mergers['time'][merger_index]-1\n",
    "\n",
    "    #in information\n",
    "    temp =  'illustris_data/final/cutout_' + '114' + '_' + '60335' + '.hdf5'\n",
    "#     with h5py.File(path + bh_in[i]) as f:\n",
    "    with h5py.File(temp) as f:\n",
    "\n",
    "        #id\n",
    "        bh_id_in1 = f['PartType5']['ParticleIDs']\n",
    "        \n",
    "        #snap\n",
    "        snap_in1 = cat['snap_prev_in'][i]\n",
    "        \n",
    "        #subhalo\n",
    "        sub_in1 = cat['subhalo_prev_in'][i]\n",
    "        sub_index = get_sub_index(snap_in1, sub_in1)\n",
    "\n",
    "        #velocity dispersion\n",
    "        v_in1 = f['PartType4']['Velocities'][:]\n",
    "        v_disp_in1 = np.std(np.sqrt(np.sum(v_in1**2, axis = 1)))\n",
    "        \n",
    "        scale_in1 = f['Header'].attrs['Time']\n",
    "\n",
    "        #bh mass\n",
    "        bh_mass_in1 = mergers['mass_in_new'][merger_index] * 1e10/h\n",
    "        \n",
    "        #accretion rate\n",
    "        bh_mdot_in1 = f['PartType5']['BH_Mdot'].value\n",
    "\n",
    "        #star mass\n",
    "        stellar_mass_in1 = groupcat['SubhaloMassType'][sub_index][0][4] * 1e10/h\n",
    "        \n",
    "        #total mass\n",
    "        total_mass = np.sum(groupcat['SubhaloMassType'][sub_index][0] * 1e10/h)\n",
    "        total_mass_in1 = total_mass\n",
    "        \n",
    "        #separation\n",
    "        bh_sep_in1 = f['PartType5']['BH_Hsml'].value[-1] *scale_in1\n",
    "    \n",
    "    #in2 information\n",
    "#     with h5py.File(path + bh_in2[i]) as f:\n",
    "    with h5py.File(temp) as f:\n",
    "\n",
    "        #id\n",
    "        bh_id_in2 = f['PartType5']['ParticleIDs']\n",
    "        \n",
    "        #snap\n",
    "        snap_in2 = cat['snapshot_prev_out'][i]\n",
    "        \n",
    "        #subhalo\n",
    "        sub_in2 = cat['subhalo_prev_out'][i]\n",
    "        sub_index = get_sub_index(snap_in2, sub_in2)\n",
    "\n",
    "        #velocity dispersion\n",
    "        v_in2 = f['PartType4']['Velocities'][:]\n",
    "        v_disp_in2 = np.std(np.sqrt(np.sum(v_in2**2, axis = 1)))\n",
    "        \n",
    "        scale_in2 = f['Header'].attrs['Time']\n",
    "\n",
    "        #bh mass\n",
    "        bh_mass_in2 = mergers['mass_out_new'][merger_index] * 1e10/h\n",
    "        \n",
    "        #accretion rate\n",
    "        bh_mdot_in2 = f['PartType5']['BH_Mdot'].value\n",
    "        \n",
    "        #star mass\n",
    "        stellar_mass_in2 = groupcat['SubhaloMassType'][sub_index][0][4] * 1e10/h\n",
    "        \n",
    "        #total mass\n",
    "        total_mass = np.sum(groupcat['SubhaloMassType'][sub_index][0] * 1e10/h)\n",
    "        total_mass_in2 = total_mass\n",
    "        \n",
    "        #separation\n",
    "        bh_sep_in2 = f['PartType5']['BH_Hsml'].value[-1] *scale_in2\n",
    "    \n",
    "    #out information\n",
    "    temp = 'illustris_data/final/cutout_' + '115' + '_' + '66249' + '.hdf5'\n",
    "#     with h5py.File(path + bh_out[i]) as f:\n",
    "    with h5py.File(temp) as f:\n",
    "        #id\n",
    "        bh_id_out = f['PartType5']['ParticleIDs']\n",
    "        \n",
    "        #snap\n",
    "        snap_out = cat['snapshot_fin_out'][i]\n",
    "        \n",
    "        #subhalo\n",
    "        sub_out = cat['subhalo_fin_out'][i]\n",
    "        sub_index = get_sub_index(snap_out, sub_out)\n",
    "\n",
    "        #velocity dispersion\n",
    "        v_out = f['PartType4']['Velocities'][:]\n",
    "        v_disp_out = np.std(np.sqrt(np.sum(v_out**2, axis = 1)))\n",
    "        \n",
    "        scale_out = f['Header'].attrs['Time']\n",
    "\n",
    "        #bh mass\n",
    "#         bh_mass_out = mergers['details']['mass'][merger_index][2] * 1e10/h\n",
    "        bh_mass_out = bh_mass_in1 + bh_mass_in2\n",
    "        \n",
    "        #accretion rate\n",
    "        bh_mdot_out = f['PartType5']['BH_Mdot'].value\n",
    "        \n",
    "        #stellar mass\n",
    "        stellar_mass_out =  groupcat['SubhaloMassType'][sub_index][0][4] * 1e10/h\n",
    "        \n",
    "        #total_mass\n",
    "        total_mass = np.sum(groupcat['SubhaloMassType'][sub_index][0] * 1e10/h)\n",
    "        total_mass_out = total_mass\n",
    "        \n",
    "        sub_cm = groupcat['SubhaloCM'][sub_index]\n",
    "        \n",
    "        #star density, type4\n",
    "        stellar_mask = (f['PartType4']['GFM_StellarFormationTime'][:] >= 0.0) #star only, exclude wind ptls\n",
    "        stellar_coord = f['PartType4']['Coordinates'][:][stellar_mask]\n",
    "        stellar_masses = f['PartType4']['Masses'][:][stellar_mask]*1e10/h\n",
    "        var_stellar = density_profile(stellar_coord, stellar_masses, scale_out, sub_cm)\n",
    "\n",
    "        stellar_norm, stellar_gamma = var_stellar \n",
    "        \n",
    "        #dm density, type1\n",
    "        dm_coord = f['PartType4']['Coordinates'][:]\n",
    "        dm_masses = np.full(len(dm_coord[:],), 6.3e6)\n",
    "        var_dm = density_profile(dm_coord, dm_masses, scale_out, sub_cm)\n",
    "\n",
    "        dm_norm, dm_gamma = var_dm\n",
    "        \n",
    "        #gas density, type0\n",
    "        gas_coord = f['PartType0']['Coordinates'][:]\n",
    "        gas_masses = f['PartType0']['Masses'][:]*1e10/h\n",
    "        var_gas = density_profile(gas_coord, gas_masses, scale_out, sub_cm)\n",
    "\n",
    "        gas_norm, gas_gamma = var_gas \n",
    "    \n",
    "    #add list\n",
    "    separation = np.max([bh_sep_in1, bh_sep_in2])\n",
    "    list_separation.append(separation)\n",
    "    list_redshift.append(redshift)\n",
    "    \n",
    "    list_bh_id_in1.append(bh_id_in1)\n",
    "    list_snap_in1.append(snap_in1)\n",
    "    list_v_disp_in1.append(v_disp_in1)\n",
    "    list_bh_mass_in1.append(bh_mass_in1)\n",
    "    list_bh_mdot_in1.append(bh_mdot_in1[-1])\n",
    "    list_stellar_mass_in1.append(stellar_mass_in1)\n",
    "    list_total_mass_in1.append(total_mass_in1)\n",
    "    \n",
    "    list_bh_id_in2.append(bh_id_in2)\n",
    "    list_snap_in2.append(snap_in2)\n",
    "    list_v_disp_in2.append(v_disp_in2)\n",
    "    list_bh_mass_in2.append(bh_mass_in2)\n",
    "    list_bh_mdot_in2.append(bh_mdot_in2[-1])\n",
    "    list_stellar_mass_in2.append(stellar_mass_in2)\n",
    "    list_total_mass_in2.append(total_mass_in2)\n",
    "    \n",
    "    list_bh_id_out.append(bh_id_out)\n",
    "    list_snap_out.append(snap_out)\n",
    "    list_v_disp_out.append(v_disp_out)\n",
    "    list_bh_mass_out.append(bh_mass_out)\n",
    "    list_bh_mdot_out.append(bh_mdot_out[-1])\n",
    "    list_stellar_mass_out.append(stellar_mass_out)\n",
    "    list_total_mass_out.append(total_mass_out)\n",
    "    \n",
    "    list_stellar_norm.append(stellar_norm)\n",
    "    list_stellar_gamma.append(stellar_gamma)\n",
    "    list_dm_norm.append(dm_norm)\n",
    "    list_dm_gamma.append(dm_gamma)\n",
    "    list_gas_norm.append(gas_norm)\n",
    "    list_gas_gamma.append(gas_gamma)"
   ]
  },
  {
   "cell_type": "code",
   "execution_count": null,
   "metadata": {},
   "outputs": [],
   "source": [
    "list_stellar_norm = []\n",
    "list_stellar_gamma = []\n",
    "\n",
    "list_gas_norm = []\n",
    "list_gas_gamma = []\n",
    "\n",
    "list_dm_norm = []\n",
    "list_dm_gamma = []\n"
   ]
  },
  {
   "cell_type": "code",
   "execution_count": null,
   "metadata": {},
   "outputs": [],
   "source": [
    "#iteration\n",
    "# i = 0\n",
    "for i in range(15657, len(cat)):\n",
    "    print(i, end = ' ')\n",
    "    #merger index\n",
    "    merger_index = cat['merger'][i]\n",
    "\n",
    "    redshift = 1/mergers['time'][merger_index]-1\n",
    "\n",
    "    with h5py.File(path + bh_out[i]) as f:\n",
    "#     with h5py.File(temp) as f:\n",
    "        #id\n",
    "#         bh_id_out = f['PartType5']['ParticleIDs']\n",
    "        \n",
    "        #subhalo\n",
    "        sub_out = cat['subhalo_fin_out'][i]\n",
    "        snap_out = cat['snapshot_fin_out'][i]\n",
    "        scale_out = mergers['time'][merger_index]\n",
    "        \n",
    "        sub_index = get_sub_index(snap_out, sub_out)\n",
    "        \n",
    "        sub_cm = groupcat['SubhaloCM'][sub_index]\n",
    "        \n",
    "        #star density, type4\n",
    "        stellar_mask = np.where(f['PartType4']['GFM_StellarFormationTime'][:] >= 0.0)[0] #star only, exclude wind ptls\n",
    "        stellar_coord = f['PartType4']['Coordinates'][:][stellar_mask]\n",
    "        stellar_masses = f['PartType4']['Masses'][:][stellar_mask]*1e10/h\n",
    "        var_stellar = density_profile(stellar_coord, stellar_masses, scale_out, sub_cm)\n",
    "\n",
    "        stellar_norm, stellar_gamma = var_stellar \n",
    "        \n",
    "        #dm density, type1\n",
    "        dm_coord = f['PartType4']['Coordinates'][:]\n",
    "        dm_masses = np.full(len(dm_coord[:],), 6.3e6)\n",
    "        var_dm = density_profile(dm_coord, dm_masses, scale_out, sub_cm)\n",
    "\n",
    "        dm_norm, dm_gamma = var_dm\n",
    "        \n",
    "        #gas density, type0\n",
    "        gas_coord = f['PartType0']['Coordinates'][:]\n",
    "        gas_masses = f['PartType0']['Masses'][:]*1e10/h\n",
    "        var_gas = density_profile(gas_coord, gas_masses, scale_out, sub_cm)\n",
    "\n",
    "        gas_norm, gas_gamma = var_gas \n",
    "    \n",
    "    #add list    \n",
    "    list_stellar_norm.append(stellar_norm)\n",
    "    list_stellar_gamma.append(stellar_gamma)\n",
    "    list_dm_norm.append(dm_norm)\n",
    "    list_dm_gamma.append(dm_gamma)\n",
    "    list_gas_norm.append(gas_norm)\n",
    "    list_gas_gamma.append(gas_gamma)"
   ]
  },
  {
   "cell_type": "code",
   "execution_count": null,
   "metadata": {},
   "outputs": [],
   "source": [
    "# final_name = 'illustris_data/final_catalog.txt'\n",
    "# final_name = 'illustris_data/final_catalog2.txt'\n",
    "final_name = 'illustris_data/density_profile.txt'\n",
    "\n",
    "tabs = 'stellar_norm\\tstellar_gamma\\tgas_norm\\tgas_gamma\\tdm_norm\\tdm_gamma\\n'\n",
    "\n",
    "total_list = []\n",
    "for i in range(len(cat)):\n",
    "# for i in range(10):\n",
    "    one_list = []\n",
    "    \n",
    "    one_list.append(list_stellar_norm[i])\n",
    "    one_list.append(list_stellar_gamma[i])\n",
    "\n",
    "    one_list.append(list_gas_norm[i])\n",
    "    one_list.append(list_gas_gamma[i])\n",
    "\n",
    "    one_list.append(list_dm_norm[i])\n",
    "    one_list.append(list_dm_gamma[i])\n",
    "    \n",
    "    total_list.append(one_list)\n"
   ]
  },
  {
   "cell_type": "code",
   "execution_count": null,
   "metadata": {},
   "outputs": [],
   "source": [
    "with open(final_name, 'w') as f:\n",
    "    f.write(tabs)\n",
    "    \n",
    "    for i in range(len(cat)):\n",
    "        for total in total_list[i]:\n",
    "            f.write(str(total) + '\\t')\n",
    "        f.write('\\n')"
   ]
  },
  {
   "cell_type": "markdown",
   "metadata": {},
   "source": [
    "# check density profiles"
   ]
  },
  {
   "cell_type": "code",
   "execution_count": 3,
   "metadata": {},
   "outputs": [
    {
     "name": "stderr",
     "output_type": "stream",
     "text": [
      "WARNING: OverflowError converting to IntType in column id_old_prev_in, reverting to String. [astropy.io.ascii.core]\n",
      "WARNING: OverflowError converting to IntType in column id_old_prev_out, reverting to String. [astropy.io.ascii.core]\n",
      "WARNING: OverflowError converting to IntType in column id_old_fin_out, reverting to String. [astropy.io.ascii.core]\n",
      "WARNING: OverflowError converting to IntType in column id_new_prev_in, reverting to String. [astropy.io.ascii.core]\n",
      "WARNING: OverflowError converting to IntType in column id_new_prev_out, reverting to String. [astropy.io.ascii.core]\n",
      "WARNING: OverflowError converting to IntType in column id_new_fin_out, reverting to String. [astropy.io.ascii.core]\n"
     ]
    }
   ],
   "source": [
    "cat = ascii.read('simulation_input_data_lzk.txt')"
   ]
  },
  {
   "cell_type": "code",
   "execution_count": 20,
   "metadata": {},
   "outputs": [
    {
     "name": "stderr",
     "output_type": "stream",
     "text": [
      "/home/ehko/anaconda3/lib/python3.7/site-packages/ipykernel_launcher.py:1: H5pyDeprecationWarning: The default file mode will change to 'r' (read-only) in h5py 3.0. To suppress this warning, pass the mode you need to h5py.File(), or set the global default h5.get_config().default_file_mode, or set the environment variable H5PY_DEFAULT_READONLY=1. Available modes are: 'r', 'r+', 'w', 'w-'/'x', 'a'. See the docs for details.\n",
      "  \"\"\"Entry point for launching an IPython kernel.\n"
     ]
    }
   ],
   "source": [
    "groupcat = h5py.File('illustris_data/groupcat_total.hdf5')"
   ]
  },
  {
   "cell_type": "code",
   "execution_count": 16,
   "metadata": {},
   "outputs": [],
   "source": [
    "h = 0.704"
   ]
  },
  {
   "cell_type": "code",
   "execution_count": 4,
   "metadata": {},
   "outputs": [],
   "source": [
    "bh_in = []\n",
    "bh_in2 = []\n",
    "bh_out = [] #same bh id as bh_out\n",
    "\n",
    "for i in range(len(cat)):\n",
    "    n1 = 'cutout_'+str(cat['snap_prev_in'][i]) + '_' + str(cat['subhalo_prev_in'][i]) + '.hdf5'\n",
    "    n2 = 'cutout_'+str(cat['snapshot_prev_out'][i]) + '_' + str(cat['subhalo_prev_out'][i])+ '.hdf5'\n",
    "    n3 = 'cutout_'+str(cat['snapshot_fin_out'][i]) + '_' +str(cat['subhalo_fin_out'][i])+ '.hdf5'\n",
    "    bh_in.append(n1)\n",
    "    bh_in2.append(n2)\n",
    "    bh_out.append(n3)"
   ]
  },
  {
   "cell_type": "code",
   "execution_count": 5,
   "metadata": {},
   "outputs": [],
   "source": [
    "path = 'illustris_data/final/extra/'\n",
    "file_list = os.listdir(path)"
   ]
  },
  {
   "cell_type": "code",
   "execution_count": 18,
   "metadata": {},
   "outputs": [],
   "source": [
    "def get_sub_index(snap, sub):\n",
    "    \n",
    "    ind = np.where((groupcat['Snapshot'][:] == snap) & (groupcat['SubhaloID'][:] == sub))[0]\n",
    "    \n",
    "#     sub_cm = groupcat['SubhaloCM'][ind]\n",
    "    return ind"
   ]
  },
  {
   "cell_type": "code",
   "execution_count": 6,
   "metadata": {},
   "outputs": [],
   "source": [
    "density = ascii.read('illustris_data/density_profile.txt')"
   ]
  },
  {
   "cell_type": "code",
   "execution_count": 67,
   "metadata": {},
   "outputs": [],
   "source": [
    "gas_index = np.where(density['gas_gamma'] > 2.5)[0]"
   ]
  },
  {
   "cell_type": "code",
   "execution_count": 70,
   "metadata": {},
   "outputs": [
    {
     "data": {
      "text/plain": [
       "156"
      ]
     },
     "execution_count": 70,
     "metadata": {},
     "output_type": "execute_result"
    }
   ],
   "source": [
    "gas_index[0]"
   ]
  },
  {
   "cell_type": "code",
   "execution_count": 72,
   "metadata": {},
   "outputs": [
    {
     "data": {
      "text/plain": [
       "4.409341060107146"
      ]
     },
     "execution_count": 72,
     "metadata": {},
     "output_type": "execute_result"
    }
   ],
   "source": [
    "density['gas_gamma'][156]"
   ]
  },
  {
   "cell_type": "code",
   "execution_count": 73,
   "metadata": {},
   "outputs": [
    {
     "name": "stderr",
     "output_type": "stream",
     "text": [
      "/home/ehko/anaconda3/lib/python3.7/site-packages/ipykernel_launcher.py:2: RuntimeWarning: divide by zero encountered in power\n",
      "  \n"
     ]
    }
   ],
   "source": [
    "r = np.arange(0, 1e3,10)\n",
    "prof = density['gas_norm'][156] * r**(-density['gas_gamma'][156]) "
   ]
  },
  {
   "cell_type": "code",
   "execution_count": 30,
   "metadata": {},
   "outputs": [
    {
     "data": {
      "text/plain": [
       "array([   35,    47,    76, ..., 17510, 17511, 17527])"
      ]
     },
     "execution_count": 30,
     "metadata": {},
     "output_type": "execute_result"
    }
   ],
   "source": [
    "gas_index"
   ]
  },
  {
   "cell_type": "code",
   "execution_count": 74,
   "metadata": {},
   "outputs": [],
   "source": [
    "ind = 156"
   ]
  },
  {
   "cell_type": "code",
   "execution_count": 75,
   "metadata": {},
   "outputs": [
    {
     "data": {
      "text/plain": [
       "'cutout_52_6354.hdf5'"
      ]
     },
     "execution_count": 75,
     "metadata": {},
     "output_type": "execute_result"
    }
   ],
   "source": [
    "bh_out[ind]"
   ]
  },
  {
   "cell_type": "code",
   "execution_count": 76,
   "metadata": {},
   "outputs": [
    {
     "name": "stderr",
     "output_type": "stream",
     "text": [
      "/home/ehko/anaconda3/lib/python3.7/site-packages/ipykernel_launcher.py:1: H5pyDeprecationWarning: The default file mode will change to 'r' (read-only) in h5py 3.0. To suppress this warning, pass the mode you need to h5py.File(), or set the global default h5.get_config().default_file_mode, or set the environment variable H5PY_DEFAULT_READONLY=1. Available modes are: 'r', 'r+', 'w', 'w-'/'x', 'a'. See the docs for details.\n",
      "  \"\"\"Entry point for launching an IPython kernel.\n"
     ]
    }
   ],
   "source": [
    "f = h5py.File(path + bh_out[ind])"
   ]
  },
  {
   "cell_type": "code",
   "execution_count": 77,
   "metadata": {},
   "outputs": [],
   "source": [
    "coord = f['PartType0']['Coordinates'][:]\n",
    "masses = f['PartType0']['Masses'][:] * 1e10/h\n",
    "scale = f['Header'].attrs['Time']\n",
    "\n",
    "sub_out = cat['subhalo_fin_out'][ind]\n",
    "sub_index = get_sub_index(52, 6354)\n",
    "\n",
    "sub_cm = groupcat['SubhaloCM'][sub_index]"
   ]
  },
  {
   "cell_type": "code",
   "execution_count": 78,
   "metadata": {},
   "outputs": [],
   "source": [
    "# def density_profile(coord, masses, scale, sub_cm):\n",
    "    \n",
    "radius = np.sqrt(np.sum((coord - sub_cm)**2, axis=1))*scale*1e3\n",
    "\n",
    "dtype = [('rad', np.dtype(float)), ('mass', np.dtype(float))]\n",
    "all_particles = np.core.records.fromarrays([radius, masses], dtype=dtype)\n",
    "\n",
    "all_particles = np.sort(all_particles, order=('rad',))\n",
    "\n",
    "extr = [all_particles['rad'][0]-1, all_particles['rad'][-1]+1]\n",
    "radial_bins_edges = np.logspace(*np.log10(extr), 100)\n",
    "\n",
    "bin_number_for_each_paricle = np.searchsorted(radial_bins_edges, all_particles['rad'])\n",
    "unique_bins, bin_count = np.unique(bin_number_for_each_paricle, return_counts=True)\n",
    "\n",
    "radial_bins_inner_edges = radial_bins_edges[0:len(radial_bins_edges)-1]\n",
    "radial_bins_outer_edges = radial_bins_edges[1:len(radial_bins_edges)]\n",
    "\n",
    "radial_bin_centers = (radial_bins_outer_edges + radial_bins_inner_edges)/2.\n",
    "\n",
    "volume_bin = 4/3.*np.pi*(radial_bins_outer_edges**3 - radial_bins_inner_edges**3)\n",
    "\n",
    "density_bin = np.zeros(len(radial_bin_centers))\n",
    "\n",
    "for i, bin in enumerate(unique_bins):\n",
    "    inds_bin = (bin_number_for_each_paricle == bin)\n",
    "    density_bin[i] = np.sum(all_particles['mass'][inds_bin])/volume_bin[i]\n"
   ]
  },
  {
   "cell_type": "code",
   "execution_count": 79,
   "metadata": {},
   "outputs": [],
   "source": [
    "inds_bins = np.where(bin_count >= 4)[0][0:8]\n",
    "\n",
    "unique_bins2 = unique_bins[inds_bins]\n",
    "\n",
    "radial_bins_inner_edges2 = radial_bins_edges[inds_bins]\n",
    "radial_bins_outer_edges2 = radial_bins_edges[inds_bins+1]\n",
    "\n",
    "radial_bin_centers2 = (radial_bins_outer_edges2 + radial_bins_inner_edges2)/2.\n",
    "\n",
    "volume_bin2 = 4/3.*np.pi*(radial_bins_outer_edges2**3 - radial_bins_inner_edges2**3)\n",
    "\n",
    "density_bin2 = np.zeros(len(radial_bin_centers2))\n",
    "\n",
    "for i, bin in enumerate(unique_bins2):\n",
    "\n",
    "    inds_bin2 = (bin_number_for_each_paricle == bin)\n",
    "    density_bin2[i] = np.sum(all_particles['mass'][inds_bin2])/volume_bin2[i]\n",
    "\n",
    "# var, cov = curve_fit(fit_func, radial_bin_centers2[0:8], density_bin2[0:8], maxfev = 1000)\n"
   ]
  },
  {
   "cell_type": "code",
   "execution_count": 80,
   "metadata": {
    "scrolled": true
   },
   "outputs": [
    {
     "data": {
      "text/plain": [
       "(1e-05, 100.0)"
      ]
     },
     "execution_count": 80,
     "metadata": {},
     "output_type": "execute_result"
    },
    {
     "data": {
      "image/png": "[encoded data removed]",
      "text/plain": [
       "<Figure size 720x360 with 1 Axes>"
      ]
     },
     "metadata": {
      "needs_background": "light"
     },
     "output_type": "display_data"
    }
   ],
   "source": [
    "plt.figure(figsize = (10,5))\n",
    "plt.scatter(radial_bin_centers, density_bin)\n",
    "plt.scatter(radial_bin_centers2[0:8], density_bin2[0:8])\n",
    "\n",
    "plt.plot(r, prof, color = 'orange')\n",
    "# plt.scatter(radial_bin_centers[err], density_bin[err])\n",
    "plt.xscale('log')\n",
    "plt.yscale('log')\n",
    "plt.xlim(5e1,5e3)\n",
    "plt.ylim(1e-5, 1e2)"
   ]
  },
  {
   "cell_type": "code",
   "execution_count": 47,
   "metadata": {},
   "outputs": [
    {
     "data": {
      "text/plain": [
       "-3.2231054207202265"
      ]
     },
     "execution_count": 47,
     "metadata": {},
     "output_type": "execute_result"
    }
   ],
   "source": [
    "cat['gas_gamma'][35]"
   ]
  },
  {
   "cell_type": "code",
   "execution_count": null,
   "metadata": {},
   "outputs": [],
   "source": [
    "len(np.where(cat['star_gamma'] < 0.5)[0])"
   ]
  },
  {
   "cell_type": "code",
   "execution_count": 3,
   "metadata": {},
   "outputs": [],
   "source": [
    "good = np.genfromtxt('illustris_data/good_mergers')"
   ]
  },
  {
   "cell_type": "code",
   "execution_count": 4,
   "metadata": {},
   "outputs": [],
   "source": [
    "bad = np.genfromtxt('illustris_data/bad_mergers')"
   ]
  },
  {
   "cell_type": "code",
   "execution_count": 5,
   "metadata": {},
   "outputs": [
    {
     "data": {
      "text/plain": [
       "20351"
      ]
     },
     "execution_count": 5,
     "metadata": {},
     "output_type": "execute_result"
    }
   ],
   "source": [
    "len(good)"
   ]
  },
  {
   "cell_type": "code",
   "execution_count": 6,
   "metadata": {
    "scrolled": true
   },
   "outputs": [
    {
     "data": {
      "text/plain": [
       "3720"
      ]
     },
     "execution_count": 6,
     "metadata": {},
     "output_type": "execute_result"
    }
   ],
   "source": [
    "len(bad)\n",
    "# bad"
   ]
  },
  {
   "cell_type": "markdown",
   "metadata": {
    "heading_collapsed": true
   },
   "source": [
    "# create extra data"
   ]
  },
  {
   "cell_type": "code",
   "execution_count": null,
   "metadata": {
    "hidden": true
   },
   "outputs": [],
   "source": [
    "list_bh_mdot_out = []\n",
    "stranges = []"
   ]
  },
  {
   "cell_type": "code",
   "execution_count": null,
   "metadata": {
    "hidden": true
   },
   "outputs": [],
   "source": [
    "#iteration\n",
    "# i = 0\n",
    "\n",
    "for i in range(15657, len(cat)):\n",
    "    print(i, end = ' ')\n",
    "    #merger index\n",
    "    merger_index = cat['merger'][i]\n",
    "\n",
    "\n",
    "    f = h5py.File(path + bh_out[i])\n",
    "\n",
    "    bh_id_out = int(cat['id_new_fin_out'][i])\n",
    "    bh_id_out_old = int(cat['id_old_fin_out'][i])\n",
    "    \n",
    "    if len(f['PartType5']['ParticleIDs'][:]) == 1:\n",
    "        f_index = np.array([0])\n",
    "    else:\n",
    "    \n",
    "        f_index = np.where(f['PartType5']['ParticleIDs'][:] == bh_id_out)[0]    \n",
    "        if len(f_index)  == 0:\n",
    "            f_index = np.where(f['PartType5']['ParticleIDs'][:] == bh_id_out_old)[0]\n",
    "            if len(f_index) == 0:\n",
    "                mass_abs = np.abs(np.log(f['PartType5']['BH_Mass'][:]* 1e10/h / cat[i]['mass_new_fin_out']))\n",
    "                f_index = np.where(mass_abs == min(mass_abs))[0]\n",
    "                stranges.append(i)\n",
    "            \n",
    "\n",
    "    #accretion rate\n",
    "    bh_mdot_out = f['PartType5']['BH_Mdot'][f_index][0]* 10.22\n",
    "    \n",
    "    #add list\n",
    "    list_bh_mdot_out.append(bh_mdot_out)"
   ]
  },
  {
   "cell_type": "code",
   "execution_count": null,
   "metadata": {
    "hidden": true
   },
   "outputs": [],
   "source": [
    "np.save('illustris_data/mask',np.array(stranges))"
   ]
  },
  {
   "cell_type": "code",
   "execution_count": null,
   "metadata": {
    "hidden": true
   },
   "outputs": [],
   "source": [
    "mask = np.load('illustris_data/mask.npy')"
   ]
  },
  {
   "cell_type": "code",
   "execution_count": null,
   "metadata": {
    "hidden": true
   },
   "outputs": [],
   "source": [
    "final_name = 'illustris_data/bh_mdot_out.txt'\n",
    "tabs = 'bh_mdot_out\\n'"
   ]
  },
  {
   "cell_type": "code",
   "execution_count": null,
   "metadata": {
    "hidden": true
   },
   "outputs": [],
   "source": [
    "with open(final_name, 'w') as f:\n",
    "    f.write(tabs)\n",
    "    \n",
    "    for i in range(len(cat)):\n",
    "        f.write(str(list_bh_mdot_out[i]) + '\\n')"
   ]
  },
  {
   "cell_type": "code",
   "execution_count": null,
   "metadata": {
    "hidden": true
   },
   "outputs": [],
   "source": [
    "# final_name = 'illustris_data/final_catalog.txt'\n",
    "# final_name = 'illustris_data/final_catalog2.txt'\n",
    "final_name = 'illustris_data/final_catalog1.txt'\n",
    "\n",
    "tabs = 'redshift\\tsnap_in1\\tsnap_in2\\tsnap_out\\tseparation\\tv_disp_in1\\t\\\n",
    "    v_disp_in2\\tv_disp_out\\tbh_mass_in1\\tbh_mass_in2\\tbh_mass_out\\tbh_mdot_in1\\t\\\n",
    "    bh_mdot_in2\\tbh_mdot_out\\tstellar_mass_in1\\tstellar_mass_in2\\tstellar_mass_out\\t\\\n",
    "    total_mass_in1\\ttotal_mass_in2\\ttotal_mass_out\\tgas_norm\\tgas_gamma\\t\\\n",
    "    stellar_norm\\tstellar_gamma\\tdm_norm\\tdm_gamma\\n'\n",
    "\n",
    "total_list = []\n",
    "for i in range(1):\n",
    "# for i in range(10):\n",
    "    one_list = []\n",
    "    one_list.append(list_redshift[i])\n",
    "\n",
    "    one_list.append(list_snap_in1[i])\n",
    "    one_list.append(list_snap_in2[i])\n",
    "    one_list.append(list_snap_out[i])\n",
    "    \n",
    "    one_list.append(list_separation[i])\n",
    "    \n",
    "    one_list.append(list_v_disp_in1[i])\n",
    "    one_list.append(list_v_disp_in2[i])\n",
    "    one_list.append(list_v_disp_out[i])\n",
    "    \n",
    "    one_list.append(list_bh_mass_in1[i])\n",
    "    one_list.append(list_bh_mass_in2[i])\n",
    "    one_list.append(list_bh_mass_out[i])\n",
    "\n",
    "    one_list.append(list_bh_mdot_in1[i])\n",
    "    one_list.append(list_bh_mdot_in2[i])\n",
    "    one_list.append(list_bh_mdot_out[i])\n",
    "    \n",
    "    one_list.append(list_stellar_mass_in1[i])\n",
    "    one_list.append(list_stellar_mass_in2[i])\n",
    "    one_list.append(list_stellar_mass_out[i])\n",
    "\n",
    "    one_list.append(list_total_mass_in1[i])\n",
    "    one_list.append(list_total_mass_in2[i])\n",
    "    one_list.append(list_total_mass_out[i])\n",
    "\n",
    "    one_list.append(list_gas_norm[i])\n",
    "    one_list.append(list_gas_gamma[i])\n",
    "\n",
    "    one_list.append(list_stellar_norm[i])\n",
    "    one_list.append(list_stellar_gamma[i])\n",
    "\n",
    "    one_list.append(list_dm_norm[i])\n",
    "    one_list.append(list_dm_gamma[i])\n",
    "    \n",
    "    total_list.append(one_list)\n"
   ]
  },
  {
   "cell_type": "code",
   "execution_count": null,
   "metadata": {
    "hidden": true
   },
   "outputs": [],
   "source": [
    "list_bh_v_in1 = []\n",
    "list_bh_v_in2 = []\n",
    "\n",
    "# lib_bh_m_in1 = []\n",
    "# lib_bh_m_in2 = []\n",
    "# lib_bh_m_out = []\n",
    "\n",
    "list_bh_mdot_in1 = []\n",
    "list_bh_mdot_in2 = []\n",
    "list_bh_mdot_out = []\n",
    "\n",
    "list_separation = []"
   ]
  },
  {
   "cell_type": "code",
   "execution_count": null,
   "metadata": {
    "hidden": true
   },
   "outputs": [],
   "source": [
    "# for i in range(0, len(cat)):\n",
    "stranges = []\n",
    "for i in range(len(cat)):\n",
    "# for i in range(len(cat)):\n",
    "    print(i, end = ' ')\n",
    "    #merger index\n",
    "    merger_index = cat['merger'][i]\n",
    "\n",
    "    f1 = h5py.File(path + bh_in[i])\n",
    "    f2 = h5py.File(path + bh_in2[i])\n",
    "#     f3 = h5py.File(path + bh_out[i])\n",
    "    #id\n",
    "    \n",
    "    bh_id_in1 = int(cat['id_new_prev_in'][i])\n",
    "    bh_id_in2 = int(cat['id_new_prev_out'][i])\n",
    "    old_id_in1 = int(cat['id_old_prev_in'][i])\n",
    "    old_id_in2 = int(cat['id_old_prev_out'][i])\n",
    "    \n",
    "#     total_ids = np.array([])\n",
    "\n",
    "    #new ids match\n",
    "    bh_index_in1 = np.where(f1['PartType5']['ParticleIDs'][:] == bh_id_in1)[0]\n",
    "    bh_index_in2 = np.where(f2['PartType5']['ParticleIDs'][:] == bh_id_in2)[0]           \n",
    "    \n",
    "    if len(f1['PartType5']['ParticleIDs'][:]) == 1:\n",
    "        bh_index_in1 = np.array([0])\n",
    "    if len(f2['PartType5']['ParticleIDs'][:]) == 1:\n",
    "        bh_index_in2 = np.array([0])\n",
    "    \n",
    "    \n",
    "    if len(bh_index_in1) == 1 and len(bh_index_in2) == 0: #if they are old \n",
    "        print('index2 is strange')\n",
    "        \n",
    "        ex_mdot = (f1['PartType5']['BH_Mdot'][:][bh_index_in1] + f2['PartType5']['BH_Mdot'][:]) * 10.22\n",
    "        ans_mdot = cat['mdot_sum'][i]\n",
    "\n",
    "        mdot_index = np.argmin(np.abs(ex_mdot - ans_mdot))\n",
    "        bh_index_in2 = np.array([mdot_index])\n",
    "        \n",
    "        if len(bh_index_in2) == 0:\n",
    "            print('not solved')\n",
    "            stranges.append(i)\n",
    "        else:\n",
    "            print('solved')\n",
    "            stranges.append(i)\n",
    "\n",
    "            \n",
    "    elif len(bh_index_in1) == 0 and len(bh_index_in2) == 1:\n",
    "        print('index1 is strange')\n",
    "        \n",
    "        ex_mdot = (f1['PartType5']['BH_Mdot'][:] + f2['PartType5']['BH_Mdot'][:][bh_index_in2]) * 10.22\n",
    "        ans_mdot = cat['mdot_sum'][i]\n",
    "\n",
    "        mdot_index = np.argmin(np.abs(ex_mdot - ans_mdot))\n",
    "        bh_index_in1 = np.array([mdot_index])\n",
    "        \n",
    "        if len(bh_index_in1) == 0:\n",
    "            print('not solved')\n",
    "            stranges.append(i)\n",
    "        else:\n",
    "            print('solved')\n",
    "            stranges.append(i)\n",
    "            \n",
    "    elif len(bh_index_in1) == 0 and len(bh_index_in2) == 0:\n",
    "        #switch\n",
    "        print('try switch')\n",
    "        bh_index_in1 = np.where(f1['PartType5']['ParticleIDs'][:] == bh_id_in2)[0]\n",
    "        bh_index_in2 = np.where(f2['PartType5']['ParticleIDs'][:] == bh_id_in1)[0] \n",
    "        \n",
    "        if len(bh_index_in1) == 1 and len(bh_index_in2) == 0:\n",
    "            ex_mdot = (f1['PartType5']['BH_Mdot'][:][bh_index_in1] + f2['PartType5']['BH_Mdot'][:]) * 10.22\n",
    "            ans_mdot = cat['mdot_sum'][i]\n",
    "\n",
    "            mdot_index = np.argmin(np.abs(ex_mdot - ans_mdot))\n",
    "            bh_index_in2 = np.array([mdot_index])\n",
    "        \n",
    "            if len(bh_index_in2) == 0:\n",
    "                print('not solved')\n",
    "                stranges.append(i)\n",
    "            else:\n",
    "                print('solved')\n",
    "                stranges.append(i)\n",
    "        \n",
    "        elif len(bh_index_in1) == 0 and len(bh_index_in2) == 1:\n",
    "            ex_mdot = (f1['PartType5']['BH_Mdot'][:] + f2['PartType5']['BH_Mdot'][:][bh_index_in2]) * 10.22\n",
    "            ans_mdot = cat['mdot_sum'][i]\n",
    "\n",
    "            mdot_index = np.argmin(np.abs(ex_mdot - ans_mdot))\n",
    "            bh_index_in1 = np.array([mdot_index])\n",
    "            \n",
    "            if len(bh_index_in1) == 0:\n",
    "                print('not solved')\n",
    "                stranges.append(i)\n",
    "            else:\n",
    "                print('solved')\n",
    "                stranges.append(i)\n",
    "            \n",
    "        elif len(bh_index_in1) == 0 and len(bh_index_in2) == 0:\n",
    "            print('again')\n",
    "            bh_index_in1 = np.where(f1['PartType5']['ParticleIDs'][:] == old_id_in1)[0]\n",
    "            \n",
    "            if len(bh_index_in1) == 0:\n",
    "                bh_index_in1 = np.where(f1['PartType5']['ParticleIDs'][:] == old_id_in2)[0]\n",
    "                \n",
    "                if len(bh_index_in1) == 0:\n",
    "                    bh_index_in2 = np.where(f2['PartType5']['ParticleIDs'][:] == old_id_in1)[0]\n",
    "                    \n",
    "                    if len(bh_index_in2) == 0:\n",
    "                        bh_index_in2 = np.where(f2['PartType5']['ParticleIDs'][:] == old_id_in2)[0]\n",
    "                        \n",
    "                        if len(bh_index_in2) == 0:\n",
    "                            print('fail')\n",
    "                        elif len(bh_index_in2) == 1:\n",
    "                            ex_mdot = (f1['PartType5']['BH_Mdot'][:] + f2['PartType5']['BH_Mdot'][:][bh_index_in2]) * 10.22\n",
    "                            ans_mdot = cat['mdot_sum'][i]\n",
    "\n",
    "                            mdot_index = np.argmin(np.abs(ex_mdot - ans_mdot))\n",
    "                            bh_index_in1 = np.array([mdot_index])\n",
    "\n",
    "                            if len(bh_index_in1) == 0:\n",
    "                                print('not solved')\n",
    "                                stranges.append(i)\n",
    "                            else:\n",
    "                                print('solved')\n",
    "                                stranges.append(i)                            \n",
    "                        \n",
    "                    elif len(bh_index_in2) == 1:\n",
    "                        ex_mdot = (f1['PartType5']['BH_Mdot'][:] + f2['PartType5']['BH_Mdot'][:][bh_index_in2]) * 10.22\n",
    "                        ans_mdot = cat['mdot_sum'][i]\n",
    "\n",
    "                        mdot_index = np.argmin(np.abs(ex_mdot - ans_mdot))\n",
    "                        bh_index_in1 = np.array([mdot_index])\n",
    "\n",
    "                        if len(bh_index_in1) == 0:\n",
    "                            print('not solved')\n",
    "                            stranges.append(i)\n",
    "                        else:\n",
    "                            print('solved')\n",
    "                            stranges.append(i)\n",
    "                        \n",
    "                elif len(bh_index_in1) == 1:\n",
    "                    ex_mdot = (f1['PartType5']['BH_Mdot'][:][bh_index_in1] + f2['PartType5']['BH_Mdot'][:]) * 10.22\n",
    "                    ans_mdot = cat['mdot_sum'][i]\n",
    "\n",
    "                    mdot_index = np.argmin(np.abs(ex_mdot - ans_mdot))\n",
    "                    bh_index_in2 = np.array([mdot_index])\n",
    "\n",
    "                    if len(bh_index_in2) == 0:\n",
    "                        print('not solved')\n",
    "                        stranges.append(i)\n",
    "                    else:\n",
    "                        print('solved')\n",
    "                        stranges.append(i)\n",
    "                    \n",
    "                \n",
    "                elif len(bh_index_in1) == 1:\n",
    "                    ex_mdot = (f1['PartType5']['BH_Mdot'][:][bh_index_in1] + f2['PartType5']['BH_Mdot'][:]) * 10.22\n",
    "                    ans_mdot = cat['mdot_sum'][i]\n",
    "\n",
    "                    mdot_index = np.argmin(np.abs(ex_mdot - ans_mdot))\n",
    "                    bh_index_in2 = np.array([mdot_index])\n",
    "\n",
    "                    if len(bh_index_in2) == 0:\n",
    "                        print('not solved')\n",
    "                        stranges.append(i)\n",
    "                    else:\n",
    "                        print('solved')\n",
    "                        stranges.append(i)\n",
    "              \n",
    "            \n",
    "            elif len(bh_index_in1) == 1:                \n",
    "                ex_mdot = (f1['PartType5']['BH_Mdot'][:][bh_index_in1] + f2['PartType5']['BH_Mdot'][:]) * 10.22\n",
    "                ans_mdot = cat['mdot_sum'][i]\n",
    "\n",
    "                mdot_index = np.argmin(np.abs(ex_mdot - ans_mdot))\n",
    "                bh_index_in2 = np.array([mdot_index])\n",
    "\n",
    "                if len(bh_index_in2) == 0:\n",
    "                    print('not solved')\n",
    "                    stranges.append(i)\n",
    "                else:\n",
    "                    print('solved')\n",
    "                    stranges.append(i)\n",
    "    else:\n",
    "        print('success')\n",
    "    \n",
    "    #bh accretion\n",
    "    bh_mdot_in1 = f1['PartType5']['BH_Mdot'][bh_index_in1][:] * 10.22\n",
    "    bh_mdot_in2 = f2['PartType5']['BH_Mdot'][bh_index_in2][:] * 10.22\n",
    "    \n",
    "    bh_mdot_in1[0]\n",
    "    bh_mdot_in1[0]\n",
    "    \n",
    "    #separation\n",
    "    \n",
    "    scale_in1 = f1['Header'].attrs['Time']\n",
    "    scale_in2 = f2['Header'].attrs['Time']\n",
    "    \n",
    "    sep_in1 = f1['PartType5']['BH_Hsml'][bh_index_in1][:] * scale_in1 / h\n",
    "    sep_in2 = f2['PartType5']['BH_Hsml'][bh_index_in2][:] * scale_in2 / h\n",
    "    separation = np.max([sep_in1, sep_in2])\n",
    "    \n",
    "    #bh velocity\n",
    "    bh_v_in1 =  f1['PartType5']['Velocities'][bh_index_in1][:]**2\n",
    "    bh_v_in1 = np.sqrt(np.sum(bh_v_in1))\n",
    "\n",
    "    #bh velocity\n",
    "    bh_v_in2 =  f2['PartType5']['Velocities'][bh_index_in2][:]**2\n",
    "    bh_v_in2 = np.sqrt(np.sum(bh_v_in2))\n",
    "    \n",
    "    #add list\n",
    "    list_bh_v_in1.append(bh_v_in1)\n",
    "    list_bh_v_in2.append(bh_v_in2)\n",
    "    \n",
    "    \n",
    "    list_bh_mdot_in1.append(bh_mdot_in1[0])\n",
    "    list_bh_mdot_in2.append(bh_mdot_in2[0])\n",
    "#     list_bh_mdot_out.append(bh_mdot_out)\n",
    "\n",
    "    list_separation.append(separation)"
   ]
  },
  {
   "cell_type": "code",
   "execution_count": null,
   "metadata": {
    "hidden": true
   },
   "outputs": [],
   "source": [
    "list_bh_v_x_in1 = []\n",
    "list_bh_v_y_in1 = []\n",
    "list_bh_v_z_in1 = []\n",
    "\n",
    "list_bh_v_x_in2 = []\n",
    "list_bh_v_y_in2 = []\n",
    "list_bh_v_z_in2 = []"
   ]
  },
  {
   "cell_type": "code",
   "execution_count": null,
   "metadata": {
    "hidden": true
   },
   "outputs": [],
   "source": [
    "# for i in range(0, len(cat)):\n",
    "stranges = []\n",
    "for i in range(len(cat)):\n",
    "# for i in range(len(cat)):\n",
    "    print(i, end = ' ')\n",
    "    #merger index\n",
    "    merger_index = cat['merger'][i]\n",
    "\n",
    "    f1 = h5py.File(path + bh_in[i])\n",
    "    f2 = h5py.File(path + bh_in2[i])\n",
    "#     f3 = h5py.File(path + bh_out[i])\n",
    "    #id\n",
    "    \n",
    "    bh_id_in1 = int(cat['id_new_prev_in'][i])\n",
    "    bh_id_in2 = int(cat['id_new_prev_out'][i])\n",
    "    old_id_in1 = int(cat['id_old_prev_in'][i])\n",
    "    old_id_in2 = int(cat['id_old_prev_out'][i])\n",
    "    \n",
    "#     total_ids = np.array([])\n",
    "\n",
    "    #new ids match\n",
    "    bh_index_in1 = np.where(f1['PartType5']['ParticleIDs'][:] == bh_id_in1)[0]\n",
    "    bh_index_in2 = np.where(f2['PartType5']['ParticleIDs'][:] == bh_id_in2)[0]           \n",
    "    \n",
    "    if len(f1['PartType5']['ParticleIDs'][:]) == 1:\n",
    "        bh_index_in1 = np.array([0])\n",
    "    if len(f2['PartType5']['ParticleIDs'][:]) == 1:\n",
    "        bh_index_in2 = np.array([0])\n",
    "    \n",
    "    \n",
    "    if len(bh_index_in1) == 1 and len(bh_index_in2) == 0: #if they are old \n",
    "        print('index2 is strange')\n",
    "        \n",
    "        ex_mdot = (f1['PartType5']['BH_Mdot'][:][bh_index_in1] + f2['PartType5']['BH_Mdot'][:]) * 10.22\n",
    "        ans_mdot = cat['mdot_sum'][i]\n",
    "\n",
    "        mdot_index = np.argmin(np.abs(ex_mdot - ans_mdot))\n",
    "        bh_index_in2 = np.array([mdot_index])\n",
    "        \n",
    "        if len(bh_index_in2) == 0:\n",
    "            print('not solved')\n",
    "            stranges.append(i)\n",
    "        else:\n",
    "            print('solved')\n",
    "            stranges.append(i)\n",
    "\n",
    "            \n",
    "    elif len(bh_index_in1) == 0 and len(bh_index_in2) == 1:\n",
    "        print('index1 is strange')\n",
    "        \n",
    "        ex_mdot = (f1['PartType5']['BH_Mdot'][:] + f2['PartType5']['BH_Mdot'][:][bh_index_in2]) * 10.22\n",
    "        ans_mdot = cat['mdot_sum'][i]\n",
    "\n",
    "        mdot_index = np.argmin(np.abs(ex_mdot - ans_mdot))\n",
    "        bh_index_in1 = np.array([mdot_index])\n",
    "        \n",
    "        if len(bh_index_in1) == 0:\n",
    "            print('not solved')\n",
    "            stranges.append(i)\n",
    "        else:\n",
    "            print('solved')\n",
    "            stranges.append(i)\n",
    "            \n",
    "    elif len(bh_index_in1) == 0 and len(bh_index_in2) == 0:\n",
    "        #switch\n",
    "        print('try switch')\n",
    "        bh_index_in1 = np.where(f1['PartType5']['ParticleIDs'][:] == bh_id_in2)[0]\n",
    "        bh_index_in2 = np.where(f2['PartType5']['ParticleIDs'][:] == bh_id_in1)[0] \n",
    "        \n",
    "        if len(bh_index_in1) == 1 and len(bh_index_in2) == 0:\n",
    "            ex_mdot = (f1['PartType5']['BH_Mdot'][:][bh_index_in1] + f2['PartType5']['BH_Mdot'][:]) * 10.22\n",
    "            ans_mdot = cat['mdot_sum'][i]\n",
    "\n",
    "            mdot_index = np.argmin(np.abs(ex_mdot - ans_mdot))\n",
    "            bh_index_in2 = np.array([mdot_index])\n",
    "        \n",
    "            if len(bh_index_in2) == 0:\n",
    "                print('not solved')\n",
    "                stranges.append(i)\n",
    "            else:\n",
    "                print('solved')\n",
    "                stranges.append(i)\n",
    "        \n",
    "        elif len(bh_index_in1) == 0 and len(bh_index_in2) == 1:\n",
    "            ex_mdot = (f1['PartType5']['BH_Mdot'][:] + f2['PartType5']['BH_Mdot'][:][bh_index_in2]) * 10.22\n",
    "            ans_mdot = cat['mdot_sum'][i]\n",
    "\n",
    "            mdot_index = np.argmin(np.abs(ex_mdot - ans_mdot))\n",
    "            bh_index_in1 = np.array([mdot_index])\n",
    "            \n",
    "            if len(bh_index_in1) == 0:\n",
    "                print('not solved')\n",
    "                stranges.append(i)\n",
    "            else:\n",
    "                print('solved')\n",
    "                stranges.append(i)\n",
    "            \n",
    "        elif len(bh_index_in1) == 0 and len(bh_index_in2) == 0:\n",
    "            print('again')\n",
    "            bh_index_in1 = np.where(f1['PartType5']['ParticleIDs'][:] == old_id_in1)[0]\n",
    "            \n",
    "            if len(bh_index_in1) == 0:\n",
    "                bh_index_in1 = np.where(f1['PartType5']['ParticleIDs'][:] == old_id_in2)[0]\n",
    "                \n",
    "                if len(bh_index_in1) == 0:\n",
    "                    bh_index_in2 = np.where(f2['PartType5']['ParticleIDs'][:] == old_id_in1)[0]\n",
    "                    \n",
    "                    if len(bh_index_in2) == 0:\n",
    "                        bh_index_in2 = np.where(f2['PartType5']['ParticleIDs'][:] == old_id_in2)[0]\n",
    "                        \n",
    "                        if len(bh_index_in2) == 0:\n",
    "                            print('fail')\n",
    "                        elif len(bh_index_in2) == 1:\n",
    "                            ex_mdot = (f1['PartType5']['BH_Mdot'][:] + f2['PartType5']['BH_Mdot'][:][bh_index_in2]) * 10.22\n",
    "                            ans_mdot = cat['mdot_sum'][i]\n",
    "\n",
    "                            mdot_index = np.argmin(np.abs(ex_mdot - ans_mdot))\n",
    "                            bh_index_in1 = np.array([mdot_index])\n",
    "\n",
    "                            if len(bh_index_in1) == 0:\n",
    "                                print('not solved')\n",
    "                                stranges.append(i)\n",
    "                            else:\n",
    "                                print('solved')\n",
    "                                stranges.append(i)                            \n",
    "                        \n",
    "                    elif len(bh_index_in2) == 1:\n",
    "                        ex_mdot = (f1['PartType5']['BH_Mdot'][:] + f2['PartType5']['BH_Mdot'][:][bh_index_in2]) * 10.22\n",
    "                        ans_mdot = cat['mdot_sum'][i]\n",
    "\n",
    "                        mdot_index = np.argmin(np.abs(ex_mdot - ans_mdot))\n",
    "                        bh_index_in1 = np.array([mdot_index])\n",
    "\n",
    "                        if len(bh_index_in1) == 0:\n",
    "                            print('not solved')\n",
    "                            stranges.append(i)\n",
    "                        else:\n",
    "                            print('solved')\n",
    "                            stranges.append(i)\n",
    "                        \n",
    "                elif len(bh_index_in1) == 1:\n",
    "                    ex_mdot = (f1['PartType5']['BH_Mdot'][:][bh_index_in1] + f2['PartType5']['BH_Mdot'][:]) * 10.22\n",
    "                    ans_mdot = cat['mdot_sum'][i]\n",
    "\n",
    "                    mdot_index = np.argmin(np.abs(ex_mdot - ans_mdot))\n",
    "                    bh_index_in2 = np.array([mdot_index])\n",
    "\n",
    "                    if len(bh_index_in2) == 0:\n",
    "                        print('not solved')\n",
    "                        stranges.append(i)\n",
    "                    else:\n",
    "                        print('solved')\n",
    "                        stranges.append(i)\n",
    "                    \n",
    "                \n",
    "                elif len(bh_index_in1) == 1:\n",
    "                    ex_mdot = (f1['PartType5']['BH_Mdot'][:][bh_index_in1] + f2['PartType5']['BH_Mdot'][:]) * 10.22\n",
    "                    ans_mdot = cat['mdot_sum'][i]\n",
    "\n",
    "                    mdot_index = np.argmin(np.abs(ex_mdot - ans_mdot))\n",
    "                    bh_index_in2 = np.array([mdot_index])\n",
    "\n",
    "                    if len(bh_index_in2) == 0:\n",
    "                        print('not solved')\n",
    "                        stranges.append(i)\n",
    "                    else:\n",
    "                        print('solved')\n",
    "                        stranges.append(i)\n",
    "              \n",
    "            \n",
    "            elif len(bh_index_in1) == 1:                \n",
    "                ex_mdot = (f1['PartType5']['BH_Mdot'][:][bh_index_in1] + f2['PartType5']['BH_Mdot'][:]) * 10.22\n",
    "                ans_mdot = cat['mdot_sum'][i]\n",
    "\n",
    "                mdot_index = np.argmin(np.abs(ex_mdot - ans_mdot))\n",
    "                bh_index_in2 = np.array([mdot_index])\n",
    "\n",
    "                if len(bh_index_in2) == 0:\n",
    "                    print('not solved')\n",
    "                    stranges.append(i)\n",
    "                else:\n",
    "                    print('solved')\n",
    "                    stranges.append(i)\n",
    "    else:\n",
    "        print('success')\n",
    "\n",
    "    #bh velocity\n",
    "    bh_v_in1 =  f1['PartType5']['Velocities'][bh_index_in1][:]\n",
    "    bh_v_x_in1 = bh_v_in1[0][0]\n",
    "    bh_v_y_in1 = bh_v_in1[0][1]\n",
    "    bh_v_z_in1 = bh_v_in1[0][2]\n",
    "\n",
    "    #bh velocity\n",
    "    bh_v_in2 =  f2['PartType5']['Velocities'][bh_index_in2][:]**2\n",
    "    bh_v_x_in2 = bh_v_in2[0][0]\n",
    "    bh_v_y_in2 = bh_v_in2[0][1]\n",
    "    bh_v_z_in2 = bh_v_in2[0][2]\n",
    "\n",
    "    \n",
    "    #add list\n",
    "    list_bh_v_x_in1.append(bh_v_x_in1)\n",
    "    list_bh_v_y_in1.append(bh_v_y_in1)\n",
    "    list_bh_v_z_in1.append(bh_v_z_in1)\n",
    "    \n",
    "    list_bh_v_x_in2.append(bh_v_x_in2)\n",
    "    list_bh_v_y_in2.append(bh_v_y_in2)\n",
    "    list_bh_v_z_in2.append(bh_v_z_in2)\n",
    "    "
   ]
  },
  {
   "cell_type": "code",
   "execution_count": null,
   "metadata": {
    "hidden": true
   },
   "outputs": [],
   "source": [
    "final_name = 'illustris_data/velocities.txt'\n",
    "\n",
    "tabs = 'bh_v_x_in1\\tbh_v_y_in1\\tbh_b_v_in1\\tbh_v_x_in2\\tbh_v_y_in2\\tbh_v_z_in2\\n'\n",
    "\n",
    "total_list = []\n",
    "for i in range(len(cat)):\n",
    "# for i in range(10):\n",
    "    one_list = []\n",
    "    one_list.append(list_bh_v_x_in1[i])\n",
    "    one_list.append(list_bh_v_y_in1[i])\n",
    "    one_list.append(list_bh_v_z_in1[i])\n",
    "    one_list.append(list_bh_v_x_in2[i])\n",
    "    one_list.append(list_bh_v_y_in2[i])\n",
    "    one_list.append(list_bh_v_z_in2[i])\n",
    "    \n",
    "    total_list.append(one_list)"
   ]
  },
  {
   "cell_type": "code",
   "execution_count": null,
   "metadata": {
    "hidden": true
   },
   "outputs": [],
   "source": [
    "with open(final_name, 'w') as f:\n",
    "    f.write(tabs)\n",
    "    \n",
    "    for i in range(len(cat)):\n",
    "        for total in total_list[i]:\n",
    "            f.write(str(total) + '\\t')\n",
    "        f.write('\\n')"
   ]
  },
  {
   "cell_type": "code",
   "execution_count": null,
   "metadata": {
    "hidden": true,
    "scrolled": false
   },
   "outputs": [],
   "source": [
    "# 10^6 cut\n",
    "# m_num = []\n",
    "# stranges = []\n",
    "# for i in range(len(cat)):\n",
    "# # for i in range(len(cat)):\n",
    "#     print(i, end = ' ')\n",
    "#     #merger index\n",
    "#     merger_index = cat['merger'][i]\n",
    "\n",
    "#     f1 = h5py.File(path + bh_in[i])\n",
    "#     f2 = h5py.File(path + bh_in2[i])\n",
    "# #     f3 = h5py.File(path + bh_out[i])\n",
    "#     #id\n",
    "    \n",
    "#     bh_id_in1 = int(cat['id_new_prev_in'][i])\n",
    "#     bh_id_in2 = int(cat['id_new_prev_out'][i])\n",
    "#     old_id_in1 = int(cat['id_old_prev_in'][i])\n",
    "#     old_id_in2 = int(cat['id_old_prev_out'][i])\n",
    "    \n",
    "# #     total_ids = np.array([])\n",
    "\n",
    "#     #new ids match\n",
    "#     bh_index_in1 = np.where(f1['PartType5']['ParticleIDs'][:] == bh_id_in1)[0]\n",
    "#     bh_index_in2 = np.where(f2['PartType5']['ParticleIDs'][:] == bh_id_in2)[0]           \n",
    "    \n",
    "#     if len(f1['PartType5']['ParticleIDs'][:]) == 1:\n",
    "#         bh_index_in1 = np.array([0])\n",
    "#     if len(f2['PartType5']['ParticleIDs'][:]) == 1:\n",
    "#         bh_index_in2 = np.array([0])\n",
    "    \n",
    "    \n",
    "#     if len(bh_index_in1) == 1 and len(bh_index_in2) == 0: #if they are old \n",
    "#         print('index2 is strange')\n",
    "        \n",
    "#         ex_mdot = (f1['PartType5']['BH_Mdot'][:][bh_index_in1] + f2['PartType5']['BH_Mdot'][:]) * 10.22\n",
    "#         ans_mdot = cat['mdot_sum'][i]\n",
    "\n",
    "#         mdot_index = np.argmin(np.abs(ex_mdot - ans_mdot))\n",
    "#         bh_index_in2 = np.array([mdot_index])\n",
    "        \n",
    "#         if len(bh_index_in2) == 0:\n",
    "#             print('not solved')\n",
    "#             stranges.append(i)\n",
    "#         else:\n",
    "#             print('solved')\n",
    "#             stranges.append(i)\n",
    "\n",
    "            \n",
    "#     elif len(bh_index_in1) == 0 and len(bh_index_in2) == 1:\n",
    "#         print('index1 is strange')\n",
    "        \n",
    "#         ex_mdot = (f1['PartType5']['BH_Mdot'][:] + f2['PartType5']['BH_Mdot'][:][bh_index_in2]) * 10.22\n",
    "#         ans_mdot = cat['mdot_sum'][i]\n",
    "\n",
    "#         mdot_index = np.argmin(np.abs(ex_mdot - ans_mdot))\n",
    "#         bh_index_in1 = np.array([mdot_index])\n",
    "        \n",
    "#         if len(bh_index_in1) == 0:\n",
    "#             print('not solved')\n",
    "#             stranges.append(i)\n",
    "#         else:\n",
    "#             print('solved')\n",
    "#             stranges.append(i)\n",
    "            \n",
    "#     elif len(bh_index_in1) == 0 and len(bh_index_in2) == 0:\n",
    "#         #switch\n",
    "#         print('try switch')\n",
    "#         bh_index_in1 = np.where(f1['PartType5']['ParticleIDs'][:] == bh_id_in2)[0]\n",
    "#         bh_index_in2 = np.where(f2['PartType5']['ParticleIDs'][:] == bh_id_in1)[0] \n",
    "        \n",
    "#         if len(bh_index_in1) == 1 and len(bh_index_in2) == 0:\n",
    "#             ex_mdot = (f1['PartType5']['BH_Mdot'][:][bh_index_in1] + f2['PartType5']['BH_Mdot'][:]) * 10.22\n",
    "#             ans_mdot = cat['mdot_sum'][i]\n",
    "\n",
    "#             mdot_index = np.argmin(np.abs(ex_mdot - ans_mdot))\n",
    "#             bh_index_in2 = np.array([mdot_index])\n",
    "        \n",
    "#             if len(bh_index_in2) == 0:\n",
    "#                 print('not solved')\n",
    "#                 stranges.append(i)\n",
    "#             else:\n",
    "#                 print('solved')\n",
    "#                 stranges.append(i)\n",
    "        \n",
    "#         elif len(bh_index_in1) == 0 and len(bh_index_in2) == 1:\n",
    "#             ex_mdot = (f1['PartType5']['BH_Mdot'][:] + f2['PartType5']['BH_Mdot'][:][bh_index_in2]) * 10.22\n",
    "#             ans_mdot = cat['mdot_sum'][i]\n",
    "\n",
    "#             mdot_index = np.argmin(np.abs(ex_mdot - ans_mdot))\n",
    "#             bh_index_in1 = np.array([mdot_index])\n",
    "            \n",
    "#             if len(bh_index_in1) == 0:\n",
    "#                 print('not solved')\n",
    "#                 stranges.append(i)\n",
    "#             else:\n",
    "#                 print('solved')\n",
    "#                 stranges.append(i)\n",
    "            \n",
    "#         elif len(bh_index_in1) == 0 and len(bh_index_in2) == 0:\n",
    "#             print('again')\n",
    "#             bh_index_in1 = np.where(f1['PartType5']['ParticleIDs'][:] == old_id_in1)[0]\n",
    "            \n",
    "#             if len(bh_index_in1) == 0:\n",
    "#                 bh_index_in1 = np.where(f1['PartType5']['ParticleIDs'][:] == old_id_in2)[0]\n",
    "                \n",
    "#                 if len(bh_index_in1) == 0:\n",
    "#                     bh_index_in2 = np.where(f2['PartType5']['ParticleIDs'][:] == old_id_in1)[0]\n",
    "                    \n",
    "#                     if len(bh_index_in2) == 0:\n",
    "#                         bh_index_in2 = np.where(f2['PartType5']['ParticleIDs'][:] == old_id_in2)[0]\n",
    "                        \n",
    "#                         if len(bh_index_in2) == 0:\n",
    "#                             print('fail')\n",
    "#                         elif len(bh_index_in2) == 1:\n",
    "#                             ex_mdot = (f1['PartType5']['BH_Mdot'][:] + f2['PartType5']['BH_Mdot'][:][bh_index_in2]) * 10.22\n",
    "#                             ans_mdot = cat['mdot_sum'][i]\n",
    "\n",
    "#                             mdot_index = np.argmin(np.abs(ex_mdot - ans_mdot))\n",
    "#                             bh_index_in1 = np.array([mdot_index])\n",
    "\n",
    "#                             if len(bh_index_in1) == 0:\n",
    "#                                 print('not solved')\n",
    "#                                 stranges.append(i)\n",
    "#                             else:\n",
    "#                                 print('solved')\n",
    "#                                 stranges.append(i)                            \n",
    "                        \n",
    "#                     elif len(bh_index_in2) == 1:\n",
    "#                         ex_mdot = (f1['PartType5']['BH_Mdot'][:] + f2['PartType5']['BH_Mdot'][:][bh_index_in2]) * 10.22\n",
    "#                         ans_mdot = cat['mdot_sum'][i]\n",
    "\n",
    "#                         mdot_index = np.argmin(np.abs(ex_mdot - ans_mdot))\n",
    "#                         bh_index_in1 = np.array([mdot_index])\n",
    "\n",
    "#                         if len(bh_index_in1) == 0:\n",
    "#                             print('not solved')\n",
    "#                             stranges.append(i)\n",
    "#                         else:\n",
    "#                             print('solved')\n",
    "#                             stranges.append(i)\n",
    "                        \n",
    "#                 elif len(bh_index_in1) == 1:\n",
    "#                     ex_mdot = (f1['PartType5']['BH_Mdot'][:][bh_index_in1] + f2['PartType5']['BH_Mdot'][:]) * 10.22\n",
    "#                     ans_mdot = cat['mdot_sum'][i]\n",
    "\n",
    "#                     mdot_index = np.argmin(np.abs(ex_mdot - ans_mdot))\n",
    "#                     bh_index_in2 = np.array([mdot_index])\n",
    "\n",
    "#                     if len(bh_index_in2) == 0:\n",
    "#                         print('not solved')\n",
    "#                         stranges.append(i)\n",
    "#                     else:\n",
    "#                         print('solved')\n",
    "#                         stranges.append(i)\n",
    "                    \n",
    "                \n",
    "#                 elif len(bh_index_in1) == 1:\n",
    "#                     ex_mdot = (f1['PartType5']['BH_Mdot'][:][bh_index_in1] + f2['PartType5']['BH_Mdot'][:]) * 10.22\n",
    "#                     ans_mdot = cat['mdot_sum'][i]\n",
    "\n",
    "#                     mdot_index = np.argmin(np.abs(ex_mdot - ans_mdot))\n",
    "#                     bh_index_in2 = np.array([mdot_index])\n",
    "\n",
    "#                     if len(bh_index_in2) == 0:\n",
    "#                         print('not solved')\n",
    "#                         stranges.append(i)\n",
    "#                     else:\n",
    "#                         print('solved')\n",
    "#                         stranges.append(i)\n",
    "              \n",
    "            \n",
    "#             elif len(bh_index_in1) == 1:                \n",
    "#                 ex_mdot = (f1['PartType5']['BH_Mdot'][:][bh_index_in1] + f2['PartType5']['BH_Mdot'][:]) * 10.22\n",
    "#                 ans_mdot = cat['mdot_sum'][i]\n",
    "\n",
    "#                 mdot_index = np.argmin(np.abs(ex_mdot - ans_mdot))\n",
    "#                 bh_index_in2 = np.array([mdot_index])\n",
    "\n",
    "#                 if len(bh_index_in2) == 0:\n",
    "#                     print('not solved')\n",
    "#                     stranges.append(i)\n",
    "#                 else:\n",
    "#                     print('solved')\n",
    "#                     stranges.append(i)\n",
    "#     else:\n",
    "#         print('success')\n",
    "\n",
    "#     #bh velocity\n",
    "#     bh_mass_in1 =  f1['PartType5']['BH_Mass'][bh_index_in1][:]* 1e10/h\n",
    "\n",
    "#     #bh velocity\n",
    "#     bh_mass_in2 =  f2['PartType5']['BH_Mass'][bh_index_in2][:] * 1e10/h\n",
    "\n",
    "#     if (bh_mass_in1 >=  1e6) & (bh_mass_in2 >= 1e6):\n",
    "\n",
    "#         m_num.append(i)\n",
    "\n",
    "    "
   ]
  },
  {
   "cell_type": "code",
   "execution_count": null,
   "metadata": {
    "hidden": true
   },
   "outputs": [],
   "source": [
    "# np.where(cat['merger'])\n",
    "new = cat[m_num]"
   ]
  },
  {
   "cell_type": "code",
   "execution_count": null,
   "metadata": {
    "hidden": true
   },
   "outputs": [],
   "source": [
    "new = new.to_pandas()"
   ]
  },
  {
   "cell_type": "code",
   "execution_count": null,
   "metadata": {
    "hidden": true
   },
   "outputs": [],
   "source": [
    "new.to_csv('new.txt')"
   ]
  },
  {
   "cell_type": "code",
   "execution_count": null,
   "metadata": {
    "hidden": true
   },
   "outputs": [],
   "source": [
    "temp = cat['separation'][:] / tot['separation']"
   ]
  },
  {
   "cell_type": "code",
   "execution_count": null,
   "metadata": {
    "hidden": true
   },
   "outputs": [],
   "source": [
    "# tot['separation']"
   ]
  },
  {
   "cell_type": "code",
   "execution_count": null,
   "metadata": {
    "hidden": true
   },
   "outputs": [],
   "source": [
    "np.where((temp > 1.1) | (temp < 0.9))[0]"
   ]
  },
  {
   "cell_type": "code",
   "execution_count": null,
   "metadata": {
    "hidden": true
   },
   "outputs": [],
   "source": [
    "final_name = 'illustris_data/extra_catalog.txt'\n",
    "\n",
    "tabs = 'bh_v_in1\\tbh_v_in2\\tbh_mdot_in1\\tbh_mdot_in2\\tseparation\\n'\n",
    "\n",
    "total_list = []\n",
    "for i in range(len(cat)):\n",
    "# for i in range(10):\n",
    "    one_list = []\n",
    "    one_list.append(list_bh_v_in1[i])\n",
    "    one_list.append(list_bh_v_in2[i])\n",
    "    one_list.append(list_bh_mdot_in1[i])\n",
    "    one_list.append(list_bh_mdot_in2[i])\n",
    "    one_list.append(list_separation[i])\n",
    "    \n",
    "    total_list.append(one_list)"
   ]
  },
  {
   "cell_type": "code",
   "execution_count": null,
   "metadata": {
    "hidden": true
   },
   "outputs": [],
   "source": [
    "with open(final_name, 'w') as f:\n",
    "    f.write(tabs)\n",
    "    \n",
    "    for i in range(len(cat)):\n",
    "        for total in total_list[i]:\n",
    "            f.write(str(total) + '\\t')\n",
    "        f.write('\\n')"
   ]
  },
  {
   "cell_type": "code",
   "execution_count": null,
   "metadata": {
    "hidden": true
   },
   "outputs": [],
   "source": [
    "ex = ascii.read('illustris_data/catalog.txt')"
   ]
  },
  {
   "cell_type": "code",
   "execution_count": null,
   "metadata": {
    "hidden": true
   },
   "outputs": [],
   "source": [
    "tot = ascii.read(final_name)\n",
    "tot"
   ]
  },
  {
   "cell_type": "code",
   "execution_count": null,
   "metadata": {
    "hidden": true
   },
   "outputs": [],
   "source": [
    "final_redshift = ex['redshift']\n",
    "\n",
    "final_snap_in1 = ex['snap_in1']\n",
    "final_snap_in2 = ex['snap_in2']\n",
    "final_snap_out = ex['snap_out']\n",
    "\n",
    "final_bh_mass_in1 = ex['bh_mass_in1']\n",
    "final_bh_mass_in2 = ex['bh_mass_in2']\n",
    "\n",
    "final_bh_mdot_in1 = tot['bh_mdot_in1']\n",
    "final_bh_mdot_in2 = tot['bh_mdot_in2']\n",
    "\n",
    "final_bh_v_in1 = tot['bh_v_in1']\n",
    "final_bh_v_in2 = tot['bh_v_in2']\n",
    "\n",
    "final_separation = tot['separation']\n",
    "\n",
    "final_stellar_vdisp_in1 = ex['v_disp_in1']\n",
    "final_stellar_vdisp_in2 = ex['v_disp_in2']\n",
    "final_stellar_vdisp_out = ex['v_disp_out']\n",
    "\n",
    "final_stellar_mass_in1 = ex['stellar_mass_in1']\n",
    "final_stellar_mass_in2 = ex['stellar_mass_in2']\n",
    "final_stellar_mass_out = ex['stellar_mass_out']\n",
    "\n",
    "final_total_mass_in1 = ex['total_mass_in1']\n",
    "final_total_mass_in2 = ex['total_mass_in2']\n",
    "final_total_mass_out = ex['total_mass_out']\n",
    "\n",
    "final_gas_norm = ex['gas_norm']\n",
    "final_gas_gamma = ex['gas_gamma']\n",
    "\n",
    "final_stellar_norm = ex['stellar_norm']\n",
    "final_stellar_gamma = ex['stellar_gamma']\n",
    "\n",
    "final_dm_norm = ex['dm_norm']\n",
    "final_dm_gamma = ex['dm_gamma']"
   ]
  },
  {
   "cell_type": "code",
   "execution_count": null,
   "metadata": {
    "hidden": true
   },
   "outputs": [],
   "source": [
    "tabs = 'redshift\\tsnap_in1\\tsnap_in2\\tsnap_out\\tbh_mass_in1\\tbh_mass_in2\\tbh_mdot_in1\\tbh_mdot_in2\\tbh_v_in1\\tbh_v_in2\\tseparation\\tstellar_vdisp_in1\\tstellar_vdisp_in2\\tstellar_vdisp_out\\tstellar_mass_in1\\tstellar_mass_in2\\tstellar_mass_out\\ttotal_mass_in1\\ttotal_mass_in2\\ttotal_mass_out\\tgas_norm\\tgas_gamma\\tstellar_norm\\tstellar_gamma\\tdm_norm\\tdm_gamma\\n'\n",
    "\n",
    "total_list = []\n",
    "for i in range(len(cat)):\n",
    "# for i in range(10):\n",
    "    one_list = []\n",
    "    one_list.append(final_redshift[i])\n",
    "    \n",
    "    one_list.append(final_snap_in1[i])\n",
    "    one_list.append(final_snap_in2[i])\n",
    "    one_list.append(final_snap_out[i])\n",
    "    \n",
    "    one_list.append(final_bh_mass_in1[i])\n",
    "    one_list.append(final_bh_mass_in2[i])\n",
    "    \n",
    "    one_list.append(final_bh_mdot_in1[i])\n",
    "    one_list.append(final_bh_mdot_in2[i])\n",
    "    \n",
    "    one_list.append(final_bh_v_in1[i])\n",
    "    one_list.append(final_bh_v_in2[i])\n",
    "    \n",
    "    one_list.append(final_separation[i])\n",
    "\n",
    "    one_list.append(final_stellar_vdisp_in1[i])\n",
    "    one_list.append(final_stellar_vdisp_in2[i])\n",
    "    one_list.append(final_stellar_vdisp_out[i])\n",
    "    \n",
    "    one_list.append(final_stellar_mass_in1[i])\n",
    "    one_list.append(final_stellar_mass_in2[i])\n",
    "    one_list.append(final_stellar_mass_out[i])\n",
    "    \n",
    "    one_list.append(final_total_mass_in1[i])\n",
    "    one_list.append(final_total_mass_in2[i])\n",
    "    one_list.append(final_total_mass_out[i])\n",
    "    \n",
    "    one_list.append(final_gas_norm[i])\n",
    "    one_list.append(final_gas_gamma[i])\n",
    "    one_list.append(final_stellar_norm[i])\n",
    "    one_list.append(final_stellar_gamma[i])\n",
    "    one_list.append(final_dm_norm[i])\n",
    "    one_list.append(final_dm_gamma[i])\n",
    "    total_list.append(one_list)"
   ]
  },
  {
   "cell_type": "markdown",
   "metadata": {
    "hide_input": false
   },
   "source": [
    "# final subhalo download"
   ]
  },
  {
   "cell_type": "code",
   "execution_count": null,
   "metadata": {},
   "outputs": [],
   "source": [
    "with open('illustris_data/data.txt', 'w') as f:\n",
    "    f.write(tabs)\n",
    "    \n",
    "    for i in range(len(total_list)):\n",
    "        for j in range(len(total_list[i])):\n",
    "            f.write(str(total_list[i][j]) + '\\t')\n",
    "        f.write('\\n')"
   ]
  },
  {
   "cell_type": "code",
   "execution_count": null,
   "metadata": {},
   "outputs": [],
   "source": [
    "path = 'illustris_data/final/'\n",
    "file_list = os.listdir(path)"
   ]
  },
  {
   "cell_type": "code",
   "execution_count": null,
   "metadata": {},
   "outputs": [],
   "source": [
    "for i in range(0,50):\n",
    "    print(i, end = ' ')\n",
    "    cutout_request = {\n",
    "        'bhs': 'all',\n",
    "        'gas': 'Coordinates,Masses,Velocities,StarFormationRate',\n",
    "        'stars': 'Coordinates,Masses,Velocities,GFM_StellarFormationTime',\n",
    "        'dm': 'Coordinates,Velocities'\n",
    "    }\n",
    "    \n",
    "    snap = extra2[i].split('_')[1]\n",
    "    sub = extra2[i].split('_')[2][:-5]\n",
    "    \n",
    "    cutout = get('http://www.illustris-project.org/api/Illustris-1/snapshots/'+ snap +'/subhalos/'+sub+'/cutout.hdf5', cutout_request)\n",
    "    \n",
    "    path = 'illustris_data/final/extra/cutout_' + snap + '_' + sub + '.hdf5'\n",
    "    \n",
    "    with open(path, 'wb') as f:\n",
    "        f.write(cutout.content)"
   ]
  }
 ],
 "metadata": {
  "kernelspec": {
   "display_name": "Python 3",
   "language": "python",
   "name": "python3"
  },
  "language_info": {
   "codemirror_mode": {
    "name": "ipython",
    "version": 3
   },
   "file_extension": ".py",
   "mimetype": "text/x-python",
   "name": "python",
   "nbconvert_exporter": "python",
   "pygments_lexer": "ipython3",
   "version": "3.7.7"
  },
  "toc": {
   "base_numbering": 1,
   "nav_menu": {},
   "number_sections": true,
   "sideBar": false,
   "skip_h1_title": false,
   "title_cell": "Table of Contents",
   "title_sidebar": "Contents",
   "toc_cell": false,
   "toc_position": {
    "height": "645.445px",
    "left": "192px",
    "top": "133.359px",
    "width": "456.984px"
   },
   "toc_section_display": false,
   "toc_window_display": false
  },
  "varInspector": {
   "cols": {
    "lenName": 16,
    "lenType": 16,
    "lenVar": 40
   },
   "kernels_config": {
    "python": {
     "delete_cmd_postfix": "",
     "delete_cmd_prefix": "del ",
     "library": "var_list.py",
     "varRefreshCmd": "print(var_dic_list())"
    },
    "r": {
     "delete_cmd_postfix": ") ",
     "delete_cmd_prefix": "rm(",
     "library": "var_list.r",
     "varRefreshCmd": "cat(var_dic_list()) "
    }
   },
   "position": {
    "height": "880.992px",
    "left": "980.328px",
    "right": "20px",
    "top": "137.984px",
    "width": "349.969px"
   },
   "types_to_exclude": [
    "module",
    "function",
    "builtin_function_or_method",
    "instance",
    "_Feature"
   ],
   "window_display": false
  }
 },
 "nbformat": 4,
 "nbformat_minor": 4
}
